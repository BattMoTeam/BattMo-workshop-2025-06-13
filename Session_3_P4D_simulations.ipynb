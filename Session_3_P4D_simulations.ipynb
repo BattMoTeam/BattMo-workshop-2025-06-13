{
 "cells": [
  {
   "cell_type": "markdown",
   "id": "b74ca38d",
   "metadata": {},
   "source": [
    "# Session 3 - P4D Simulations"
   ]
  },
  {
   "cell_type": "markdown",
   "id": "ff0fa504",
   "metadata": {},
   "source": [
    "Let's import BattMo and some other packages into the kernel."
   ]
  },
  {
   "cell_type": "code",
   "execution_count": null,
   "id": "93c42093",
   "metadata": {},
   "outputs": [],
   "source": [
    "using BattMo, GLMakie\n",
    "\n",
    "GLMakie.activate!(inline=false)"
   ]
  },
  {
   "cell_type": "markdown",
   "id": "5eef8e79",
   "metadata": {},
   "source": [
    "## Pouch cell"
   ]
  },
  {
   "cell_type": "code",
   "execution_count": null,
   "id": "d7a8ebda",
   "metadata": {},
   "outputs": [],
   "source": [
    "cell_parameters = load_cell_parameters(; from_default_set = \"Xu2015\")\n",
    "cycling_protocol = load_cycling_protocol(; from_default_set = \"CCDischarge\")\n",
    "model_settings = load_model_settings(; from_default_set = \"P4D_pouch\")\n",
    "simulation_settings = load_simulation_settings(; from_default_set = \"P4D_pouch\")\n",
    "\n",
    "model_setup = LithiumIonBattery(; model_settings)\n",
    "\n",
    "sim = Simulation(model_setup, cell_parameters, cycling_protocol; simulation_settings);\n",
    "output = solve(sim)\n",
    "\n",
    "plot_interactive_3d(output; colormap = :curl)"
   ]
  },
  {
   "cell_type": "markdown",
   "id": "53320194",
   "metadata": {},
   "source": [
    "## Cylindrical cell"
   ]
  },
  {
   "cell_type": "code",
   "execution_count": null,
   "id": "5c13c891",
   "metadata": {},
   "outputs": [],
   "source": [
    "cell_parameters = load_cell_parameters(; from_default_set = \"Chen2020\")\n",
    "cycling_protocol = load_cycling_protocol(; from_default_set = \"CCDischarge\")\n",
    "model_settings = load_model_settings(; from_default_set = \"P4D_cylindrical\")\n",
    "simulation_settings = load_simulation_settings(; from_default_set = \"P4D_cylindrical\")\n",
    "\n",
    "model_setup = LithiumIonBattery(; model_settings)\n",
    "\n",
    "sim = Simulation(model_setup, cell_parameters, cycling_protocol; simulation_settings);\n",
    "output = solve(sim)"
   ]
  }
 ],
 "metadata": {
  "kernelspec": {
   "display_name": "Julia 1.11.5",
   "language": "julia",
   "name": "julia-1.11"
  },
  "language_info": {
   "file_extension": ".jl",
   "mimetype": "application/julia",
   "name": "julia",
   "version": "1.11.5"
  }
 },
 "nbformat": 4,
 "nbformat_minor": 5
}
