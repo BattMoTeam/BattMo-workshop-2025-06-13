{
 "cells": [
  {
   "cell_type": "markdown",
   "id": "b74ca38d",
   "metadata": {},
   "source": [
    "# Session 3 - P4D Simulations"
   ]
  },
  {
   "cell_type": "markdown",
   "id": "ff0fa504",
   "metadata": {},
   "source": [
    "Let's import BattMo and some other packages into the kernel."
   ]
  },
  {
   "cell_type": "code",
   "execution_count": null,
   "id": "93c42093",
   "metadata": {},
   "outputs": [],
   "source": [
    "using BattMo, GLMakie, Jutul\n",
    "\n",
    "GLMakie.activate!(inline=false)"
   ]
  },
  {
   "cell_type": "markdown",
   "id": "3dd8f3da",
   "metadata": {},
   "source": [
    "## Cylindrical cell"
   ]
  },
  {
   "cell_type": "markdown",
   "id": "cba822fa",
   "metadata": {},
   "source": [
    "This example demonstrates how to set up, run and visualize a 3D cylindrical battery model. Let's first load the parameters and settings that we need and instantiate the model setup.\n"
   ]
  },
  {
   "cell_type": "code",
   "execution_count": null,
   "id": "41b76073",
   "metadata": {},
   "outputs": [],
   "source": [
    "cell_parameters     = load_cell_parameters(; from_default_set = \"Chen2020\")\n",
    "cycling_protocol    = load_cycling_protocol(; from_default_set = \"CCDischarge\")\n",
    "model_settings      = load_model_settings(; from_default_set = \"P4D_cylindrical\")\n",
    "simulation_settings = load_simulation_settings(; from_default_set = \"P4D_cylindrical\")\n",
    "\n",
    "model_setup = LithiumIonBattery(; model_settings)"
   ]
  },
  {
   "cell_type": "markdown",
   "id": "dcf93f30",
   "metadata": {},
   "source": [
    "Let's review and modify the cell parameters. We go through some of the geometrical and discretization parameters. We modify some of them to obtain a cell where the different components are easier to visualize"
   ]
  },
  {
   "cell_type": "code",
   "execution_count": null,
   "id": "4c81ca44",
   "metadata": {},
   "outputs": [],
   "source": [
    "cell_parameters[\"Cell\"][\"OuterRadius\"] = 0.010 "
   ]
  },
  {
   "cell_type": "markdown",
   "id": "aadb7b9e",
   "metadata": {},
   "source": [
    "We modify the current collector thicknesses, for visualization purpose"
   ]
  },
  {
   "cell_type": "code",
   "execution_count": null,
   "id": "c25e05f3",
   "metadata": {},
   "outputs": [],
   "source": [
    "cell_parameters[\"NegativeElectrode\"][\"CurrentCollector\"][\"Thickness\"]    = 50e-6\n",
    "cell_parameters[\"PositiveElectrode\"][\"CurrentCollector\"][\"Thickness\"]    = 50e-6"
   ]
  },
  {
   "cell_type": "markdown",
   "id": "9d018bfc",
   "metadata": {},
   "source": [
    "The tabs are part of the current collectors that connect the electrodes to the external circuit. The location of the tabs is given as a fraction length, where the length is measured along the current collector in the horizontal direction, meaning that we follow the rolling spiral. Indeed, this is the relevant length to use if we want to dispatch the current collector in a equilibrated way, where each of them will a priori collect the same amount of current. In the following, we include three tabs with one in the middle and the other at a distance such that each tab will collect one third of the current."
   ]
  },
  {
   "cell_type": "code",
   "execution_count": null,
   "id": "d497017e",
   "metadata": {},
   "outputs": [],
   "source": [
    "cell_parameters[\"NegativeElectrode\"][\"CurrentCollector\"][\"TabFractions\"] = [0.5/3, 0.5, 0.5 + 0.5/3] \n",
    "cell_parameters[\"PositiveElectrode\"][\"CurrentCollector\"][\"TabFractions\"] = [0.5/3, 0.5, 0.5 + 0.5/3]"
   ]
  },
  {
   "cell_type": "markdown",
   "id": "60b758fe",
   "metadata": {},
   "source": [
    "We set the tab width to 2 mm."
   ]
  },
  {
   "cell_type": "code",
   "execution_count": null,
   "id": "aae0d9d4",
   "metadata": {},
   "outputs": [],
   "source": [
    "cell_parameters[\"NegativeElectrode\"][\"CurrentCollector\"][\"TabWidth\"] = 0.002\n",
    "cell_parameters[\"PositiveElectrode\"][\"CurrentCollector\"][\"TabWidth\"] = 0.002"
   ]
  },
  {
   "cell_type": "markdown",
   "id": "2883d8f9",
   "metadata": {},
   "source": [
    "The angular discretization of the cell is determined by the number of angular grid points."
   ]
  },
  {
   "cell_type": "code",
   "execution_count": null,
   "id": "6c4202e0",
   "metadata": {},
   "outputs": [],
   "source": [
    "simulation_settings[\"GridResolution\"][\"Angular\"] = 30"
   ]
  },
  {
   "cell_type": "markdown",
   "id": "1d006ca5",
   "metadata": {},
   "source": [
    "Create the simulation object."
   ]
  },
  {
   "cell_type": "code",
   "execution_count": null,
   "id": "30c4286a",
   "metadata": {},
   "outputs": [],
   "source": [
    "sim = Simulation(model_setup, cell_parameters, cycling_protocol; simulation_settings);"
   ]
  },
  {
   "cell_type": "markdown",
   "id": "8b84cf12",
   "metadata": {},
   "source": [
    "We preprocess the simulation object to retrieve the grids and coupling structure, which we want to visualize prior running the simulation."
   ]
  },
  {
   "cell_type": "code",
   "execution_count": null,
   "id": "1245734f",
   "metadata": {},
   "outputs": [],
   "source": [
    "output = get_simulation_input(sim)\n",
    "grids     = output[:grids]\n",
    "couplings = output[:couplings]"
   ]
  },
  {
   "cell_type": "markdown",
   "id": "811188de",
   "metadata": {},
   "source": [
    "#### Plotting the grid"
   ]
  },
  {
   "cell_type": "markdown",
   "id": "9c38742f",
   "metadata": {},
   "source": [
    "Let's visualize the grids and couplings. Define a list of the component to iterate over in the ploting routin below."
   ]
  },
  {
   "cell_type": "code",
   "execution_count": null,
   "id": "98d08761",
   "metadata": {},
   "outputs": [],
   "source": [
    "components = [\"NegativeElectrode\", \"PositiveElectrode\", \"NegativeCurrentCollector\", \"PositiveCurrentCollector\" ]\n",
    "colors = [:gray, :green, :blue, :black]"
   ]
  },
  {
   "cell_type": "markdown",
   "id": "5587305e",
   "metadata": {},
   "source": [
    "We plot the components."
   ]
  },
  {
   "cell_type": "code",
   "execution_count": null,
   "id": "05bf1d2d",
   "metadata": {},
   "outputs": [],
   "source": [
    "for (i, component) in enumerate(components)\n",
    "    if i == 1\n",
    "        global fig, ax = plot_mesh(grids[component],\n",
    "                            color = colors[i])\n",
    "    else\n",
    "        plot_mesh!(ax,\n",
    "                   grids[component],\n",
    "                   color = colors[i])\n",
    "    end\n",
    "end\n",
    "fig"
   ]
  },
  {
   "cell_type": "markdown",
   "id": "c08ad490",
   "metadata": {},
   "source": [
    "We plot the tabs, which couple the current collectors with the external circuits. The tabs will typically protude from the cell in the vertical directions but we can neglect this 3d feature in the simulation model. The tabs are then represented by horizontal faces at the top or bottom of the current collectors. In the figure below, they are plotted in red."
   ]
  },
  {
   "cell_type": "code",
   "execution_count": null,
   "id": "70bfb6d5",
   "metadata": {},
   "outputs": [],
   "source": [
    "components = [\n",
    "    \"NegativeCurrentCollector\",\n",
    "    \"PositiveCurrentCollector\"\n",
    "]\n",
    "\n",
    "for component in components\n",
    "    plot_mesh!(ax, grids[component];\n",
    "               boundaryfaces = couplings[component][\"External\"][\"boundaryfaces\"],\n",
    "               color = :red)\n",
    "end\n",
    "\n",
    "fig #hide\n",
    "\n",
    "ax.azimuth[] = 4.0\n",
    "ax.elevation[] = 1.56\n",
    "\n",
    "fig"
   ]
  },
  {
   "cell_type": "markdown",
   "id": "0d268244",
   "metadata": {},
   "source": [
    "#### Simulation"
   ]
  },
  {
   "cell_type": "markdown",
   "id": "f166f4c9",
   "metadata": {},
   "source": [
    "We reload the original parameters"
   ]
  },
  {
   "cell_type": "code",
   "execution_count": null,
   "id": "97cd90ac",
   "metadata": {},
   "outputs": [],
   "source": [
    "cell_parameters     = load_cell_parameters(; from_default_set = \"Chen2020\")\n",
    "cycling_protocol    = load_cycling_protocol(; from_default_set = \"CCDischarge\")\n",
    "model_settings      = load_model_settings(; from_default_set = \"P4D_cylindrical\")\n",
    "simulation_settings = load_simulation_settings(; from_default_set = \"P4D_cylindrical\")"
   ]
  },
  {
   "cell_type": "markdown",
   "id": "fa36b31a",
   "metadata": {},
   "source": [
    "We adjust the parameters so that the simulation in this example is not too long (around a couple of minutes)"
   ]
  },
  {
   "cell_type": "code",
   "execution_count": null,
   "id": "75a20b61",
   "metadata": {},
   "outputs": [],
   "source": [
    "cell_parameters[\"Cell\"][\"OuterRadius\"] = 0.004 \n",
    "cell_parameters[\"NegativeElectrode\"][\"CurrentCollector\"][\"TabFractions\"] = [0.5] \n",
    "cell_parameters[\"PositiveElectrode\"][\"CurrentCollector\"][\"TabFractions\"] = [0.5] \n",
    "cell_parameters[\"NegativeElectrode\"][\"CurrentCollector\"][\"TabWidth\"]     = 0.002\n",
    "cell_parameters[\"PositiveElectrode\"][\"CurrentCollector\"][\"TabWidth\"]     = 0.002\n",
    "simulation_settings[\"GridResolution\"][\"Angular\"] = 8"
   ]
  },
  {
   "cell_type": "markdown",
   "id": "1329dc7f",
   "metadata": {},
   "source": [
    "We setup the simulation and run it"
   ]
  },
  {
   "cell_type": "code",
   "execution_count": null,
   "id": "1a19b4a4",
   "metadata": {},
   "outputs": [],
   "source": [
    "sim = Simulation(model_setup, cell_parameters, cycling_protocol; simulation_settings);\n",
    "output = solve(sim; info_level = -1)"
   ]
  },
  {
   "cell_type": "markdown",
   "id": "ede84957",
   "metadata": {},
   "source": [
    "#### Visualize results"
   ]
  },
  {
   "cell_type": "markdown",
   "id": "6fcd928b",
   "metadata": {},
   "source": [
    "Let's plot the voltage and current profiles."
   ]
  },
  {
   "cell_type": "code",
   "execution_count": null,
   "id": "981a8fea",
   "metadata": {},
   "outputs": [],
   "source": [
    "plot_dashboard(output, \"simple\")"
   ]
  },
  {
   "cell_type": "markdown",
   "id": "fce8da1b",
   "metadata": {},
   "source": [
    "To show the results on the 3D geometry we have a really cool tool using Jutul that can be executed by the folowing function."
   ]
  },
  {
   "cell_type": "code",
   "execution_count": null,
   "id": "18f7f89b",
   "metadata": {},
   "outputs": [],
   "source": [
    "plot_interactive_3d(output; colormap = :curl)"
   ]
  },
  {
   "cell_type": "markdown",
   "id": "5eef8e79",
   "metadata": {},
   "source": [
    "## Pouch cell"
   ]
  },
  {
   "cell_type": "markdown",
   "id": "b25fe437",
   "metadata": {},
   "source": [
    "- C : electrolyte concentration\n",
    "- Cp: particle concentration\n",
    "- Cs: surface concentration\n",
    "- Phi: potential"
   ]
  },
  {
   "cell_type": "code",
   "execution_count": 2,
   "id": "15bc12dc",
   "metadata": {},
   "outputs": [
    {
     "data": {
      "text/plain": [
       "{\n",
       "    \"Electrolyte\" =>     {\n",
       "        \"TransferenceNumber\" => 0.363\n",
       "        \"Description\" => \"1.5 mol/l LiPF6 dissolved in a mixture of ethylene carbonate (EC):  dimethyl carbonate (DMC) (1:1)\"\n",
       "        \"DiffusionCoefficient\" =>         {\n",
       "            \"FilePath\" => \"function_parameters_Xu2015.jl\"\n",
       "            \"FunctionName\" => \"electrolyte_diffusivity_Xu_2015\"\n",
       "        }\n",
       "        \"IonicConductivity\" =>         {\n",
       "            \"FilePath\" => \"function_parameters_Xu2015.jl\"\n",
       "            \"FunctionName\" => \"electrolyte_conductivity_Xu_2015\"\n",
       "        }\n",
       "        \"Density\" => 1210\n",
       "        \"ChargeNumber\" => 1\n",
       "        \"Concentration\" => 1500\n",
       "    }\n",
       "    \"Cell\" =>     {\n",
       "        \"ElectrodeGeometricSurfaceArea\" => 0.007035\n",
       "        \"NominalCapacity\" => 16.5\n",
       "        \"ElectrodeWidth\" => 0.067\n",
       "        \"ElectrodeLength\" => 0.105\n",
       "        \"Name\" => \"LP2770120\"\n",
       "        \"Case\" => \"Pouch\"\n",
       "        \"NominalVoltage\" => 3.2\n",
       "    }\n",
       "    \"Metadata\" =>     {\n",
       "        \"Description\" => \"Parameter set of a commercial Type LP2770120 prismatic LiFePO4/graphite cell, for an electrochemical pseudo-two-dimensional (P2D) model.\"\n",
       "        \"Source\" => \"https://doi.org/10.1016/j.energy.2014.11.073\"\n",
       "        \"Models\" =>         {\n",
       "            \"CurrentCollectors\" => \"Generic\"\n",
       "            \"RampUp\" => \"Sinusoidal\"\n",
       "            \"TransportInSolid\" => \"FullDiffusion\"\n",
       "            \"ModelFramework\" => Any[\"P2D\", \"P4D Pouch\"]\n",
       "        }\n",
       "        \"Title\" => \"Xu2015\"\n",
       "    }\n",
       "    \"PositiveElectrode\" =>     {\n",
       "        \"ActiveMaterial\" =>         {\n",
       "            \"ActivationEnergyOfDiffusion\" => 20000\n",
       "            \"NumberOfElectronsTransfered\" => 1\n",
       "            \"StoichiometricCoefficientAtSOC0\" => 0.999\n",
       "            \"OpenCircuitPotential\" =>             {\n",
       "                \"FilePath\" => \"function_parameters_Xu2015.jl\"\n",
       "                \"FunctionName\" => \"open_circuit_potential_lfp_Xu_2015\"\n",
       "            }\n",
       "            \"ReactionRateConstant\" => 3.626e-11\n",
       "            \"MassFraction\" => 1.0\n",
       "            \"StoichiometricCoefficientAtSOC100\" => 0.14778\n",
       "            \"ActivationEnergyOfReaction\" => 4000\n",
       "            \"MaximumConcentration\" => 26390\n",
       "            \"VolumetricSurfaceArea\" => 1878261\n",
       "            \"Description\" => \"LiFePO4\"\n",
       "            \"DiffusionCoefficient\" => 1.25e-15\n",
       "            \"ParticleRadius\" => 1.15e-6\n",
       "            \"Density\" => 1500\n",
       "            \"ElectronicConductivity\" => 0.01\n",
       "            \"ChargeTransferCoefficient\" => 0.5\n",
       "        }\n",
       "        \"ElectrodeCoating\" =>         {\n",
       "            \"BruggemanCoefficient\" => 1.5\n",
       "            \"EffectiveDensity\" => 1080\n",
       "            \"Thickness\" => 9.2e-5\n",
       "        }\n",
       "        \"Binder\" =>         {\n",
       "            \"Description\" => \"Unknown\"\n",
       "            \"MassFraction\" => 0.0\n",
       "            \"Density\" => 1100.0\n",
       "            \"ElectronicConductivity\" => 100.0\n",
       "        }\n",
       "        \"CurrentCollector\" =>         {\n",
       "            \"Description\" => \"Aluminum\"\n",
       "            \"TabLength\" => 0.01\n",
       "            \"Density\" => 2700\n",
       "            \"ElectronicConductivity\" => 3.83e7\n",
       "            \"Thickness\" => 1.6e-5\n",
       "            \"TabWidth\" => 0.015\n",
       "        }\n",
       "        \"ConductiveAdditive\" =>         {\n",
       "            \"Description\" => \"Unknown\"\n",
       "            \"MassFraction\" => 0.0\n",
       "            \"Density\" => 1950.0\n",
       "            \"ElectronicConductivity\" => 100.0\n",
       "        }\n",
       "    }\n",
       "    \"Separator\" =>     {\n",
       "        \"Density\" => 779\n",
       "        \"BruggemanCoefficient\" => 1.5\n",
       "        \"Thickness\" => 2.0e-5\n",
       "        \"Porosity\" => 0.4\n",
       "    }\n",
       "    \"NegativeElectrode\" =>     {\n",
       "        \"ActiveMaterial\" =>         {\n",
       "            \"ActivationEnergyOfDiffusion\" => 4000\n",
       "            \"NumberOfElectronsTransfered\" => 1\n",
       "            \"StoichiometricCoefficientAtSOC0\" => 0.001\n",
       "            \"OpenCircuitPotential\" =>             {\n",
       "                \"FilePath\" => \"function_parameters_Xu2015.jl\"\n",
       "                \"FunctionName\" => \"open_circuit_potential_graphite_Xu_2015\"\n",
       "            }\n",
       "            \"ReactionRateConstant\" => 1.764e-11\n",
       "            \"MassFraction\" => 1.0\n",
       "            \"StoichiometricCoefficientAtSOC100\" => 0.51873811\n",
       "            \"ActivationEnergyOfReaction\" => 4000\n",
       "            \"MaximumConcentration\" => 31540\n",
       "            \"VolumetricSurfaceArea\" => 142373\n",
       "            \"Description\" => \"Graphite\"\n",
       "            \"DiffusionCoefficient\" => 3.9e-14\n",
       "            \"ParticleRadius\" => 1.475e-5\n",
       "            \"Density\" => 2660\n",
       "            \"ElectronicConductivity\" => 2\n",
       "            \"ChargeTransferCoefficient\" => 0.5\n",
       "        }\n",
       "        \"ElectrodeCoating\" =>         {\n",
       "            \"BruggemanCoefficient\" => 1.5\n",
       "            \"EffectiveDensity\" => 1862\n",
       "            \"Thickness\" => 5.9e-5\n",
       "        }\n",
       "        \"Binder\" =>         {\n",
       "            \"Description\" => \"Unknown\"\n",
       "            \"MassFraction\" => 0.0\n",
       "            \"Density\" => 1100.0\n",
       "            \"ElectronicConductivity\" => 100.0\n",
       "        }\n",
       "        \"CurrentCollector\" =>         {\n",
       "            \"Description\" => \"Copper\"\n",
       "            \"TabLength\" => 0.01\n",
       "            \"Density\" => 8900\n",
       "            \"ElectronicConductivity\" => 6.33e7\n",
       "            \"Thickness\" => 9.0e-6\n",
       "            \"TabWidth\" => 0.015\n",
       "        }\n",
       "        \"ConductiveAdditive\" =>         {\n",
       "            \"Description\" => \"Unknown\"\n",
       "            \"MassFraction\" => 0.0\n",
       "            \"Density\" => 1950.0\n",
       "            \"ElectronicConductivity\" => 100.0\n",
       "        }\n",
       "    }\n",
       "}"
      ]
     },
     "metadata": {},
     "output_type": "display_data"
    }
   ],
   "source": [
    "cell_parameters = load_cell_parameters(; from_default_set = \"Xu2015\")\n"
   ]
  },
  {
   "cell_type": "code",
   "execution_count": 3,
   "id": "d7a8ebda",
   "metadata": {},
   "outputs": [
    {
     "name": "stdout",
     "output_type": "stream",
     "text": [
      "✔️ Validation of ModelSettings passed: No issues found.\n",
      "──────────────────────────────────────────────────\n",
      "✔️ Validation of CellParameters passed: No issues found.\n",
      "──────────────────────────────────────────────────\n",
      "✔️ Validation of CyclingProtocol passed: No issues found.\n",
      "──────────────────────────────────────────────────\n",
      "✔️ Validation of SimulationSettings passed: No issues found.\n",
      "──────────────────────────────────────────────────\n",
      "\u001b[92;1mJutul:\u001b[0m Simulating 2 hours, 12 minutes as 163 report steps\n"
     ]
    },
    {
     "name": "stderr",
     "output_type": "stream",
     "text": [
      "\u001b[32mProgress   1%|█                                          |  ETA: 0:47:40\u001b[39m\u001b[K\n",
      "\n",
      "\u001b[32mProgress   7%|████                                       |  ETA: 0:07:46\u001b[39m\u001b[K\n",
      "\n",
      "\u001b[32mProgress   9%|████                                       |  ETA: 0:06:36\u001b[39m\u001b[K\n",
      "\n",
      "\u001b[32mProgress  10%|█████                                      |  ETA: 0:05:44\u001b[39m\u001b[K\n",
      "\n",
      "\u001b[32mProgress  11%|█████                                      |  ETA: 0:05:03\u001b[39m\u001b[K\n",
      "\n",
      "\u001b[32mProgress  12%|██████                                     |  ETA: 0:04:30\u001b[39m\u001b[K\n",
      "\n",
      "\u001b[32mProgress  13%|██████                                     |  ETA: 0:04:03\u001b[39m\u001b[K\n",
      "\n",
      "\u001b[32mProgress  15%|███████                                    |  ETA: 0:03:40\u001b[39m\u001b[K\n",
      "\n",
      "\u001b[32mProgress  16%|███████                                    |  ETA: 0:03:21\u001b[39m\u001b[K\n",
      "\n",
      "\u001b[32mProgress  17%|████████                                   |  ETA: 0:03:05\u001b[39m\u001b[K\n",
      "\n",
      "\u001b[32mProgress  18%|████████                                   |  ETA: 0:02:51\u001b[39m\u001b[K\n",
      "\n",
      "\u001b[32mProgress  20%|█████████                                  |  ETA: 0:02:38\u001b[39m\u001b[K\n",
      "\n",
      "\u001b[32mProgress  21%|█████████                                  |  ETA: 0:02:27\u001b[39m\u001b[K\n",
      "\n",
      "\u001b[32mProgress  21%|██████████                                 |  ETA: 0:02:22\u001b[39m\u001b[K\n",
      "\n",
      "\u001b[32mProgress  22%|██████████                                 |  ETA: 0:02:20\u001b[39m\u001b[K\n",
      "\n",
      "\u001b[32mProgress  23%|██████████                                 |  ETA: 0:02:11\u001b[39m\u001b[K\n",
      "\n",
      "\u001b[32mProgress  24%|███████████                                |  ETA: 0:02:03\u001b[39m\u001b[K\n",
      "\n",
      "\u001b[32mProgress  26%|████████████                               |  ETA: 0:01:55\u001b[39m\u001b[K\n",
      "\n",
      "\u001b[32mProgress  27%|████████████                               |  ETA: 0:01:49\u001b[39m\u001b[K\n",
      "\n",
      "\u001b[32mProgress  28%|█████████████                              |  ETA: 0:01:43\u001b[39m\u001b[K\n",
      "\n",
      "\u001b[32mProgress  29%|█████████████                              |  ETA: 0:01:37\u001b[39m\u001b[K\n",
      "\n",
      "\u001b[32mProgress  30%|██████████████                             |  ETA: 0:01:32\u001b[39m\u001b[K\n",
      "\n",
      "\u001b[32mProgress  32%|██████████████                             |  ETA: 0:01:27\u001b[39m\u001b[K\n",
      "\n",
      "\u001b[32mProgress  33%|███████████████                            |  ETA: 0:01:23\u001b[39m\u001b[K\n",
      "\n",
      "\u001b[32mProgress  34%|███████████████                            |  ETA: 0:01:18\u001b[39m\u001b[K\n",
      "\n",
      "\u001b[32mProgress  35%|████████████████                           |  ETA: 0:01:15\u001b[39m\u001b[K\n",
      "\n",
      "\u001b[32mProgress  37%|████████████████                           |  ETA: 0:01:11\u001b[39m\u001b[K\n",
      "\n",
      "\u001b[32mProgress  38%|█████████████████                          |  ETA: 0:01:08\u001b[39m\u001b[K\n",
      "\n",
      "\u001b[32mProgress  39%|█████████████████                          |  ETA: 0:01:05\u001b[39m\u001b[K\n",
      "\n",
      "\u001b[32mProgress  40%|██████████████████                         |  ETA: 0:01:02\u001b[39m\u001b[K\n",
      "\n",
      "\u001b[32mProgress  41%|██████████████████                         |  ETA: 0:00:59\u001b[39m\u001b[K\n",
      "\n",
      "\u001b[32mProgress  43%|███████████████████                        |  ETA: 0:00:56\u001b[39m\u001b[K\n",
      "\n",
      "\u001b[32mProgress  44%|███████████████████                        |  ETA: 0:00:54\u001b[39m\u001b[K\n",
      "\n",
      "\u001b[32mProgress  45%|████████████████████                       |  ETA: 0:00:51\u001b[39m\u001b[K\n",
      "\n",
      "\u001b[32mProgress  46%|████████████████████                       |  ETA: 0:00:49\u001b[39m\u001b[K\n",
      "\n",
      "\u001b[32mProgress  48%|█████████████████████                      |  ETA: 0:00:47\u001b[39m\u001b[K\n",
      "\n",
      "\u001b[32mProgress  49%|█████████████████████                      |  ETA: 0:00:45\u001b[39m\u001b[K\n",
      "\n",
      "\u001b[32mProgress  50%|██████████████████████                     |  ETA: 0:00:43\u001b[39m\u001b[K\n",
      "\n",
      "\u001b[32mProgress  51%|███████████████████████                    |  ETA: 0:00:41\u001b[39m\u001b[K\n",
      "\n",
      "\u001b[32mProgress  52%|███████████████████████                    |  ETA: 0:00:39\u001b[39m\u001b[K\n",
      "\n",
      "\u001b[32mProgress  54%|████████████████████████                   |  ETA: 0:00:37\u001b[39m\u001b[K\n",
      "\n",
      "\u001b[32mProgress  55%|████████████████████████                   |  ETA: 0:00:36\u001b[39m\u001b[K\n",
      "\n",
      "\u001b[32mProgress  56%|█████████████████████████                  |  ETA: 0:00:34\u001b[39m\u001b[K\n",
      "\n",
      "\u001b[32mProgress  57%|█████████████████████████                  |  ETA: 0:00:32\u001b[39m\u001b[K\n",
      "\n",
      "\u001b[32mProgress  59%|██████████████████████████                 |  ETA: 0:00:31\u001b[39m\u001b[K\n",
      "\n",
      "\u001b[32mProgress  60%|██████████████████████████                 |  ETA: 0:00:30\u001b[39m\u001b[K\n",
      "\n",
      "\u001b[32mProgress  61%|███████████████████████████                |  ETA: 0:00:28\u001b[39m\u001b[K\n",
      "\n",
      "\u001b[32mProgress  62%|███████████████████████████                |  ETA: 0:00:27\u001b[39m\u001b[K\n",
      "\n",
      "\u001b[32mProgress  63%|████████████████████████████               |  ETA: 0:00:26\u001b[39m\u001b[K\n",
      "\n",
      "\u001b[32mProgress  64%|████████████████████████████               |  ETA: 0:00:25\u001b[39m\u001b[K\n",
      "\n",
      "\u001b[32mProgress  65%|█████████████████████████████              |  ETA: 0:00:24\u001b[39m\u001b[K\n",
      "\n",
      "\u001b[32mProgress  66%|█████████████████████████████              |  ETA: 0:00:23\u001b[39m\u001b[K\n",
      "\n",
      "\u001b[32mProgress  68%|██████████████████████████████             |  ETA: 0:00:22\u001b[39m\u001b[K\n",
      "\n",
      "\u001b[32mProgress  69%|██████████████████████████████             |  ETA: 0:00:20\u001b[39m\u001b[K\n",
      "\n",
      "\u001b[32mProgress  70%|███████████████████████████████            |  ETA: 0:00:19\u001b[39m\u001b[K\n",
      "\n",
      "\u001b[32mProgress  71%|███████████████████████████████            |  ETA: 0:00:18\u001b[39m\u001b[K\n",
      "\n",
      "\u001b[32mProgress  73%|████████████████████████████████           |  ETA: 0:00:17\u001b[39m\u001b[K\n",
      "\n",
      "\u001b[32mProgress  74%|████████████████████████████████           |  ETA: 0:00:16\u001b[39m\u001b[K\n",
      "\n",
      "\u001b[32mProgress  75%|█████████████████████████████████          |  ETA: 0:00:15\u001b[39m\u001b[K\n",
      "\n",
      "\u001b[32mProgress  76%|█████████████████████████████████          |  ETA: 0:00:14\u001b[39m\u001b[K\n",
      "\n",
      "\u001b[32mProgress  77%|██████████████████████████████████         |  ETA: 0:00:13\u001b[39m\u001b[K\n",
      "\n",
      "\u001b[32mProgress  79%|██████████████████████████████████         |  ETA: 0:00:13\u001b[39m\u001b[K\n",
      "\n",
      "\u001b[32mProgress  79%|███████████████████████████████████        |  ETA: 0:00:12\u001b[39m\u001b[K\n",
      "\n",
      "\u001b[32mProgress  80%|███████████████████████████████████        |  ETA: 0:00:11\u001b[39m\u001b[K\n",
      "\n",
      "\u001b[32mProgress  81%|███████████████████████████████████        |  ETA: 0:00:11\u001b[39m\u001b[K\n",
      "\n",
      "\u001b[32mProgress  82%|████████████████████████████████████       |  ETA: 0:00:10\u001b[39m\u001b[K\n",
      "\n",
      "\u001b[32mProgress  84%|████████████████████████████████████       |  ETA: 0:00:09\u001b[39m\u001b[K\n",
      "\n",
      "\u001b[32mProgress  84%|█████████████████████████████████████      |  ETA: 0:00:09\u001b[39m\u001b[K\n",
      "\n",
      "\u001b[32mProgress  85%|█████████████████████████████████████      |  ETA: 0:00:09\u001b[39m\u001b[K\n",
      "\n",
      "\u001b[32mProgress 100%|███████████████████████████████████████████| Time: 0:00:48\u001b[39m\u001b[K\n"
     ]
    },
    {
     "name": "stdout",
     "output_type": "stream",
     "text": [
      "╭────────────────┬───────────┬───────────────┬──────────╮\n",
      "│\u001b[1m Iteration type \u001b[0m│\u001b[1m  Avg/step \u001b[0m│\u001b[1m  Avg/ministep \u001b[0m│\u001b[1m    Total \u001b[0m│\n",
      "│\u001b[1m                \u001b[0m│\u001b[90m 138 steps \u001b[0m│\u001b[90m 138 ministeps \u001b[0m│\u001b[90m (wasted) \u001b[0m│\n",
      "├────────────────┼───────────┼───────────────┼──────────┤\n",
      "│\u001b[1m Newton         \u001b[0m│   2.13043 │       2.13043 │  294 (0) │\n",
      "│\u001b[1m Linearization  \u001b[0m│   3.13043 │       3.13043 │  432 (0) │\n",
      "│\u001b[1m Linear solver  \u001b[0m│   2.13043 │       2.13043 │  294 (0) │\n",
      "│\u001b[1m Precond apply  \u001b[0m│       0.0 │           0.0 │    0 (0) │\n",
      "╰────────────────┴───────────┴───────────────┴──────────╯\n",
      "╭───────────────┬──────────┬────────────┬─────────╮\n",
      "│\u001b[1m Timing type   \u001b[0m│\u001b[1m     Each \u001b[0m│\u001b[1m   Relative \u001b[0m│\u001b[1m   Total \u001b[0m│\n",
      "│\u001b[1m               \u001b[0m│\u001b[90m       ms \u001b[0m│\u001b[90m Percentage \u001b[0m│\u001b[90m       s \u001b[0m│\n",
      "├───────────────┼──────────┼────────────┼─────────┤\n",
      "│\u001b[1m Properties    \u001b[0m│   5.6942 │     3.80 % │  1.6741 │\n",
      "│\u001b[1m Equations     \u001b[0m│  30.0160 │    29.43 % │ 12.9669 │\n",
      "│\u001b[1m Assembly      \u001b[0m│  12.2251 │    11.99 % │  5.2813 │\n",
      "│\u001b[1m Linear solve  \u001b[0m│  27.4901 │    18.34 % │  8.0821 │\n",
      "│\u001b[1m Linear setup  \u001b[0m│   0.0000 │     0.00 % │  0.0000 │\n",
      "│\u001b[1m Precond apply \u001b[0m│   0.0000 │     0.00 % │  0.0000 │\n",
      "│\u001b[1m Update        \u001b[0m│   9.6894 │     6.47 % │  2.8487 │\n",
      "│\u001b[1m Convergence   \u001b[0m│  18.9276 │    18.56 % │  8.1767 │\n",
      "│\u001b[1m Input/Output  \u001b[0m│   3.1061 │     0.97 % │  0.4286 │\n",
      "│\u001b[1m Other         \u001b[0m│  15.6505 │    10.44 % │  4.6013 │\n",
      "├───────────────┼──────────┼────────────┼─────────┤\n",
      "│\u001b[1m Total         \u001b[0m│ 149.8628 │   100.00 % │ 44.0597 │\n",
      "╰───────────────┴──────────┴────────────┴─────────╯\n"
     ]
    }
   ],
   "source": [
    "\n",
    "cycling_protocol = load_cycling_protocol(; from_default_set = \"CCDischarge\")\n",
    "model_settings = load_model_settings(; from_default_set = \"P4D_pouch\")\n",
    "simulation_settings = load_simulation_settings(; from_default_set = \"P4D_pouch\")\n",
    "\n",
    "model_setup = LithiumIonBattery(; model_settings)\n",
    "\n",
    "sim = Simulation(model_setup, cell_parameters, cycling_protocol; simulation_settings);\n",
    "output = solve(sim)\n",
    "\n",
    "plot_interactive_3d(output; colormap = :curl)"
   ]
  }
 ],
 "metadata": {
  "kernelspec": {
   "display_name": "Julia 1.11.5",
   "language": "julia",
   "name": "julia-1.11"
  },
  "language_info": {
   "file_extension": ".jl",
   "mimetype": "application/julia",
   "name": "julia",
   "version": "1.11.5"
  }
 },
 "nbformat": 4,
 "nbformat_minor": 5
}
