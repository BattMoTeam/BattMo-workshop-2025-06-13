{
 "cells": [
  {
   "cell_type": "markdown",
   "id": "b74ca38d",
   "metadata": {},
   "source": [
    "# Session 3 - P4D Simulations"
   ]
  },
  {
   "cell_type": "markdown",
   "id": "ff0fa504",
   "metadata": {},
   "source": [
    "Let's activate our previously created environment and import BattMo into the kernel."
   ]
  },
  {
   "cell_type": "code",
   "execution_count": 1,
   "id": "93c42093",
   "metadata": {},
   "outputs": [
    {
     "name": "stderr",
     "output_type": "stream",
     "text": [
      "\u001b[32m\u001b[1m  Activating\u001b[22m\u001b[39m project at `c:\\Users\\lorenah\\Documents\\Repositories\\BattMo-workshop-2025-06-13`\n"
     ]
    }
   ],
   "source": [
    "import Pkg\n",
    "Pkg.activate(\"../\") # Activates the environment in the current folder\n",
    "\n",
    "using BattMo, GLMakie"
   ]
  },
  {
   "cell_type": "code",
   "execution_count": null,
   "id": "d7a8ebda",
   "metadata": {},
   "outputs": [],
   "source": [
    "cell_parameters = load_cell_parameters(; from_default_set = \"Xu2015\")\n",
    "cycling_protocol = load_cycling_protocol(; from_default_set = \"CCDischarge\")\n",
    "model_settings = load_model_settings(; from_default_set = \"P4D_pouch\")\n",
    "simulation_settings = load_simulation_settings(; from_default_set = \"P4D_pouch\")\n",
    "\n",
    "model_setup = LithiumIonBattery(; model_settings)\n",
    "\n",
    "sim = Simulation(model_setup, cell_parameters, cycling_protocol; simulation_settings);\n",
    "output = solve(sim)\n",
    "\n",
    "plot_3D_results(output; colormap = :curl)"
   ]
  }
 ],
 "metadata": {
  "kernelspec": {
   "display_name": "Julia 1.11.3",
   "language": "julia",
   "name": "julia-1.11"
  },
  "language_info": {
   "file_extension": ".jl",
   "mimetype": "application/julia",
   "name": "julia",
   "version": "1.11.3"
  }
 },
 "nbformat": 4,
 "nbformat_minor": 5
}
