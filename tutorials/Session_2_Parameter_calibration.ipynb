{
 "cells": [
  {
   "cell_type": "markdown",
   "id": "c0f226f2",
   "metadata": {},
   "source": [
    "# Session 2 - Parameter Calibration"
   ]
  },
  {
   "cell_type": "markdown",
   "id": "224b4d0f",
   "metadata": {},
   "source": [
    "Let's import BattMo and some other packages into the kernel."
   ]
  },
  {
   "cell_type": "code",
   "execution_count": 1,
   "id": "660020ab",
   "metadata": {},
   "outputs": [],
   "source": [
    "using BattMo, GLMakie, CSV, DataFrames, Jutul"
   ]
  },
  {
   "cell_type": "markdown",
   "id": "ded96465",
   "metadata": {},
   "source": [
    "This example demonstrates how to calibrate a lithium-ion battery against datamodel using BattMo.jl. The example uses a two-step calibration process:\n",
    "1. We first calibrate the model against a 0.5C discharge curve (adjusting stoichiometric coefficients and maximum concentration in the active material)\n",
    "2. We then calibrate the model against a 2.0C discharge curve (adjusting reaction rate constants and diffusion coefficients in the active material)\n",
    "\n",
    "Finally, we compare the results of the calibrated model against the experimental data for discharge rates of 0.5C, 1.0C, and 2.0C."
   ]
  },
  {
   "cell_type": "markdown",
   "id": "35be69cd",
   "metadata": {},
   "source": [
    "### Load the experimental data and set up a base case"
   ]
  },
  {
   "cell_type": "code",
   "execution_count": 2,
   "id": "31144a27",
   "metadata": {},
   "outputs": [
    {
     "data": {
      "text/plain": [
       "3-element Vector{DataFrame}:\n",
       " \u001b[1m20×2 DataFrame\u001b[0m\n",
       "\u001b[1m Row \u001b[0m│\u001b[1m 0        \u001b[0m\u001b[1m  3.3861097472267683 \u001b[0m\n",
       "     │\u001b[90m Float64  \u001b[0m\u001b[90m Float64             \u001b[0m\n",
       "─────┼───────────────────────────────\n",
       "   1 │  357.766              3.29433\n",
       "   2 │  715.976              3.26386\n",
       "   3 │ 1074.19               3.2519\n",
       "   4 │ 1432.4                3.24463\n",
       "   5 │ 1790.61               3.24649\n",
       "   6 │ 2148.82               3.24575\n",
       "   7 │ 2507.03               3.24625\n",
       "   8 │ 2877.59               3.24726\n",
       "  ⋮  │    ⋮               ⋮\n",
       "  14 │ 5026.85               3.22731\n",
       "  15 │ 5385.06               3.21844\n",
       "  16 │ 5743.27               3.21746\n",
       "  17 │ 6101.48               3.19921\n",
       "  18 │ 6472.04               3.17788\n",
       "  19 │ 6817.9                2.88079\n",
       "  20 │ 7188.46               2.17905\n",
       "\u001b[36m                       5 rows omitted\u001b[0m\n",
       " \u001b[1m20×2 DataFrame\u001b[0m\n",
       "\u001b[1m Row \u001b[0m│\u001b[1m 0        \u001b[0m\u001b[1m  3.3861097472267683 \u001b[0m\n",
       "     │\u001b[90m Float64  \u001b[0m\u001b[90m Float64             \u001b[0m\n",
       "─────┼───────────────────────────────\n",
       "   1 │  357.766              3.29433\n",
       "   2 │  715.976              3.26386\n",
       "   3 │ 1074.19               3.2519\n",
       "   4 │ 1432.4                3.24463\n",
       "   5 │ 1790.61               3.24649\n",
       "   6 │ 2148.82               3.24575\n",
       "   7 │ 2507.03               3.24625\n",
       "   8 │ 2877.59               3.24726\n",
       "  ⋮  │    ⋮               ⋮\n",
       "  14 │ 5026.85               3.22731\n",
       "  15 │ 5385.06               3.21844\n",
       "  16 │ 5743.27               3.21746\n",
       "  17 │ 6101.48               3.19921\n",
       "  18 │ 6472.04               3.17788\n",
       "  19 │ 6817.9                2.88079\n",
       "  20 │ 7188.46               2.17905\n",
       "\u001b[36m                       5 rows omitted\u001b[0m\n",
       " \u001b[1m20×2 DataFrame\u001b[0m\n",
       "\u001b[1m Row \u001b[0m│\u001b[1m 0        \u001b[0m\u001b[1m  3.3861097472267683 \u001b[0m\n",
       "     │\u001b[90m Float64  \u001b[0m\u001b[90m Float64             \u001b[0m\n",
       "─────┼───────────────────────────────\n",
       "   1 │  357.766              3.29433\n",
       "   2 │  715.976              3.26386\n",
       "   3 │ 1074.19               3.2519\n",
       "   4 │ 1432.4                3.24463\n",
       "   5 │ 1790.61               3.24649\n",
       "   6 │ 2148.82               3.24575\n",
       "   7 │ 2507.03               3.24625\n",
       "   8 │ 2877.59               3.24726\n",
       "  ⋮  │    ⋮               ⋮\n",
       "  14 │ 5026.85               3.22731\n",
       "  15 │ 5385.06               3.21844\n",
       "  16 │ 5743.27               3.21746\n",
       "  17 │ 6101.48               3.19921\n",
       "  18 │ 6472.04               3.17788\n",
       "  19 │ 6817.9                2.88079\n",
       "  20 │ 7188.46               2.17905\n",
       "\u001b[36m                       5 rows omitted\u001b[0m"
      ]
     },
     "metadata": {},
     "output_type": "display_data"
    }
   ],
   "source": [
    "df_05 = CSV.read(\"Xu2015_data/Xu_2015_voltageCurve_05C.csv\", DataFrame)\n",
    "df_1 = CSV.read(\"Xu2015_data/Xu_2015_voltageCurve_05C.csv\", DataFrame)\n",
    "df_2 = CSV.read(\"Xu2015_data/Xu_2015_voltageCurve_05C.csv\", DataFrame)\n",
    "\n",
    "dfs = [df_05, df_1, df_2]"
   ]
  },
  {
   "cell_type": "code",
   "execution_count": 3,
   "id": "075b06d2",
   "metadata": {},
   "outputs": [
    {
     "name": "stdout",
     "output_type": "stream",
     "text": [
      "✔️ Validation of ModelSettings passed: No issues found.\n",
      "──────────────────────────────────────────────────\n",
      "✔️ Validation of CellParameters passed: No issues found.\n",
      "──────────────────────────────────────────────────\n",
      "✔️ Validation of CyclingProtocol passed: No issues found.\n",
      "──────────────────────────────────────────────────\n",
      "✔️ Validation of SimulationSettings passed: No issues found.\n",
      "──────────────────────────────────────────────────\n",
      "\u001b[92;1mJutul:\u001b[0m Simulating 2 hours, 12 minutes as 163 report steps\n"
     ]
    },
    {
     "name": "stderr",
     "output_type": "stream",
     "text": [
      "\u001b[32mProgress   1%|█                                          |  ETA: 0:33:56\u001b[39m\u001b[K\n",
      "\n",
      "\u001b[32mProgress  85%|█████████████████████████████████████      |  ETA: 0:00:05\u001b[39m\u001b[K\n",
      "\n",
      "\u001b[32mProgress 100%|███████████████████████████████████████████| Time: 0:00:26\u001b[39m\u001b[K\n"
     ]
    },
    {
     "name": "stdout",
     "output_type": "stream",
     "text": [
      "╭────────────────┬───────────┬───────────────┬──────────╮\n",
      "│\u001b[1m Iteration type \u001b[0m│\u001b[1m  Avg/step \u001b[0m│\u001b[1m  Avg/ministep \u001b[0m│\u001b[1m    Total \u001b[0m│\n",
      "│\u001b[1m                \u001b[0m│\u001b[90m 138 steps \u001b[0m│\u001b[90m 138 ministeps \u001b[0m│\u001b[90m (wasted) \u001b[0m│\n",
      "├────────────────┼───────────┼───────────────┼──────────┤\n",
      "│\u001b[1m Newton         \u001b[0m│   2.18841 │       2.18841 │  302 (0) │\n",
      "│\u001b[1m Linearization  \u001b[0m│   3.18841 │       3.18841 │  440 (0) │\n",
      "│\u001b[1m Linear solver  \u001b[0m│   2.18841 │       2.18841 │  302 (0) │\n",
      "│\u001b[1m Precond apply  \u001b[0m│       0.0 │           0.0 │    0 (0) │\n",
      "╰────────────────┴───────────┴───────────────┴──────────╯\n",
      "╭───────────────┬─────────┬────────────┬─────────╮\n",
      "│\u001b[1m Timing type   \u001b[0m│\u001b[1m    Each \u001b[0m│\u001b[1m   Relative \u001b[0m│\u001b[1m   Total \u001b[0m│\n",
      "│\u001b[1m               \u001b[0m│\u001b[90m      ms \u001b[0m│\u001b[90m Percentage \u001b[0m│\u001b[90m       s \u001b[0m│\n",
      "├───────────────┼─────────┼────────────┼─────────┤\n",
      "│\u001b[1m Properties    \u001b[0m│  0.6548 │     0.84 % │  0.1977 │\n",
      "│\u001b[1m Equations     \u001b[0m│ 16.1181 │    30.28 % │  7.0920 │\n",
      "│\u001b[1m Assembly      \u001b[0m│  7.6703 │    14.41 % │  3.3749 │\n",
      "│\u001b[1m Linear solve  \u001b[0m│  1.1876 │     1.53 % │  0.3586 │\n",
      "│\u001b[1m Linear setup  \u001b[0m│  0.0000 │     0.00 % │  0.0000 │\n",
      "│\u001b[1m Precond apply \u001b[0m│  0.0000 │     0.00 % │  0.0000 │\n",
      "│\u001b[1m Update        \u001b[0m│  6.6345 │     8.55 % │  2.0036 │\n",
      "│\u001b[1m Convergence   \u001b[0m│ 14.8768 │    27.95 % │  6.5458 │\n",
      "│\u001b[1m Input/Output  \u001b[0m│  2.2021 │     1.30 % │  0.3039 │\n",
      "│\u001b[1m Other         \u001b[0m│ 11.7360 │    15.13 % │  3.5443 │\n",
      "├───────────────┼─────────┼────────────┼─────────┤\n",
      "│\u001b[1m Total         \u001b[0m│ 77.5525 │   100.00 % │ 23.4208 │\n",
      "╰───────────────┴─────────┴────────────┴─────────╯\n"
     ]
    }
   ],
   "source": [
    "cell_parameters = load_cell_parameters(; from_default_set = \"Xu2015\")\n",
    "cycling_protocol = load_cycling_protocol(; from_default_set = \"CCDischarge\")\n",
    "\n",
    "cycling_protocol[\"LowerVoltageLimit\"] = 2.25\n",
    "model_setup = LithiumIonBattery()\n",
    "\n",
    "cycling_protocol[\"DRate\"] = 0.5\n",
    "sim = Simulation(model_setup, cell_parameters, cycling_protocol)\n",
    "output0 = solve(sim);\n",
    "\n"
   ]
  },
  {
   "cell_type": "code",
   "execution_count": 4,
   "id": "2c475e76",
   "metadata": {},
   "outputs": [],
   "source": [
    "time_series0 = get_output_time_series(output0)\n",
    "\n",
    "t0 = time_series0[:Time]\n",
    "V0 = time_series0[:Voltage]\n",
    "\n",
    "t_exp_05 = df_05[:,1]\n",
    "V_exp_05 = df_05[:,2]\n",
    "t_exp_1 = df_1[:,1]\n",
    "V_exp_1 = df_1[:,2]\n",
    "\n",
    "fig = Figure()\n",
    "ax = Axis(fig[1, 1], title = \"CRate = 0.5\", xlabel = \"Time / s\", ylabel = \"Voltage / V\")\n",
    "lines!(ax, t0, V0, label = \"Base case\")\n",
    "lines!(ax, t_exp_05, V_exp_05, label = \"Experimental data\")\n",
    "axislegend(position = :lb)\n",
    "fig"
   ]
  },
  {
   "cell_type": "markdown",
   "id": "274eebd7",
   "metadata": {},
   "source": [
    "### Set up the first calibration"
   ]
  },
  {
   "cell_type": "markdown",
   "id": "26666e51",
   "metadata": {},
   "source": [
    "We select the following parameters to calibrate:\n",
    "- \"StoichiometricCoefficientAtSOC100\" at both electrodes\n",
    "- \"StoichiometricCoefficientAtSOC0\" at both electrodes\n",
    "- \"MaximumConcentration\" of both electrodes\n",
    "\n",
    "We also set bounds for these parameters to ensure they remain physically meaningful and possible to simulate. The objective function is the sum of squares: ``\\sum_i (V_i - V_{exp,i})^2``, where ``V_i`` is the voltage from the model and ``V_{exp,i}`` is the voltage from the experimental data at step ``i``."
   ]
  },
  {
   "cell_type": "markdown",
   "id": "b507dd65",
   "metadata": {},
   "source": [
    "We print the setup as a table to give the user the opportunity to review the setup before calibration starts."
   ]
  },
  {
   "cell_type": "code",
   "execution_count": 5,
   "id": "4a215ae4",
   "metadata": {},
   "outputs": [
    {
     "data": {
      "text/plain": [
       "VoltageCalibration([357.76627218934914, 715.9763313609469, 1074.1863905325445, 1432.396449704142, 1790.6065088757396, 2148.816568047337, 2507.0266272189347, 2877.5887573964496, 3223.44674556213, 3594.0088757396447, 3952.2189349112427, 4310.42899408284, 4668.639053254437, 5026.8491124260345, 5385.059171597633, 5743.2692307692305, 6101.479289940828, 6472.041420118343, 6817.899408284024, 7188.461538461537], [3.2943262673632967, 3.2638600156322126, 3.2518999695748874, 3.2446281622882482, 3.246486083133996, 3.245753135185418, 3.246253934281757, 3.2472569925301102, 3.2356583102522136, 3.2351808720466657, 3.2359284205519883, 3.237169467875278, 3.227800290612279, 3.2273140920726844, 3.2184384136276525, 3.217458716270091, 3.1992065602836877, 3.177878797019038, 2.8807910485472883, 2.179051790010771], Simulation(BattMo.run_battery, LithiumIonBattery(\"Setup object for a P2D lithium-ion model\", {\n",
       "    \"RampUp\" => \"Sinusoidal\"\n",
       "    \"Metadata\" =>     {\n",
       "        \"Description\" => \"Default model settings for a P2D simulation including a current ramp up, excluding current collectors and SEI effects.\"\n",
       "        \"Title\" => \"P2D\"\n",
       "    }\n",
       "    \"TransportInSolid\" => \"FullDiffusion\"\n",
       "    \"ModelFramework\" => \"P2D\"\n",
       "}, true), {\n",
       "    \"Electrolyte\" =>     {\n",
       "        \"TransferenceNumber\" => 0.363\n",
       "        \"Description\" => \"1.5 mol/l LiPF6 dissolved in a mixture of ethylene carbonate (EC):  dimethyl carbonate (DMC) (1:1)\"\n",
       "        \"DiffusionCoefficient\" =>         {\n",
       "            \"FilePath\" => \"function_parameters_Xu2015.jl\"\n",
       "            \"FunctionName\" => \"electrolyte_diffusivity_Xu_2015\"\n",
       "        }\n",
       "        \"IonicConductivity\" =>         {\n",
       "            \"FilePath\" => \"function_parameters_Xu2015.jl\"\n",
       "            \"FunctionName\" => \"electrolyte_conductivity_Xu_2015\"\n",
       "        }\n",
       "        \"Density\" => 1210\n",
       "        \"ChargeNumber\" => 1\n",
       "        \"Concentration\" => 1500\n",
       "    }\n",
       "    \"Cell\" =>     {\n",
       "        \"ElectrodeGeometricSurfaceArea\" => 0.007035\n",
       "        \"NominalCapacity\" => 16.5\n",
       "        \"ElectrodeWidth\" => 0.067\n",
       "        \"ElectrodeLength\" => 0.105\n",
       "        \"Name\" => \"LP2770120\"\n",
       "        \"Case\" => \"Pouch\"\n",
       "        \"NominalVoltage\" => 3.2\n",
       "    }\n",
       "    \"Metadata\" =>     {\n",
       "        \"Description\" => \"Parameter set of a commercial Type LP2770120 prismatic LiFePO4/graphite cell, for an electrochemical pseudo-two-dimensional (P2D) model.\"\n",
       "        \"Source\" => \"https://doi.org/10.1016/j.energy.2014.11.073\"\n",
       "        \"Models\" =>         {\n",
       "            \"CurrentCollectors\" => \"Generic\"\n",
       "            \"RampUp\" => \"Sinusoidal\"\n",
       "            \"TransportInSolid\" => \"FullDiffusion\"\n",
       "            \"ModelFramework\" => Any[\"P2D\", \"P4D Pouch\"]\n",
       "        }\n",
       "        \"Title\" => \"Xu2015\"\n",
       "    }\n",
       "    \"PositiveElectrode\" =>     {\n",
       "        \"ActiveMaterial\" =>         {\n",
       "            \"ActivationEnergyOfDiffusion\" => 20000\n",
       "            \"NumberOfElectronsTransfered\" => 1\n",
       "            \"StoichiometricCoefficientAtSOC0\" => 0.999\n",
       "            \"OpenCircuitPotential\" =>             {\n",
       "                \"FilePath\" => \"function_parameters_Xu2015.jl\"\n",
       "                \"FunctionName\" => \"open_circuit_potential_lfp_Xu_2015\"\n",
       "            }\n",
       "            \"ReactionRateConstant\" => 3.626e-11\n",
       "            \"MassFraction\" => 1.0\n",
       "            \"StoichiometricCoefficientAtSOC100\" => 0.14778\n",
       "            \"ActivationEnergyOfReaction\" => 4000\n",
       "            \"MaximumConcentration\" => 26390\n",
       "            \"VolumetricSurfaceArea\" => 1878261\n",
       "            \"Description\" => \"LiFePO4\"\n",
       "            \"DiffusionCoefficient\" => 1.25e-15\n",
       "            \"ParticleRadius\" => 1.15e-6\n",
       "            \"Density\" => 1500\n",
       "            \"ElectronicConductivity\" => 0.01\n",
       "            \"ChargeTransferCoefficient\" => 0.5\n",
       "        }\n",
       "        \"ElectrodeCoating\" =>         {\n",
       "            \"BruggemanCoefficient\" => 1.5\n",
       "            \"EffectiveDensity\" => 1080\n",
       "            \"Thickness\" => 9.2e-5\n",
       "        }\n",
       "        \"Binder\" =>         {\n",
       "            \"Description\" => \"Unknown\"\n",
       "            \"MassFraction\" => 0.0\n",
       "            \"Density\" => 1100.0\n",
       "            \"ElectronicConductivity\" => 100.0\n",
       "        }\n",
       "        \"CurrentCollector\" =>         {\n",
       "            \"Description\" => \"Aluminum\"\n",
       "            \"TabLength\" => 0.01\n",
       "            \"Density\" => 2700\n",
       "            \"ElectronicConductivity\" => 3.83e7\n",
       "            \"Thickness\" => 1.6e-5\n",
       "            \"TabWidth\" => 0.015\n",
       "        }\n",
       "        \"ConductiveAdditive\" =>         {\n",
       "            \"Description\" => \"Unknown\"\n",
       "            \"MassFraction\" => 0.0\n",
       "            \"Density\" => 1950.0\n",
       "            \"ElectronicConductivity\" => 100.0\n",
       "        }\n",
       "    }\n",
       "    \"Separator\" =>     {\n",
       "        \"Density\" => 779\n",
       "        \"BruggemanCoefficient\" => 1.5\n",
       "        \"Thickness\" => 2.0e-5\n",
       "        \"Porosity\" => 0.4\n",
       "    }\n",
       "    \"NegativeElectrode\" =>     {\n",
       "        \"ActiveMaterial\" =>         {\n",
       "            \"ActivationEnergyOfDiffusion\" => 4000\n",
       "            \"NumberOfElectronsTransfered\" => 1\n",
       "            \"StoichiometricCoefficientAtSOC0\" => 0.001\n",
       "            \"OpenCircuitPotential\" =>             {\n",
       "                \"FilePath\" => \"function_parameters_Xu2015.jl\"\n",
       "                \"FunctionName\" => \"open_circuit_potential_graphite_Xu_2015\"\n",
       "            }\n",
       "            \"ReactionRateConstant\" => 1.764e-11\n",
       "            \"MassFraction\" => 1.0\n",
       "            \"StoichiometricCoefficientAtSOC100\" => 0.51873811\n",
       "            \"ActivationEnergyOfReaction\" => 4000\n",
       "            \"MaximumConcentration\" => 31540\n",
       "            \"VolumetricSurfaceArea\" => 142373\n",
       "            \"Description\" => \"Graphite\"\n",
       "            \"DiffusionCoefficient\" => 3.9e-14\n",
       "            \"ParticleRadius\" => 1.475e-5\n",
       "            \"Density\" => 2660\n",
       "            \"ElectronicConductivity\" => 2\n",
       "            \"ChargeTransferCoefficient\" => 0.5\n",
       "        }\n",
       "        \"ElectrodeCoating\" =>         {\n",
       "            \"BruggemanCoefficient\" => 1.5\n",
       "            \"EffectiveDensity\" => 1862\n",
       "            \"Thickness\" => 5.9e-5\n",
       "        }\n",
       "        \"Binder\" =>         {\n",
       "            \"Description\" => \"Unknown\"\n",
       "            \"MassFraction\" => 0.0\n",
       "            \"Density\" => 1100.0\n",
       "            \"ElectronicConductivity\" => 100.0\n",
       "        }\n",
       "        \"CurrentCollector\" =>         {\n",
       "            \"Description\" => \"Copper\"\n",
       "            \"TabLength\" => 0.01\n",
       "            \"Density\" => 8900\n",
       "            \"ElectronicConductivity\" => 6.33e7\n",
       "            \"Thickness\" => 9.0e-6\n",
       "            \"TabWidth\" => 0.015\n",
       "        }\n",
       "        \"ConductiveAdditive\" =>         {\n",
       "            \"Description\" => \"Unknown\"\n",
       "            \"MassFraction\" => 0.0\n",
       "            \"Density\" => 1950.0\n",
       "            \"ElectronicConductivity\" => 100.0\n",
       "        }\n",
       "    }\n",
       "}, {\n",
       "    \"TotalNumberOfCycles\" => 0\n",
       "    \"InitialControl\" => \"discharging\"\n",
       "    \"InitialStateOfCharge\" => 0.99\n",
       "    \"InitialTemperature\" => 298.15\n",
       "    \"Metadata\" =>     {\n",
       "        \"Description\" => \"Parameter set for a constant current discharging protocol.\"\n",
       "        \"Title\" => \"CCDischarge\"\n",
       "    }\n",
       "    \"DRate\" => 0.5\n",
       "    \"LowerVoltageLimit\" => 2.25\n",
       "    \"Protocol\" => \"CC\"\n",
       "    \"UpperVoltageLimit\" => 4.1\n",
       "}, {\n",
       "    \"Grid\" => Any[]\n",
       "    \"GridResolution\" =>     {\n",
       "        \"PositiveElectrodeCoating\" => 10\n",
       "        \"Separator\" => 3\n",
       "        \"NegativeElectrodeActiveMaterial\" => 5\n",
       "        \"PositiveElectrodeCurrentCollectorTabLength\" => 3\n",
       "        \"NegativeElectrodeCoating\" => 10\n",
       "        \"NegativeElectrodeCurrentCollector\" => 2\n",
       "        \"ElectrodeLength\" => 10\n",
       "        \"NegativeElectrodeCurrentCollectorTabLength\" => 3\n",
       "        \"PositiveElectrodeCurrentCollector\" => 2\n",
       "        \"PositiveElectrodeCurrentCollectorTabWidth\" => 3\n",
       "        \"ElectrodeWidth\" => 10\n",
       "        \"PositiveElectrodeActiveMaterial\" => 5\n",
       "        \"NegativeElectrodeCurrentCollectorTabWidth\" => 3\n",
       "    }\n",
       "    \"TimeStepDuration\" => 50\n",
       "    \"RampUpTime\" => 10\n",
       "    \"RampUpSteps\" => 5\n",
       "}, true), {\n",
       "}, missing, missing)"
      ]
     },
     "metadata": {},
     "output_type": "display_data"
    }
   ],
   "source": [
    "calibration_05 = VoltageCalibration(t_exp_05, V_exp_05, sim)"
   ]
  },
  {
   "cell_type": "code",
   "execution_count": 6,
   "id": "81799168",
   "metadata": {},
   "outputs": [],
   "source": [
    "print_calibration_overview(calibration_05)"
   ]
  },
  {
   "cell_type": "code",
   "execution_count": null,
   "id": "ab2e5a00",
   "metadata": {},
   "outputs": [],
   "source": [
    "free_calibration_parameter!(calibration_05,\n",
    "    [\"NegativeElectrode\",\"ActiveMaterial\", \"StoichiometricCoefficientAtSOC100\"];\n",
    "    lower_bound = 0.0, upper_bound = 1.0)\n",
    "free_calibration_parameter!(calibration_05,\n",
    "    [\"PositiveElectrode\",\"ActiveMaterial\", \"StoichiometricCoefficientAtSOC100\"];\n",
    "    lower_bound = 0.0, upper_bound = 1.0)\n",
    "\n",
    "# \"StoichiometricCoefficientAtSOC0\" at both electrodes\n",
    "free_calibration_parameter!(calibration_05,\n",
    "    [\"NegativeElectrode\",\"ActiveMaterial\", \"StoichiometricCoefficientAtSOC0\"];\n",
    "    lower_bound = 0.0, upper_bound = 1.0)\n",
    "free_calibration_parameter!(calibration_05,\n",
    "    [\"PositiveElectrode\",\"ActiveMaterial\", \"StoichiometricCoefficientAtSOC0\"];\n",
    "    lower_bound = 0.0, upper_bound = 1.0)\n",
    "\n",
    "#  \"MaximumConcentration\" of both electrodes\n",
    "free_calibration_parameter!(calibration_05,\n",
    "    [\"NegativeElectrode\",\"ActiveMaterial\", \"MaximumConcentration\"];\n",
    "    lower_bound = 10000.0, upper_bound = 1e5)\n",
    "free_calibration_parameter!(calibration_05,\n",
    "    [\"PositiveElectrode\",\"ActiveMaterial\", \"MaximumConcentration\"];\n",
    "    lower_bound = 10000.0, upper_bound = 1e5)"
   ]
  },
  {
   "cell_type": "code",
   "execution_count": null,
   "id": "89df4460",
   "metadata": {},
   "outputs": [],
   "source": [
    "print_calibration_overview(calibration_05)"
   ]
  },
  {
   "cell_type": "markdown",
   "id": "6de52a95",
   "metadata": {},
   "source": [
    "### Solve the first calibration problem"
   ]
  },
  {
   "cell_type": "markdown",
   "id": "12f00443",
   "metadata": {},
   "source": [
    "The calibration is performed by solving the optimization problem. This makes use of the adjoint method implemented in Jutul.jl and the LBFGS algorithm."
   ]
  },
  {
   "cell_type": "code",
   "execution_count": null,
   "id": "864f1f03",
   "metadata": {},
   "outputs": [],
   "source": [
    "solve(calibration_05);\n",
    "cell_parameters_calibrated = calibration_05.calibrated_cell_parameters;\n"
   ]
  },
  {
   "cell_type": "code",
   "execution_count": null,
   "id": "1d3676f3",
   "metadata": {},
   "outputs": [],
   "source": [
    "print_calibration_overview(calibration_05)"
   ]
  },
  {
   "cell_type": "markdown",
   "id": "6748b12e",
   "metadata": {},
   "source": [
    "### Compare the results of the calibration against the experimental data"
   ]
  },
  {
   "cell_type": "markdown",
   "id": "0864ccd2",
   "metadata": {},
   "source": [
    "We can now compare the results of the calibrated model against the experimental data for the 0.5C discharge curve."
   ]
  },
  {
   "cell_type": "code",
   "execution_count": null,
   "id": "b720fc07",
   "metadata": {},
   "outputs": [],
   "source": [
    "sim_opt = Simulation(model_setup, cell_parameters_calibrated, cycling_protocol)\n",
    "output_opt = solve(sim_opt);\n",
    "time_series_opt = get_output_time_series(output0)\n",
    "\n",
    "t_opt = time_series_opt[:Time]\n",
    "V_opt = time_series_opt[:Voltage]\n",
    "\n",
    "fig = Figure()\n",
    "ax = Axis(fig[1, 1], title = \"CRate = 0.5\")\n",
    "lines!(ax, t0, V0, label = \"BattMo initial\")\n",
    "lines!(ax, t_exp_05, V_exp_05, label = \"Experimental data\")\n",
    "lines!(ax, t_opt, V_opt, label = \"BattMo calibrated\", linestyle = :dash)\n",
    "axislegend(position = :lb)\n",
    "fig"
   ]
  },
  {
   "cell_type": "markdown",
   "id": "5b9a4496",
   "metadata": {},
   "source": [
    "### Set up the second calibration"
   ]
  },
  {
   "cell_type": "markdown",
   "id": "443bc5f4",
   "metadata": {},
   "source": [
    "The second calibration is performed against the 2.0C discharge curve. In the same manner as for the first discharge curve, we set up a set of parameters to calibrate against experimental data. The parameters are:\n",
    "\n",
    " - The reaction rate constant of both electrodes\n",
    " - The diffusion coefficient of both electrodes\n",
    "\n",
    "The calibration this time around starts from the parameters calibrated in the first step, so we use the `cell_parameters_calibrated` from the first `solve` call when defining the new object:"
   ]
  },
  {
   "cell_type": "code",
   "execution_count": null,
   "id": "fc090e79",
   "metadata": {},
   "outputs": [],
   "source": [
    "t_exp_2 = df_2[:,1]\n",
    "V_exp_2 = df_2[:,2]\n",
    "\n",
    "cycling_protocol2 = deepcopy(cycling_protocol)\n",
    "cycling_protocol2[\"DRate\"] = 2.0\n",
    "\n",
    "sim2 = Simulation(model_setup, cell_parameters_calibrated, cycling_protocol2)\n",
    "output2 = solve(sim2);\n",
    "\n",
    "time_series_2 = get_output_time_series(output2)\n",
    "\n",
    "t2 = time_series_2[:Time]\n",
    "V2 = time_series_2[:Voltage]\n"
   ]
  },
  {
   "cell_type": "code",
   "execution_count": null,
   "id": "0c1e0383",
   "metadata": {},
   "outputs": [],
   "source": [
    "sim2_0 = Simulation(model_setup, cell_parameters, cycling_protocol2)\n",
    "output2_0 = solve(sim2_0);\n",
    "time_series_2_0 = get_output_time_series(output2_0)\n",
    "\n",
    "t2_0 = time_series_2_0[:Time]\n",
    "V2_0 = time_series_2_0[:Voltage]"
   ]
  },
  {
   "cell_type": "code",
   "execution_count": null,
   "id": "5c999230",
   "metadata": {},
   "outputs": [],
   "source": [
    "calibration_2 = VoltageCalibration(t_exp_2, V_exp_2, sim2)\n",
    "\n",
    "free_calibration_parameter!(calibration_2,\n",
    "    [\"NegativeElectrode\",\"ActiveMaterial\", \"ReactionRateConstant\"];\n",
    "    lower_bound = 1e-16, upper_bound = 1e-10)\n",
    "free_calibration_parameter!(calibration_2,\n",
    "    [\"PositiveElectrode\",\"ActiveMaterial\", \"ReactionRateConstant\"];\n",
    "    lower_bound = 1e-16, upper_bound = 1e-10)\n",
    "\n",
    "free_calibration_parameter!(calibration_2,\n",
    "    [\"NegativeElectrode\",\"ActiveMaterial\", \"DiffusionCoefficient\"];\n",
    "    lower_bound = 1e-16, upper_bound = 1e-12)\n",
    "free_calibration_parameter!(calibration_2,\n",
    "    [\"PositiveElectrode\",\"ActiveMaterial\", \"DiffusionCoefficient\"];\n",
    "    lower_bound = 1e-16, upper_bound = 1e-12)\n",
    "\n",
    "print_calibration_overview(calibration_2)"
   ]
  },
  {
   "cell_type": "markdown",
   "id": "06bcbe8a",
   "metadata": {},
   "source": [
    "### Solve the second calibration problem"
   ]
  },
  {
   "cell_type": "code",
   "execution_count": null,
   "id": "218c9e0a",
   "metadata": {},
   "outputs": [],
   "source": [
    "cell_parameters_calibrated2, = solve(calibration_2);\n",
    "print_calibration_overview(calibration_2)"
   ]
  },
  {
   "cell_type": "markdown",
   "id": "c280fbc0",
   "metadata": {},
   "source": [
    "### Compare the results of the second calibration against the experimental data"
   ]
  },
  {
   "cell_type": "markdown",
   "id": "90fb5db1",
   "metadata": {},
   "source": [
    "We can now compare the results of the calibrated model against the experimental data for the 2.0C discharge curve. We compare three simulations against the experimental data:\n",
    " 1. The initial simulation with the original parameters.\n",
    " 2. The simulation with the parameters calibrated against the 0.5C discharge curve.\n",
    " 3. The simulation with the parameters calibrated against the 0.5C and 2.0C discharge curves."
   ]
  },
  {
   "cell_type": "code",
   "execution_count": null,
   "id": "be22e2a3",
   "metadata": {},
   "outputs": [],
   "source": [
    "sim_c2 = Simulation(model_setup, cell_parameters_calibrated2, cycling_protocol2)\n",
    "output2_c = solve(sim_c2, accept_invalid = false);\n",
    "\n",
    "time_series_2_c = get_output_time_series(output2_c)\n",
    "t2_c = time_series_2_c[:Time]\n",
    "V2_c = time_series_2_c[:Voltage]\n",
    "\n",
    "fig = Figure()\n",
    "ax = Axis(fig[1, 1], title = \"CRate = 2.0\")\n",
    "lines!(ax, t2_0, V2_0, label = \"BattMo.jl\")\n",
    "lines!(ax, t2, V2, label = \"BattMo.jl (after CRate=0.5 calibration)\")\n",
    "\n",
    "lines!(ax, t_exp_2, V_exp_2, label = \"Experimental data\")\n",
    "lines!(ax, t2_c, V2_c, label = \"BattMo.jl (after CRate=0.5 + Crate=2.0 calibration)\", linestyle = :dash)\n",
    "axislegend(position = :lb)\n",
    "fig"
   ]
  },
  {
   "cell_type": "markdown",
   "id": "2a0ec55e",
   "metadata": {},
   "source": [
    "### Compare the results of the calibrated model against the experimental data"
   ]
  },
  {
   "cell_type": "markdown",
   "id": "529e9880",
   "metadata": {},
   "source": [
    "We can now compare the results of the calibrated model against the experimental data for the 0.5C, 1.0C, and 2.0C discharge curves. Note that we did not calibrate the model for the 1.0C discharge curve, but we still obtain a good fit."
   ]
  },
  {
   "cell_type": "code",
   "execution_count": null,
   "id": "9ffc6b78",
   "metadata": {},
   "outputs": [],
   "source": [
    "CRates = [0.5, 1.0, 2.0]\n",
    "outputs_base = []\n",
    "outputs_calibrated = []\n",
    "\n",
    "for CRate in CRates\n",
    "\tcycling_protocol[\"DRate\"] = CRate\n",
    "\tsimuc = Simulation(model_setup, cell_parameters, cycling_protocol)\n",
    "\n",
    "\toutput = solve(simuc, info_level = -1)\n",
    "\tpush!(outputs_base, (CRate = CRate, output = output))\n",
    "\n",
    "    simc = Simulation(model_setup, cell_parameters_calibrated2, cycling_protocol)\n",
    "\toutput_c = solve(simc, info_level = -1)\n",
    "\n",
    "    push!(outputs_calibrated, (CRate = CRate, output = output_c))\n",
    "end\n",
    "\n",
    "colors = Makie.wong_colors()\n",
    "\n",
    "fig = Figure(size = (1200, 600))\n",
    "ax = Axis(fig[1, 1], ylabel = \"Voltage / V\", xlabel = \"Time / s\", title = \"Discharge curve\")\n",
    "\n",
    "for (i, data) in enumerate(outputs_base)\n",
    "    t_i, V_i = get_tV(data.output)\n",
    "    lines!(ax, t_i, V_i, label = \"Simulation (initial) $(round(data.CRate, digits = 2))\", color = colors[i])\n",
    "end\n",
    "\n",
    "for (i, data) in enumerate(outputs_calibrated)\n",
    "    t_i, V_i = get_tV(data.output)\n",
    "\tlines!(ax, t_i, V_i, label = \"Simulation (calibrated) $(round(data.CRate, digits = 2))\", color = colors[i], linestyle = :dash)\n",
    "end\n",
    "\n",
    "for (i, df) in enumerate(dfs)\n",
    "    t_i, V_i = get_tV(df)\n",
    "    label = \"Experimental $(round(CRates[i], digits = 2))\"\n",
    "\tlines!(ax, t_i, V_i, linestyle = :dot, label = label, color = colors[i])\n",
    "end\n",
    "\n",
    "fig[1, 2] = Legend(fig, ax, \"C rate\", framevisible = false)\n",
    "fig"
   ]
  }
 ],
 "metadata": {
  "kernelspec": {
   "display_name": "Julia 1.11.5",
   "language": "julia",
   "name": "julia-1.11"
  },
  "language_info": {
   "file_extension": ".jl",
   "mimetype": "application/julia",
   "name": "julia",
   "version": "1.11.5"
  }
 },
 "nbformat": 4,
 "nbformat_minor": 5
}
