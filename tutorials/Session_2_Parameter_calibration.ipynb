{
 "cells": [
  {
   "cell_type": "markdown",
   "id": "c0f226f2",
   "metadata": {},
   "source": [
    "# Session 2 - Parameter Calibration"
   ]
  },
  {
   "cell_type": "markdown",
   "id": "224b4d0f",
   "metadata": {},
   "source": [
    "Let's import BattMo and some other packages into the kernel."
   ]
  },
  {
   "cell_type": "code",
   "execution_count": null,
   "id": "660020ab",
   "metadata": {},
   "outputs": [],
   "source": [
    "using BattMo, GLMakie, CSV, DataFrames, Jutul"
   ]
  },
  {
   "cell_type": "markdown",
   "id": "ded96465",
   "metadata": {},
   "source": [
    "This example demonstrates how to calibrate a lithium-ion battery against datamodel using BattMo.jl. The example uses a two-step calibration process:\n",
    "1. We first calibrate the model against a 0.5C discharge curve (adjusting stoichiometric coefficients and maximum concentration in the active material)\n",
    "2. We then calibrate the model against a 2.0C discharge curve (adjusting reaction rate constants and diffusion coefficients in the active material)\n",
    "\n",
    "Finally, we compare the results of the calibrated model against the experimental data for discharge rates of 0.5C, 1.0C, and 2.0C."
   ]
  },
  {
   "cell_type": "markdown",
   "id": "35be69cd",
   "metadata": {},
   "source": [
    "### Load the experimental data and set up a base case"
   ]
  },
  {
   "cell_type": "code",
   "execution_count": null,
   "id": "31144a27",
   "metadata": {},
   "outputs": [],
   "source": [
    "df_05 = CSV.read(\"Xu2015_data/Xu_2015_voltageCurve_05C.csv\", DataFrame)\n",
    "df_1 = CSV.read(\"Xu2015_data/Xu_2015_voltageCurve_05C.csv\", DataFrame)\n",
    "df_2 = CSV.read(\"Xu2015_data/Xu_2015_voltageCurve_05C.csv\", DataFrame)\n",
    "\n",
    "dfs = [df_05, df_1, df_2]"
   ]
  },
  {
   "cell_type": "code",
   "execution_count": null,
   "id": "075b06d2",
   "metadata": {},
   "outputs": [],
   "source": [
    "cell_parameters = load_cell_parameters(; from_default_set = \"Xu2015\")\n",
    "cycling_protocol = load_cycling_protocol(; from_default_set = \"CCDischarge\")\n",
    "\n",
    "cycling_protocol[\"LowerVoltageLimit\"] = 2.25\n",
    "model_setup = LithiumIonBattery()\n",
    "\n",
    "cycling_protocol[\"DRate\"] = 0.5\n",
    "sim = Simulation(model_setup, cell_parameters, cycling_protocol)\n",
    "output0 = solve(sim);\n",
    "\n"
   ]
  },
  {
   "cell_type": "code",
   "execution_count": null,
   "id": "2c475e76",
   "metadata": {},
   "outputs": [],
   "source": [
    "time_series0 = get_output_time_series(output0)\n",
    "\n",
    "t0 = time_series0[:Time]\n",
    "V0 = time_series0[:Voltage]\n",
    "\n",
    "t_exp_05 = df_05[:,1]\n",
    "V_exp_05 = df_05[:,2]\n",
    "t_exp_1 = df_1[:,1]\n",
    "V_exp_1 = df_1[:,2]\n",
    "\n",
    "fig = Figure()\n",
    "ax = Axis(fig[1, 1], title = \"CRate = 0.5\", xlabel = \"Time / s\", ylabel = \"Voltage / V\")\n",
    "lines!(ax, t0, V0, label = \"Base case\")\n",
    "lines!(ax, t_exp_05, V_exp_05, label = \"Experimental data\")\n",
    "axislegend(position = :lb)\n",
    "fig"
   ]
  },
  {
   "cell_type": "markdown",
   "id": "274eebd7",
   "metadata": {},
   "source": [
    "### Set up the first calibration"
   ]
  },
  {
   "cell_type": "markdown",
   "id": "26666e51",
   "metadata": {},
   "source": [
    "We select the following parameters to calibrate:\n",
    "- \"StoichiometricCoefficientAtSOC100\" at both electrodes\n",
    "- \"StoichiometricCoefficientAtSOC0\" at both electrodes\n",
    "- \"MaximumConcentration\" of both electrodes\n",
    "\n",
    "We also set bounds for these parameters to ensure they remain physically meaningful and possible to simulate. The objective function is the sum of squares: ``\\sum_i (V_i - V_{exp,i})^2``, where ``V_i`` is the voltage from the model and ``V_{exp,i}`` is the voltage from the experimental data at step ``i``."
   ]
  },
  {
   "cell_type": "markdown",
   "id": "b507dd65",
   "metadata": {},
   "source": [
    "We print the setup as a table to give the user the opportunity to review the setup before calibration starts."
   ]
  },
  {
   "cell_type": "code",
   "execution_count": null,
   "id": "4a215ae4",
   "metadata": {},
   "outputs": [],
   "source": [
    "calibration_05 = VoltageCalibration(t_exp_05, V_exp_05, sim)"
   ]
  },
  {
   "cell_type": "code",
   "execution_count": null,
   "id": "81799168",
   "metadata": {},
   "outputs": [],
   "source": [
    "print_calibration_overview(calibration_05)"
   ]
  },
  {
   "cell_type": "code",
   "execution_count": null,
   "id": "ab2e5a00",
   "metadata": {},
   "outputs": [],
   "source": [
    "free_calibration_parameter!(calibration_05,\n",
    "    [\"NegativeElectrode\",\"ActiveMaterial\", \"StoichiometricCoefficientAtSOC100\"];\n",
    "    lower_bound = 0.0, upper_bound = 1.0)\n",
    "free_calibration_parameter!(calibration_05,\n",
    "    [\"PositiveElectrode\",\"ActiveMaterial\", \"StoichiometricCoefficientAtSOC100\"];\n",
    "    lower_bound = 0.0, upper_bound = 1.0)\n",
    "\n",
    "# \"StoichiometricCoefficientAtSOC0\" at both electrodes\n",
    "free_calibration_parameter!(calibration_05,\n",
    "    [\"NegativeElectrode\",\"ActiveMaterial\", \"StoichiometricCoefficientAtSOC0\"];\n",
    "    lower_bound = 0.0, upper_bound = 1.0)\n",
    "free_calibration_parameter!(calibration_05,\n",
    "    [\"PositiveElectrode\",\"ActiveMaterial\", \"StoichiometricCoefficientAtSOC0\"];\n",
    "    lower_bound = 0.0, upper_bound = 1.0)\n",
    "\n",
    "#  \"MaximumConcentration\" of both electrodes\n",
    "free_calibration_parameter!(calibration_05,\n",
    "    [\"NegativeElectrode\",\"ActiveMaterial\", \"MaximumConcentration\"];\n",
    "    lower_bound = 10000.0, upper_bound = 1e5)\n",
    "free_calibration_parameter!(calibration_05,\n",
    "    [\"PositiveElectrode\",\"ActiveMaterial\", \"MaximumConcentration\"];\n",
    "    lower_bound = 10000.0, upper_bound = 1e5)"
   ]
  },
  {
   "cell_type": "code",
   "execution_count": null,
   "id": "89df4460",
   "metadata": {},
   "outputs": [],
   "source": [
    "print_calibration_overview(calibration_05)"
   ]
  },
  {
   "cell_type": "markdown",
   "id": "6de52a95",
   "metadata": {},
   "source": [
    "### Solve the first calibration problem"
   ]
  },
  {
   "cell_type": "markdown",
   "id": "12f00443",
   "metadata": {},
   "source": [
    "The calibration is performed by solving the optimization problem. This makes use of the adjoint method implemented in Jutul.jl and the LBFGS algorithm."
   ]
  },
  {
   "cell_type": "code",
   "execution_count": null,
   "id": "864f1f03",
   "metadata": {},
   "outputs": [],
   "source": [
    "solve(calibration_05);\n",
    "cell_parameters_calibrated = calibration_05.calibrated_cell_parameters;\n"
   ]
  },
  {
   "cell_type": "code",
   "execution_count": null,
   "id": "1d3676f3",
   "metadata": {},
   "outputs": [],
   "source": [
    "print_calibration_overview(calibration_05)"
   ]
  },
  {
   "cell_type": "markdown",
   "id": "6748b12e",
   "metadata": {},
   "source": [
    "### Compare the results of the calibration against the experimental data"
   ]
  },
  {
   "cell_type": "markdown",
   "id": "0864ccd2",
   "metadata": {},
   "source": [
    "We can now compare the results of the calibrated model against the experimental data for the 0.5C discharge curve."
   ]
  },
  {
   "cell_type": "code",
   "execution_count": null,
   "id": "b720fc07",
   "metadata": {},
   "outputs": [],
   "source": [
    "sim_opt = Simulation(model_setup, cell_parameters_calibrated, cycling_protocol)\n",
    "output_opt = solve(sim_opt);\n",
    "time_series_opt = get_output_time_series(output0)\n",
    "\n",
    "t_opt = time_series_opt[:Time]\n",
    "V_opt = time_series_opt[:Voltage]\n",
    "\n",
    "fig = Figure()\n",
    "ax = Axis(fig[1, 1], title = \"CRate = 0.5\")\n",
    "lines!(ax, t0, V0, label = \"BattMo initial\")\n",
    "lines!(ax, t_exp_05, V_exp_05, label = \"Experimental data\")\n",
    "lines!(ax, t_opt, V_opt, label = \"BattMo calibrated\", linestyle = :dash)\n",
    "axislegend(position = :lb)\n",
    "fig"
   ]
  },
  {
   "cell_type": "markdown",
   "id": "5b9a4496",
   "metadata": {},
   "source": [
    "### Set up the second calibration"
   ]
  },
  {
   "cell_type": "markdown",
   "id": "443bc5f4",
   "metadata": {},
   "source": [
    "The second calibration is performed against the 2.0C discharge curve. In the same manner as for the first discharge curve, we set up a set of parameters to calibrate against experimental data. The parameters are:\n",
    "\n",
    " - The reaction rate constant of both electrodes\n",
    " - The diffusion coefficient of both electrodes\n",
    "\n",
    "The calibration this time around starts from the parameters calibrated in the first step, so we use the `cell_parameters_calibrated` from the first `solve` call when defining the new object:"
   ]
  },
  {
   "cell_type": "code",
   "execution_count": null,
   "id": "fc090e79",
   "metadata": {},
   "outputs": [],
   "source": [
    "t_exp_2 = df_2[:,1]\n",
    "V_exp_2 = df_2[:,2]\n",
    "\n",
    "cycling_protocol2 = deepcopy(cycling_protocol)\n",
    "cycling_protocol2[\"DRate\"] = 2.0\n",
    "\n",
    "sim2 = Simulation(model_setup, cell_parameters_calibrated, cycling_protocol2)\n",
    "output2 = solve(sim2);\n",
    "\n",
    "time_series_2 = get_output_time_series(output2)\n",
    "\n",
    "t2 = time_series_2[:Time]\n",
    "V2 = time_series_2[:Voltage]\n"
   ]
  },
  {
   "cell_type": "code",
   "execution_count": null,
   "id": "0c1e0383",
   "metadata": {},
   "outputs": [],
   "source": [
    "sim2_0 = Simulation(model_setup, cell_parameters, cycling_protocol2)\n",
    "output2_0 = solve(sim2_0);\n",
    "time_series_2_0 = get_output_time_series(output2_0)\n",
    "\n",
    "t2_0 = time_series_2_0[:Time]\n",
    "V2_0 = time_series_2_0[:Voltage]"
   ]
  },
  {
   "cell_type": "code",
   "execution_count": null,
   "id": "5c999230",
   "metadata": {},
   "outputs": [],
   "source": [
    "calibration_2 = VoltageCalibration(t_exp_2, V_exp_2, sim2)\n",
    "\n",
    "free_calibration_parameter!(calibration_2,\n",
    "    [\"NegativeElectrode\",\"ActiveMaterial\", \"ReactionRateConstant\"];\n",
    "    lower_bound = 1e-16, upper_bound = 1e-10)\n",
    "free_calibration_parameter!(calibration_2,\n",
    "    [\"PositiveElectrode\",\"ActiveMaterial\", \"ReactionRateConstant\"];\n",
    "    lower_bound = 1e-16, upper_bound = 1e-10)\n",
    "\n",
    "free_calibration_parameter!(calibration_2,\n",
    "    [\"NegativeElectrode\",\"ActiveMaterial\", \"DiffusionCoefficient\"];\n",
    "    lower_bound = 1e-16, upper_bound = 1e-12)\n",
    "free_calibration_parameter!(calibration_2,\n",
    "    [\"PositiveElectrode\",\"ActiveMaterial\", \"DiffusionCoefficient\"];\n",
    "    lower_bound = 1e-16, upper_bound = 1e-12)\n",
    "\n",
    "print_calibration_overview(calibration_2)"
   ]
  },
  {
   "cell_type": "markdown",
   "id": "06bcbe8a",
   "metadata": {},
   "source": [
    "### Solve the second calibration problem"
   ]
  },
  {
   "cell_type": "code",
   "execution_count": null,
   "id": "218c9e0a",
   "metadata": {},
   "outputs": [],
   "source": [
    "cell_parameters_calibrated2, = solve(calibration_2);\n",
    "print_calibration_overview(calibration_2)"
   ]
  },
  {
   "cell_type": "markdown",
   "id": "c280fbc0",
   "metadata": {},
   "source": [
    "### Compare the results of the second calibration against the experimental data"
   ]
  },
  {
   "cell_type": "markdown",
   "id": "90fb5db1",
   "metadata": {},
   "source": [
    "We can now compare the results of the calibrated model against the experimental data for the 2.0C discharge curve. We compare three simulations against the experimental data:\n",
    " 1. The initial simulation with the original parameters.\n",
    " 2. The simulation with the parameters calibrated against the 0.5C discharge curve.\n",
    " 3. The simulation with the parameters calibrated against the 0.5C and 2.0C discharge curves."
   ]
  },
  {
   "cell_type": "code",
   "execution_count": null,
   "id": "be22e2a3",
   "metadata": {},
   "outputs": [],
   "source": [
    "sim_c2 = Simulation(model_setup, cell_parameters_calibrated2, cycling_protocol2)\n",
    "output2_c = solve(sim_c2, accept_invalid = false);\n",
    "\n",
    "time_series_2_c = get_output_time_series(output2_c)\n",
    "t2_c = time_series_2_c[:Time]\n",
    "V2_c = time_series_2_c[:Voltage]\n",
    "\n",
    "fig = Figure()\n",
    "ax = Axis(fig[1, 1], title = \"CRate = 2.0\")\n",
    "lines!(ax, t2_0, V2_0, label = \"BattMo.jl\")\n",
    "lines!(ax, t2, V2, label = \"BattMo.jl (after CRate=0.5 calibration)\")\n",
    "\n",
    "lines!(ax, t_exp_2, V_exp_2, label = \"Experimental data\")\n",
    "lines!(ax, t2_c, V2_c, label = \"BattMo.jl (after CRate=0.5 + Crate=2.0 calibration)\", linestyle = :dash)\n",
    "axislegend(position = :lb)\n",
    "fig"
   ]
  },
  {
   "cell_type": "markdown",
   "id": "2a0ec55e",
   "metadata": {},
   "source": [
    "### Compare the results of the calibrated model against the experimental data"
   ]
  },
  {
   "cell_type": "markdown",
   "id": "529e9880",
   "metadata": {},
   "source": [
    "We can now compare the results of the calibrated model against the experimental data for the 0.5C, 1.0C, and 2.0C discharge curves. Note that we did not calibrate the model for the 1.0C discharge curve, but we still obtain a good fit."
   ]
  },
  {
   "cell_type": "code",
   "execution_count": null,
   "id": "9ffc6b78",
   "metadata": {},
   "outputs": [],
   "source": [
    "CRates = [0.5, 1.0, 2.0]\n",
    "outputs_base = []\n",
    "outputs_calibrated = []\n",
    "\n",
    "for CRate in CRates\n",
    "\tcycling_protocol[\"DRate\"] = CRate\n",
    "\tsimuc = Simulation(model_setup, cell_parameters, cycling_protocol)\n",
    "\n",
    "\toutput = solve(simuc, info_level = -1)\n",
    "\tpush!(outputs_base, (CRate = CRate, output = output))\n",
    "\n",
    "    simc = Simulation(model_setup, cell_parameters_calibrated2, cycling_protocol)\n",
    "\toutput_c = solve(simc, info_level = -1)\n",
    "\n",
    "    push!(outputs_calibrated, (CRate = CRate, output = output_c))\n",
    "end\n",
    "\n",
    "colors = Makie.wong_colors()\n",
    "\n",
    "fig = Figure(size = (1200, 600))\n",
    "ax = Axis(fig[1, 1], ylabel = \"Voltage / V\", xlabel = \"Time / s\", title = \"Discharge curve\")\n",
    "\n",
    "for (i, data) in enumerate(outputs_base)\n",
    "    t_i, V_i = get_tV(data.output)\n",
    "    lines!(ax, t_i, V_i, label = \"Simulation (initial) $(round(data.CRate, digits = 2))\", color = colors[i])\n",
    "end\n",
    "\n",
    "for (i, data) in enumerate(outputs_calibrated)\n",
    "    t_i, V_i = get_tV(data.output)\n",
    "\tlines!(ax, t_i, V_i, label = \"Simulation (calibrated) $(round(data.CRate, digits = 2))\", color = colors[i], linestyle = :dash)\n",
    "end\n",
    "\n",
    "for (i, df) in enumerate(dfs)\n",
    "    t_i, V_i = get_tV(df)\n",
    "    label = \"Experimental $(round(CRates[i], digits = 2))\"\n",
    "\tlines!(ax, t_i, V_i, linestyle = :dot, label = label, color = colors[i])\n",
    "end\n",
    "\n",
    "fig[1, 2] = Legend(fig, ax, \"C rate\", framevisible = false)\n",
    "fig"
   ]
  }
 ],
 "metadata": {
  "kernelspec": {
   "display_name": "Julia 1.11.5",
   "language": "julia",
   "name": "julia-1.11"
  },
  "language_info": {
   "file_extension": ".jl",
   "mimetype": "application/julia",
   "name": "julia",
   "version": "1.11.5"
  }
 },
 "nbformat": 4,
 "nbformat_minor": 5
}
