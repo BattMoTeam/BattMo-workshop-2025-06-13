{
 "cells": [],
 "metadata": {
  "kernelspec": {
   "display_name": "MyBattMoEnv 1.11.5",
   "language": "julia",
   "name": "mybattmoenv-1.11"
  },
  "language_info": {
   "name": "julia"
  }
 },
 "nbformat": 4,
 "nbformat_minor": 5
}
