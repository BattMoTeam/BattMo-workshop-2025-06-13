{
 "cells": [
  {
   "cell_type": "markdown",
   "id": "d9dd4b14",
   "metadata": {},
   "source": [
    "# Hello World"
   ]
  },
  {
   "cell_type": "markdown",
   "id": "b387daae",
   "metadata": {},
   "source": [
    "Welcome to this hands-on tutorial where we’ll explore the basics of BattMo.jl — a powerful Julia package for simulating lithium-ion battery cells using physics-based models like the Doyle-Fuller-Newman (DFN) model. \n",
    "\n",
    "By the end of this tutorial, you’ll:\n",
    "\n",
    "- Understand how BattMo is structured\n",
    "- Run your first battery simulation\n",
    "- Explore and visualize the output\n",
    "- Learn how to tweak key parameters for custom behavior\n",
    "\n",
    "\n"
   ]
  },
  {
   "cell_type": "markdown",
   "id": "43d465c4",
   "metadata": {},
   "source": [
    "Make sure you have selected your own environment at the right top of the notebook. If you have created it, but it doesn't show up as an option, try restarting VSCode and see if it appears. Let's import BattMo and some other packages into the kernel."
   ]
  },
  {
   "cell_type": "code",
   "execution_count": 3,
   "id": "3a3b7c23",
   "metadata": {},
   "outputs": [],
   "source": [
    "using BattMo, GLMakie, Jutul\n",
    "GLMakie.activate!(inline=true)"
   ]
  },
  {
   "cell_type": "markdown",
   "id": "0105a4d4",
   "metadata": {},
   "source": [
    "## Part 1 - Run a simple simulation"
   ]
  },
  {
   "cell_type": "markdown",
   "id": "ddb58838",
   "metadata": {},
   "source": [
    "Let's run a simple simulation first so we get an idea of the steps that it involves and then dive into each necessary step with more detail. The following script runs a simple constant current discharge simulation using default parameter sets and a built in plotting functionality. This first run can take some time as Julia compiles all functions and structs that it encounters. This compilation makes a second simulation very fast. Run the cell a second time to see the different in solving time."
   ]
  },
  {
   "cell_type": "code",
   "execution_count": 34,
   "id": "182167fc",
   "metadata": {},
   "outputs": [
    {
     "name": "stdout",
     "output_type": "stream",
     "text": [
      "✔️ Validation of ModelSettings passed: No issues found.\n",
      "──────────────────────────────────────────────────\n",
      "✔️ Validation of CellParameters passed: No issues found.\n",
      "──────────────────────────────────────────────────\n",
      "✔️ Validation of CyclingProtocol passed: No issues found.\n",
      "──────────────────────────────────────────────────\n",
      "✔️ Validation of SimulationSettings passed: No issues found.\n",
      "──────────────────────────────────────────────────\n",
      "\u001b[92;1mJutul:\u001b[0m Simulating 2 hours, 12 minutes as 163 report steps\n"
     ]
    },
    {
     "name": "stderr",
     "output_type": "stream",
     "text": [
      "\u001b[32mProgress   9%|████                                       |  ETA: 0:00:01\u001b[39m\u001b[K\n",
      "\n",
      "\u001b[32mProgress  28%|█████████████                              |  ETA: 0:00:01\u001b[39m\u001b[K\n",
      "\n",
      "\u001b[32mProgress  38%|█████████████████                          |  ETA: 0:00:01\u001b[39m\u001b[K\n",
      "\n",
      "\u001b[32mProgress  59%|██████████████████████████                 |  ETA: 0:00:00\u001b[39m\u001b[K\n",
      "\n",
      "\u001b[32mProgress  77%|██████████████████████████████████         |  ETA: 0:00:00\u001b[39m\u001b[K\n",
      "\n",
      "\u001b[32mProgress 100%|███████████████████████████████████████████| Time: 0:00:01\u001b[39m\u001b[K\n"
     ]
    },
    {
     "name": "stdout",
     "output_type": "stream",
     "text": [
      "╭────────────────┬───────────┬───────────────┬──────────╮\n",
      "│\u001b[1m Iteration type \u001b[0m│\u001b[1m  Avg/step \u001b[0m│\u001b[1m  Avg/ministep \u001b[0m│\u001b[1m    Total \u001b[0m│\n",
      "│\u001b[1m                \u001b[0m│\u001b[90m 146 steps \u001b[0m│\u001b[90m 146 ministeps \u001b[0m│\u001b[90m (wasted) \u001b[0m│\n",
      "├────────────────┼───────────┼───────────────┼──────────┤\n",
      "│\u001b[1m Newton         \u001b[0m│   2.32877 │       2.32877 │  340 (0) │\n",
      "│\u001b[1m Linearization  \u001b[0m│   3.32877 │       3.32877 │  486 (0) │\n",
      "│\u001b[1m Linear solver  \u001b[0m│   2.32877 │       2.32877 │  340 (0) │\n",
      "│\u001b[1m Precond apply  \u001b[0m│       0.0 │           0.0 │    0 (0) │\n",
      "╰────────────────┴───────────┴───────────────┴──────────╯\n",
      "╭───────────────┬────────┬────────────┬────────╮\n",
      "│\u001b[1m Timing type   \u001b[0m│\u001b[1m   Each \u001b[0m│\u001b[1m   Relative \u001b[0m│\u001b[1m  Total \u001b[0m│\n",
      "│\u001b[1m               \u001b[0m│\u001b[90m     ms \u001b[0m│\u001b[90m Percentage \u001b[0m│\u001b[90m      s \u001b[0m│\n",
      "├───────────────┼────────┼────────────┼────────┤\n",
      "│\u001b[1m Properties    \u001b[0m│ 0.0722 │     1.38 % │ 0.0245 │\n",
      "│\u001b[1m Equations     \u001b[0m│ 0.3951 │    10.78 % │ 0.1920 │\n",
      "│\u001b[1m Assembly      \u001b[0m│ 0.1308 │     3.57 % │ 0.0636 │\n",
      "│\u001b[1m Linear solve  \u001b[0m│ 4.0031 │    76.43 % │ 1.3611 │\n",
      "│\u001b[1m Linear setup  \u001b[0m│ 0.0000 │     0.00 % │ 0.0000 │\n",
      "│\u001b[1m Precond apply \u001b[0m│ 0.0000 │     0.00 % │ 0.0000 │\n",
      "│\u001b[1m Update        \u001b[0m│ 0.1275 │     2.43 % │ 0.0434 │\n",
      "│\u001b[1m Convergence   \u001b[0m│ 0.1289 │     3.52 % │ 0.0627 │\n",
      "│\u001b[1m Input/Output  \u001b[0m│ 0.0487 │     0.40 % │ 0.0071 │\n",
      "│\u001b[1m Other         \u001b[0m│ 0.0781 │     1.49 % │ 0.0266 │\n",
      "├───────────────┼────────┼────────────┼────────┤\n",
      "│\u001b[1m Total         \u001b[0m│ 5.2378 │   100.00 % │ 1.7808 │\n",
      "╰───────────────┴────────┴────────────┴────────╯\n"
     ]
    },
    {
     "ename": "TaskFailedException",
     "evalue": "TaskFailedException\n\n    nested task error: GLFWError (PLATFORM_ERROR): WGL: Failed to make context current: The operation completed successfully. \n    Stacktrace:\n      [1] _ErrorCallbackWrapper(code::Int32, description::Cstring)\n        @ GLFW C:\\Users\\lorenah\\.julia\\packages\\GLFW\\a10jC\\src\\callback.jl:46\n      [2] MakeContextCurrent\n        @ C:\\Users\\lorenah\\.julia\\packages\\GLFW\\a10jC\\src\\glfw3.jl:835 [inlined]\n      [3] native_switch_context!\n        @ C:\\Users\\lorenah\\.julia\\packages\\GLMakie\\njLYr\\src\\glwindow.jl:223 [inlined]\n      [4] switch_context!\n        @ C:\\Users\\lorenah\\.julia\\packages\\ShaderAbstractions\\BCZHP\\src\\context.jl:51 [inlined]\n      [5] (::GLMakie.var\"#windowsizecb#168\"{Scene, GLMakie.Screen{GLFW.Window}})(window::GLFW.Window, width::Int32, height::Int32)\n        @ GLMakie C:\\Users\\lorenah\\.julia\\packages\\GLMakie\\njLYr\\src\\events.jl:52\n      [6] (::GLMakie.var\"#167#169\"{GLMakie.var\"#windowsizecb#168\"{Scene, GLMakie.Screen{GLFW.Window}}})(win::GLFW.Window, w::Int32, h::Int32)\n        @ GLMakie C:\\Users\\lorenah\\.julia\\packages\\GLMakie\\njLYr\\src\\events.jl:75\n      [7] _WindowSizeCallbackWrapper(window::GLFW.Window, width::Int32, height::Int32)\n        @ GLFW C:\\Users\\lorenah\\.julia\\packages\\GLFW\\a10jC\\src\\callback.jl:46\n      [8] macro expansion\n        @ C:\\Users\\lorenah\\.julia\\packages\\GLFW\\a10jC\\src\\GLFW.jl:34 [inlined]\n      [9] PollEvents\n        @ C:\\Users\\lorenah\\.julia\\packages\\GLFW\\a10jC\\src\\glfw3.jl:747 [inlined]\n     [10] pollevents(screen::GLMakie.Screen{GLFW.Window}, frame_state::Makie.TickState)\n        @ GLMakie C:\\Users\\lorenah\\.julia\\packages\\GLMakie\\njLYr\\src\\screen.jl:546\n     [11] on_demand_renderloop(screen::GLMakie.Screen{GLFW.Window})\n        @ GLMakie C:\\Users\\lorenah\\.julia\\packages\\GLMakie\\njLYr\\src\\screen.jl:1038\n     [12] renderloop(screen::GLMakie.Screen{GLFW.Window})\n        @ GLMakie C:\\Users\\lorenah\\.julia\\packages\\GLMakie\\njLYr\\src\\screen.jl:1066\n     [13] (::GLMakie.var\"#79#80\"{GLMakie.Screen{GLFW.Window}})()\n        @ GLMakie C:\\Users\\lorenah\\.julia\\packages\\GLMakie\\njLYr\\src\\screen.jl:927",
     "output_type": "error",
     "traceback": [
      "TaskFailedException\n",
      "\n",
      "    nested task error: GLFWError (PLATFORM_ERROR): WGL: Failed to make context current: The operation completed successfully. \n",
      "    Stacktrace:\n",
      "      [1] _ErrorCallbackWrapper(code::Int32, description::Cstring)\n",
      "        @ GLFW C:\\Users\\lorenah\\.julia\\packages\\GLFW\\a10jC\\src\\callback.jl:46\n",
      "      [2] MakeContextCurrent\n",
      "        @ C:\\Users\\lorenah\\.julia\\packages\\GLFW\\a10jC\\src\\glfw3.jl:835 [inlined]\n",
      "      [3] native_switch_context!\n",
      "        @ C:\\Users\\lorenah\\.julia\\packages\\GLMakie\\njLYr\\src\\glwindow.jl:223 [inlined]\n",
      "      [4] switch_context!\n",
      "        @ C:\\Users\\lorenah\\.julia\\packages\\ShaderAbstractions\\BCZHP\\src\\context.jl:51 [inlined]\n",
      "      [5] (::GLMakie.var\"#windowsizecb#168\"{Scene, GLMakie.Screen{GLFW.Window}})(window::GLFW.Window, width::Int32, height::Int32)\n",
      "        @ GLMakie C:\\Users\\lorenah\\.julia\\packages\\GLMakie\\njLYr\\src\\events.jl:52\n",
      "      [6] (::GLMakie.var\"#167#169\"{GLMakie.var\"#windowsizecb#168\"{Scene, GLMakie.Screen{GLFW.Window}}})(win::GLFW.Window, w::Int32, h::Int32)\n",
      "        @ GLMakie C:\\Users\\lorenah\\.julia\\packages\\GLMakie\\njLYr\\src\\events.jl:75\n",
      "      [7] _WindowSizeCallbackWrapper(window::GLFW.Window, width::Int32, height::Int32)\n",
      "        @ GLFW C:\\Users\\lorenah\\.julia\\packages\\GLFW\\a10jC\\src\\callback.jl:46\n",
      "      [8] macro expansion\n",
      "        @ C:\\Users\\lorenah\\.julia\\packages\\GLFW\\a10jC\\src\\GLFW.jl:34 [inlined]\n",
      "      [9] PollEvents\n",
      "        @ C:\\Users\\lorenah\\.julia\\packages\\GLFW\\a10jC\\src\\glfw3.jl:747 [inlined]\n",
      "     [10] pollevents(screen::GLMakie.Screen{GLFW.Window}, frame_state::Makie.TickState)\n",
      "        @ GLMakie C:\\Users\\lorenah\\.julia\\packages\\GLMakie\\njLYr\\src\\screen.jl:546\n",
      "     [11] on_demand_renderloop(screen::GLMakie.Screen{GLFW.Window})\n",
      "        @ GLMakie C:\\Users\\lorenah\\.julia\\packages\\GLMakie\\njLYr\\src\\screen.jl:1038\n",
      "     [12] renderloop(screen::GLMakie.Screen{GLFW.Window})\n",
      "        @ GLMakie C:\\Users\\lorenah\\.julia\\packages\\GLMakie\\njLYr\\src\\screen.jl:1066\n",
      "     [13] (::GLMakie.var\"#79#80\"{GLMakie.Screen{GLFW.Window}})()\n",
      "        @ GLMakie C:\\Users\\lorenah\\.julia\\packages\\GLMakie\\njLYr\\src\\screen.jl:927\n",
      "\n",
      "Stacktrace:\n",
      "  [1] wait(t::Task)\n",
      "    @ Base .\\task.jl:370\n",
      "  [2] wait(x::GLMakie.Screen{GLFW.Window})\n",
      "    @ GLMakie C:\\Users\\lorenah\\.julia\\packages\\GLMakie\\njLYr\\src\\screen.jl:551\n",
      "  [3] #stop_renderloop!#81\n",
      "    @ C:\\Users\\lorenah\\.julia\\packages\\GLMakie\\njLYr\\src\\screen.jl:951 [inlined]\n",
      "  [4] singleton_screen(debugging::Bool)\n",
      "    @ GLMakie C:\\Users\\lorenah\\.julia\\packages\\GLMakie\\njLYr\\src\\screen.jl:381\n",
      "  [5] GLMakie.Screen(scene::Scene, config::GLMakie.ScreenConfig; visible::Nothing, start_renderloop::Bool)\n",
      "    @ GLMakie C:\\Users\\lorenah\\.julia\\packages\\GLMakie\\njLYr\\src\\screen.jl:517\n",
      "  [6] GLMakie.Screen(scene::Scene, config::GLMakie.ScreenConfig)\n",
      "    @ GLMakie C:\\Users\\lorenah\\.julia\\packages\\GLMakie\\njLYr\\src\\screen.jl:515\n",
      "  [7] getscreen(::Module, ::Scene, ::Dict{Symbol, Any})\n",
      "    @ Makie C:\\Users\\lorenah\\.julia\\packages\\Makie\\dpDAM\\src\\display.jl:436\n",
      "  [8] display(figlike::Figure; backend::Module, inline::Bool, update::Bool, screen_config::@Kwargs{})\n",
      "    @ Makie C:\\Users\\lorenah\\.julia\\packages\\Makie\\dpDAM\\src\\display.jl:148\n",
      "  [9] display(figlike::Figure)\n",
      "    @ Makie C:\\Users\\lorenah\\.julia\\packages\\Makie\\dpDAM\\src\\display.jl:130\n",
      " [10] #invokelatest#2\n",
      "    @ .\\essentials.jl:1055 [inlined]\n",
      " [11] invokelatest\n",
      "    @ .\\essentials.jl:1052 [inlined]\n",
      " [12] (::VSCodeServer.var\"#217#218\"{VSCodeServer.NotebookRunCellArguments, String})()\n",
      "    @ VSCodeServer c:\\Users\\lorenah\\.vscode\\extensions\\julialang.language-julia-1.141.2\\scripts\\packages\\VSCodeServer\\src\\serve_notebook.jl:54\n",
      " [13] withpath(f::VSCodeServer.var\"#217#218\"{VSCodeServer.NotebookRunCellArguments, String}, path::String)\n",
      "    @ VSCodeServer c:\\Users\\lorenah\\.vscode\\extensions\\julialang.language-julia-1.141.2\\scripts\\packages\\VSCodeServer\\src\\repl.jl:276\n",
      " [14] notebook_runcell_request(conn::VSCodeServer.JSONRPC.JSONRPCEndpoint{Base.PipeEndpoint, Base.PipeEndpoint, VSCodeServer.JSON.Serializations.StandardSerialization}, params::VSCodeServer.NotebookRunCellArguments, token::VSCodeServer.CancellationTokens.CancellationToken)\n",
      "    @ VSCodeServer c:\\Users\\lorenah\\.vscode\\extensions\\julialang.language-julia-1.141.2\\scripts\\packages\\VSCodeServer\\src\\serve_notebook.jl:13\n",
      " [15] dispatch_msg(x::VSCodeServer.JSONRPC.JSONRPCEndpoint{Base.PipeEndpoint, Base.PipeEndpoint, VSCodeServer.JSON.Serializations.StandardSerialization}, dispatcher::VSCodeServer.JSONRPC.MsgDispatcher, msg::VSCodeServer.JSONRPC.Request)\n",
      "    @ VSCodeServer.JSONRPC c:\\Users\\lorenah\\.vscode\\extensions\\julialang.language-julia-1.141.2\\scripts\\packages\\JSONRPC\\src\\typed.jl:68\n",
      " [16] serve_notebook(pipename::String, debugger_pipename::String, outputchannel_logger::Base.CoreLogging.SimpleLogger; error_handler::var\"#5#10\"{String})\n",
      "    @ VSCodeServer c:\\Users\\lorenah\\.vscode\\extensions\\julialang.language-julia-1.141.2\\scripts\\packages\\VSCodeServer\\src\\serve_notebook.jl:147\n",
      " [17] top-level scope\n",
      "    @ c:\\Users\\lorenah\\.vscode\\extensions\\julialang.language-julia-1.141.2\\scripts\\notebook\\notebook.jl:35"
     ]
    }
   ],
   "source": [
    "# step 1: Load parameters\n",
    "cell_parameters = load_cell_parameters(; from_default_set= \"Chen2020\")\n",
    "cycling_protocol = load_cycling_protocol(; from_default_set= \"CCDischarge\")\n",
    "\n",
    "# step 2: Instantiate a model setup\n",
    "model_setup = LithiumIonBattery()\n",
    "\n",
    "# step 3: Instantiate a Simulation object\n",
    "sim = Simulation(model_setup, cell_parameters, cycling_protocol);\n",
    "\n",
    "# step 4: Solve the simulation\n",
    "output = solve(sim);\n",
    "\n",
    "# step 5: Simple plotting\n",
    "plot_dashboard(output; plot_type=\"contour\")"
   ]
  },
  {
   "cell_type": "markdown",
   "id": "95227ac5",
   "metadata": {},
   "source": [
    "Let's now dive deeper into each step!"
   ]
  },
  {
   "cell_type": "markdown",
   "id": "32aac6a0",
   "metadata": {},
   "source": [
    "#### Step 1 - Load parameters and settings"
   ]
  },
  {
   "cell_type": "markdown",
   "id": "e7d61c1a",
   "metadata": {},
   "source": [
    "BattMo.jl structures its simulation inputs into two primary categories: Parameters and Settings. This distinction helps users differentiate between the physical characteristics of the battery system and the numerical configurations of the simulation."
   ]
  },
  {
   "cell_type": "markdown",
   "id": "2b2bb77b",
   "metadata": {},
   "source": [
    "**Parameters** represent the controllable variables in real-world experiments. They are further divided into:\n",
    "\n",
    "- **Cell Parameters**: define the intrinsic properties of the battery cell, such as geometry and material characteristics.\n",
    "- **Cycling Protocol Parameters**: specify how the cell is operated during a simulation.\n",
    "\n",
    "**Settings** are used to configure numerical assumptions for solving equations and finding numerical solutions. They are further divided into:\n",
    "\n",
    "- **Model Settings**: define numerical assumptions related to the battery model, such as diffusion methods or simplifications used in the simulation.\n",
    "- **Simulation Settings**: define numerical assumptions specific to the simulation process, including time-stepping schemes and discretization precision:"
   ]
  },
  {
   "cell_type": "markdown",
   "id": "122a0875",
   "metadata": {},
   "source": [
    "**BattMo** stores cell parameters, cycling protocols and settings in a user-friendly JSON format to facilitate reuse. We can load the parameters directly from the default sets which can be very convenient for a quick parameter loading to test a simulation setup. In order to quickly see which default sets BattMo provides we can use the following function to print information about the sets available."
   ]
  },
  {
   "cell_type": "code",
   "execution_count": 5,
   "id": "f70bd9e6",
   "metadata": {},
   "outputs": [
    {
     "name": "stdout",
     "output_type": "stream",
     "text": [
      "\n",
      "====================================================================================================\n",
      "📋 Overview of Available Default Sets\n",
      "====================================================================================================\n",
      "\n",
      "📁 cell_parameters:         Chen2020, Xu2015\n",
      "📁 cycling_protocols:       CCCV, CCCharge, CCCycling, CCDischarge, user_defined_current_function\n",
      "📁 model_settings:          P2D, P4D_pouch\n",
      "📁 simulation_settings:     P2D, P4D_pouch\n",
      "\n",
      "====================================================================================================\n",
      "📖 Detailed Descriptions\n",
      "====================================================================================================\n",
      "\n",
      "📂 cell_parameters\n",
      "----------------------------------------------------------------------------------------------------\n",
      "Chen2020\n",
      "🔹 Cell name:       \tLG INR 21700 M50\n",
      "🔹 Cell case:       \tCylindrical\n",
      "🔹 Source:          \t[visit](https://doi.org/10.1149/1945-7111/ab9050)\n",
      "\n",
      "🔹 Suitable for:\n",
      "   • CurrentCollectors:  Generic\n",
      "   • SEIModel:           Bolay\n",
      "   • RampUp:             Sinusoidal\n",
      "   • TransportInSolid:   FullDiffusion\n",
      "   • ModelFramework:     P2D\n",
      "🔹 Description:     \tParameter set of a cylindrical 21700 commercial cell (LGM50), for an electrochemical pseudo-two-dimensional (P2D) model, after calibration. SEI parameters are from Bolay2022: https://doi.org/10.1016/j.powera.2022.100083 .\n",
      "\n",
      "Xu2015\n",
      "🔹 Cell name:       \tLP2770120\n",
      "🔹 Cell case:       \tPouch\n",
      "🔹 Source:          \t[visit](https://doi.org/10.1016/j.energy.2014.11.073)\n",
      "\n",
      "🔹 Suitable for:\n",
      "   • CurrentCollectors:  Generic\n",
      "   • RampUp:             Sinusoidal\n",
      "   • TransportInSolid:   FullDiffusion\n",
      "   • ModelFramework:     P2D, P4D Pouch\n",
      "🔹 Description:     \tParameter set of a commercial Type LP2770120 prismatic LiFePO4/graphite cell, for an electrochemical pseudo-two-dimensional (P2D) model.\n",
      "\n",
      "📂 cycling_protocols\n",
      "----------------------------------------------------------------------------------------------------\n",
      "CCCV\n",
      "🔹 Description:     \tParameter set for a constant current constant voltage cyling protocol.\n",
      "\n",
      "CCCharge\n",
      "🔹 Description:     \tParameter set for a constant current charging protocol.\n",
      "\n",
      "CCCycling\n",
      "🔹 Description:     \tParameter set for a constant current cycling protocol.\n",
      "\n",
      "CCDischarge\n",
      "🔹 Description:     \tParameter set for a constant current discharging protocol.\n",
      "\n",
      "user_defined_current_function\n",
      "🔹 Description:     \tParameter set that shows an example of how to include a user defined function in the cycling protocol parameters.\n",
      "\n",
      "📂 model_settings\n",
      "----------------------------------------------------------------------------------------------------\n",
      "P2D\n",
      "🔹 Description:     \tDefault model settings for a P2D simulation including a current ramp up, excluding current collectors and SEI effects.\n",
      "\n",
      "P4D_pouch\n",
      "🔹 Description:     \tDefault model settings for a P4D pouch simulation including a current ramp up, current collectors.\n",
      "\n",
      "📂 simulation_settings\n",
      "----------------------------------------------------------------------------------------------------\n",
      "P2D\n",
      "🔹 Suitable for:\n",
      "   • SEIModel:           Bolay\n",
      "   • RampUp:             Sinusoidal\n",
      "   • TransportInSolid:   FullDiffusion\n",
      "   • ModelFramework:     P2D\n",
      "🔹 Description:     \tDefault simulation settings for a P2D simulation including a current ramp up, excluding current collectors and SEI effects.\n",
      "\n",
      "P4D_pouch\n",
      "🔹 Suitable for:\n",
      "   • SEIModel:           Bolay\n",
      "   • RampUp:             Sinusoidal\n",
      "   • TransportInSolid:   FullDiffusion\n",
      "   • CurrentCollector:   Generic\n",
      "   • ModelFramework:     P2D, P4D Pouch\n",
      "🔹 Description:     \tDefault simulation settings for a P4D pouch simulation including a current ramp up, current collectors.\n",
      "\n"
     ]
    }
   ],
   "source": [
    "print_default_input_sets_info()"
   ]
  },
  {
   "cell_type": "markdown",
   "id": "2e656d1a",
   "metadata": {},
   "source": [
    "For our example, we load the cell parameter set from a NMC811 vs Graphite-SiOx cell whose parameters were determined in the [Chen 2020 paper](https://doi.org/10.1149/1945-7111/ab9050). We also load an example cycling protocol for a simple Constant Current Discharge. We can load them directly from the build in sets."
   ]
  },
  {
   "cell_type": "code",
   "execution_count": 6,
   "id": "272fdfef",
   "metadata": {},
   "outputs": [],
   "source": [
    "cell_parameters = load_cell_parameters(; from_default_set = \"Chen2020\");\n",
    "cycling_protocol = load_cycling_protocol(; from_default_set = \"CCDischarge\");"
   ]
  },
  {
   "cell_type": "markdown",
   "id": "ce4f3721",
   "metadata": {},
   "source": [
    "This a quick way of testing a setup, but for the purpose of this workshop we would like to be able to see what a parameter set contains. Therefore, we'll retrieve the default parameter sets that BattMo provides and store them locally in a folder. We can do this by running the following script."
   ]
  },
  {
   "cell_type": "code",
   "execution_count": 7,
   "id": "825c8116",
   "metadata": {},
   "outputs": [
    {
     "name": "stdout",
     "output_type": "stream",
     "text": [
      "🛠 JSON files successfully written! Path:\n",
      "\t.\\default_sets\n"
     ]
    },
    {
     "data": {
      "text/plain": [
       "\".\\\\default_sets\""
      ]
     },
     "metadata": {},
     "output_type": "display_data"
    }
   ],
   "source": [
    "path = \".\"\n",
    "folder_name = \"default_sets\"\n",
    "generate_default_parameter_files(path, folder_name; force = true)"
   ]
  },
  {
   "cell_type": "markdown",
   "id": "68afa2c4",
   "metadata": {},
   "source": [
    "As we stored the default sets in our own folder, we can alter the default files if we want to and load the parameters from our dedicated folder."
   ]
  },
  {
   "cell_type": "code",
   "execution_count": 8,
   "id": "e394d46b",
   "metadata": {},
   "outputs": [],
   "source": [
    "cell_parameters = load_cell_parameters(; from_file_path = \"default_sets/cell_parameters/Chen2020.json\");\n",
    "cycling_protocol = load_cycling_protocol(; from_file_path = \"default_sets/cycling_protocols/CCDischarge.json\");"
   ]
  },
  {
   "cell_type": "markdown",
   "id": "ecdd32ce",
   "metadata": {},
   "source": [
    "#### Step 2 - Select a model setup"
   ]
  },
  {
   "cell_type": "markdown",
   "id": "b93d6021",
   "metadata": {},
   "source": [
    "Next, we select the default Lithium-Ion Battery setup. A model can be thought as a mathematical implementation of the electrochemical and transport phenomena occuring in a real battery cell. The implementation consist of a system of partial differential equations and their corresponding parameters, constants and boundary conditions. The default Lithium-Ion Battery setup selected below contains the model settings to simulate a basic P2D model, where neither current collectors nor SEI growth are considered."
   ]
  },
  {
   "cell_type": "code",
   "execution_count": 9,
   "id": "f3f7a18b",
   "metadata": {},
   "outputs": [
    {
     "name": "stdout",
     "output_type": "stream",
     "text": [
      "✔️ Validation of ModelSettings passed: No issues found.\n",
      "──────────────────────────────────────────────────\n"
     ]
    }
   ],
   "source": [
    "model_setup = LithiumIonBattery();"
   ]
  },
  {
   "cell_type": "markdown",
   "id": "bbcf41ea",
   "metadata": {},
   "source": [
    "The LithiumIonBattery constructor validates the model settings on the back ground. If the model setup is valid we can continue and create a Simulation object by passing the model setup, cell parameters and a cycling protocol."
   ]
  },
  {
   "cell_type": "markdown",
   "id": "06082e1c",
   "metadata": {},
   "source": [
    "#### Step 3 - Initiate simulation object"
   ]
  },
  {
   "cell_type": "markdown",
   "id": "5378639e",
   "metadata": {},
   "source": [
    " A Simulation can be thought as a procedure to predict how the cell responds to the cycling protocol by solving the equations in the model using the cell parameters passed. We first prepare the simulation."
   ]
  },
  {
   "cell_type": "code",
   "execution_count": 10,
   "id": "14469941",
   "metadata": {},
   "outputs": [
    {
     "name": "stdout",
     "output_type": "stream",
     "text": [
      "✔️ Validation of CellParameters passed: No issues found.\n",
      "──────────────────────────────────────────────────\n",
      "✔️ Validation of CyclingProtocol passed: No issues found.\n",
      "──────────────────────────────────────────────────\n",
      "✔️ Validation of SimulationSettings passed: No issues found.\n",
      "──────────────────────────────────────────────────\n"
     ]
    }
   ],
   "source": [
    "sim = Simulation(model_setup, cell_parameters, cycling_protocol);"
   ]
  },
  {
   "cell_type": "markdown",
   "id": "459fd23b",
   "metadata": {},
   "source": [
    "The simulation object is only instantiated when the model setup is valid. We can see that the Simulation object also validates the parameters and settings on the back ground. Each parameter set is validated on whether they are sensible and complete. "
   ]
  },
  {
   "cell_type": "markdown",
   "id": "ea5b28c0",
   "metadata": {},
   "source": [
    "#### Step 4 - Solve simulation"
   ]
  },
  {
   "cell_type": "markdown",
   "id": "57514d2c",
   "metadata": {},
   "source": [
    "When the Simulation object is valid we can solve the simulation by passing the object to the solve function. As Julia is a compiled language, the first time that we run a simulation it will take some time to compile the functions and structs that it encounters. This makes running a second simulation very fast. See the difference by running the script for a second time."
   ]
  },
  {
   "cell_type": "code",
   "execution_count": 11,
   "id": "257ccd02",
   "metadata": {},
   "outputs": [
    {
     "name": "stdout",
     "output_type": "stream",
     "text": [
      "\u001b[92;1mJutul:\u001b[0m Simulating 2 hours, 12 minutes as 163 report steps\n"
     ]
    },
    {
     "name": "stderr",
     "output_type": "stream",
     "text": [
      "\u001b[32mProgress   4%|██                                         |  ETA: 0:00:13\u001b[39m\u001b[K\n",
      "\n",
      "\u001b[32mProgress  20%|█████████                                  |  ETA: 0:00:03\u001b[39m\u001b[K\n",
      "\n",
      "\u001b[32mProgress  34%|███████████████                            |  ETA: 0:00:03\u001b[39m\u001b[K\n",
      "\n",
      "\u001b[32mProgress  57%|█████████████████████████                  |  ETA: 0:00:01\u001b[39m\u001b[K\n",
      "\n",
      "\u001b[32mProgress  78%|██████████████████████████████████         |  ETA: 0:00:01\u001b[39m\u001b[K\n",
      "\n",
      "\u001b[32mProgress 100%|███████████████████████████████████████████| Time: 0:00:01\u001b[39m\u001b[K\n"
     ]
    },
    {
     "name": "stdout",
     "output_type": "stream",
     "text": [
      "╭────────────────┬───────────┬───────────────┬──────────╮\n",
      "│\u001b[1m Iteration type \u001b[0m│\u001b[1m  Avg/step \u001b[0m│\u001b[1m  Avg/ministep \u001b[0m│\u001b[1m    Total \u001b[0m│\n",
      "│\u001b[1m                \u001b[0m│\u001b[90m 146 steps \u001b[0m│\u001b[90m 146 ministeps \u001b[0m│\u001b[90m (wasted) \u001b[0m│\n",
      "├────────────────┼───────────┼───────────────┼──────────┤\n",
      "│\u001b[1m Newton         \u001b[0m│   2.32877 │       2.32877 │  340 (0) │\n",
      "│\u001b[1m Linearization  \u001b[0m│   3.32877 │       3.32877 │  486 (0) │\n",
      "│\u001b[1m Linear solver  \u001b[0m│   2.32877 │       2.32877 │  340 (0) │\n",
      "│\u001b[1m Precond apply  \u001b[0m│       0.0 │           0.0 │    0 (0) │\n",
      "╰────────────────┴───────────┴───────────────┴──────────╯\n",
      "╭───────────────┬────────┬────────────┬────────╮\n",
      "│\u001b[1m Timing type   \u001b[0m│\u001b[1m   Each \u001b[0m│\u001b[1m   Relative \u001b[0m│\u001b[1m  Total \u001b[0m│\n",
      "│\u001b[1m               \u001b[0m│\u001b[90m     ms \u001b[0m│\u001b[90m Percentage \u001b[0m│\u001b[90m      s \u001b[0m│\n",
      "├───────────────┼────────┼────────────┼────────┤\n",
      "│\u001b[1m Properties    \u001b[0m│ 0.0803 │     1.45 % │ 0.0273 │\n",
      "│\u001b[1m Equations     \u001b[0m│ 0.3103 │     8.01 % │ 0.1508 │\n",
      "│\u001b[1m Assembly      \u001b[0m│ 0.1441 │     3.72 % │ 0.0700 │\n",
      "│\u001b[1m Linear solve  \u001b[0m│ 4.3931 │    79.35 % │ 1.4937 │\n",
      "│\u001b[1m Linear setup  \u001b[0m│ 0.0000 │     0.00 % │ 0.0000 │\n",
      "│\u001b[1m Precond apply \u001b[0m│ 0.0000 │     0.00 % │ 0.0000 │\n",
      "│\u001b[1m Update        \u001b[0m│ 0.1144 │     2.07 % │ 0.0389 │\n",
      "│\u001b[1m Convergence   \u001b[0m│ 0.1367 │     3.53 % │ 0.0664 │\n",
      "│\u001b[1m Input/Output  \u001b[0m│ 0.0538 │     0.42 % │ 0.0079 │\n",
      "│\u001b[1m Other         \u001b[0m│ 0.0807 │     1.46 % │ 0.0274 │\n",
      "├───────────────┼────────┼────────────┼────────┤\n",
      "│\u001b[1m Total         \u001b[0m│ 5.5365 │   100.00 % │ 1.8824 │\n",
      "╰───────────────┴────────┴────────────┴────────╯\n"
     ]
    }
   ],
   "source": [
    "output = solve(sim);"
   ]
  },
  {
   "cell_type": "markdown",
   "id": "4cabeb8c",
   "metadata": {},
   "source": [
    "#### Step 5 - Simple plotting"
   ]
  },
  {
   "cell_type": "markdown",
   "id": "1f5a453f",
   "metadata": {},
   "source": [
    "We can use some built in functions for quick plotting. The dashboard gives you a quick overview of some important ouput variables. You can choose to have interactive line plots where you can change the time step using a slider or contour plots that show the position and time in one plot."
   ]
  },
  {
   "cell_type": "code",
   "execution_count": 12,
   "id": "4ffb4bab",
   "metadata": {},
   "outputs": [
    {
     "ename": "TaskFailedException",
     "evalue": "TaskFailedException\n\n    nested task error: GLFWError (PLATFORM_ERROR): WGL: Failed to make context current: The operation completed successfully. \n    Stacktrace:\n      [1] _ErrorCallbackWrapper(code::Int32, description::Cstring)\n        @ GLFW C:\\Users\\lorenah\\.julia\\packages\\GLFW\\a10jC\\src\\callback.jl:46\n      [2] MakeContextCurrent\n        @ C:\\Users\\lorenah\\.julia\\packages\\GLFW\\a10jC\\src\\glfw3.jl:835 [inlined]\n      [3] native_switch_context!\n        @ C:\\Users\\lorenah\\.julia\\packages\\GLMakie\\njLYr\\src\\glwindow.jl:223 [inlined]\n      [4] switch_context!\n        @ C:\\Users\\lorenah\\.julia\\packages\\ShaderAbstractions\\BCZHP\\src\\context.jl:51 [inlined]\n      [5] (::GLMakie.var\"#windowsizecb#168\"{Scene, GLMakie.Screen{GLFW.Window}})(window::GLFW.Window, width::Int32, height::Int32)\n        @ GLMakie C:\\Users\\lorenah\\.julia\\packages\\GLMakie\\njLYr\\src\\events.jl:52\n      [6] (::GLMakie.var\"#167#169\"{GLMakie.var\"#windowsizecb#168\"{Scene, GLMakie.Screen{GLFW.Window}}})(win::GLFW.Window, w::Int32, h::Int32)\n        @ GLMakie C:\\Users\\lorenah\\.julia\\packages\\GLMakie\\njLYr\\src\\events.jl:75\n      [7] _WindowSizeCallbackWrapper(window::GLFW.Window, width::Int32, height::Int32)\n        @ GLFW C:\\Users\\lorenah\\.julia\\packages\\GLFW\\a10jC\\src\\callback.jl:46\n      [8] macro expansion\n        @ C:\\Users\\lorenah\\.julia\\packages\\GLFW\\a10jC\\src\\GLFW.jl:34 [inlined]\n      [9] PollEvents\n        @ C:\\Users\\lorenah\\.julia\\packages\\GLFW\\a10jC\\src\\glfw3.jl:747 [inlined]\n     [10] pollevents(screen::GLMakie.Screen{GLFW.Window}, frame_state::Makie.TickState)\n        @ GLMakie C:\\Users\\lorenah\\.julia\\packages\\GLMakie\\njLYr\\src\\screen.jl:546\n     [11] on_demand_renderloop(screen::GLMakie.Screen{GLFW.Window})\n        @ GLMakie C:\\Users\\lorenah\\.julia\\packages\\GLMakie\\njLYr\\src\\screen.jl:1038\n     [12] renderloop(screen::GLMakie.Screen{GLFW.Window})\n        @ GLMakie C:\\Users\\lorenah\\.julia\\packages\\GLMakie\\njLYr\\src\\screen.jl:1066\n     [13] (::GLMakie.var\"#79#80\"{GLMakie.Screen{GLFW.Window}})()\n        @ GLMakie C:\\Users\\lorenah\\.julia\\packages\\GLMakie\\njLYr\\src\\screen.jl:927",
     "output_type": "error",
     "traceback": [
      "TaskFailedException\n",
      "\n",
      "    nested task error: GLFWError (PLATFORM_ERROR): WGL: Failed to make context current: The operation completed successfully. \n",
      "    Stacktrace:\n",
      "      [1] _ErrorCallbackWrapper(code::Int32, description::Cstring)\n",
      "        @ GLFW C:\\Users\\lorenah\\.julia\\packages\\GLFW\\a10jC\\src\\callback.jl:46\n",
      "      [2] MakeContextCurrent\n",
      "        @ C:\\Users\\lorenah\\.julia\\packages\\GLFW\\a10jC\\src\\glfw3.jl:835 [inlined]\n",
      "      [3] native_switch_context!\n",
      "        @ C:\\Users\\lorenah\\.julia\\packages\\GLMakie\\njLYr\\src\\glwindow.jl:223 [inlined]\n",
      "      [4] switch_context!\n",
      "        @ C:\\Users\\lorenah\\.julia\\packages\\ShaderAbstractions\\BCZHP\\src\\context.jl:51 [inlined]\n",
      "      [5] (::GLMakie.var\"#windowsizecb#168\"{Scene, GLMakie.Screen{GLFW.Window}})(window::GLFW.Window, width::Int32, height::Int32)\n",
      "        @ GLMakie C:\\Users\\lorenah\\.julia\\packages\\GLMakie\\njLYr\\src\\events.jl:52\n",
      "      [6] (::GLMakie.var\"#167#169\"{GLMakie.var\"#windowsizecb#168\"{Scene, GLMakie.Screen{GLFW.Window}}})(win::GLFW.Window, w::Int32, h::Int32)\n",
      "        @ GLMakie C:\\Users\\lorenah\\.julia\\packages\\GLMakie\\njLYr\\src\\events.jl:75\n",
      "      [7] _WindowSizeCallbackWrapper(window::GLFW.Window, width::Int32, height::Int32)\n",
      "        @ GLFW C:\\Users\\lorenah\\.julia\\packages\\GLFW\\a10jC\\src\\callback.jl:46\n",
      "      [8] macro expansion\n",
      "        @ C:\\Users\\lorenah\\.julia\\packages\\GLFW\\a10jC\\src\\GLFW.jl:34 [inlined]\n",
      "      [9] PollEvents\n",
      "        @ C:\\Users\\lorenah\\.julia\\packages\\GLFW\\a10jC\\src\\glfw3.jl:747 [inlined]\n",
      "     [10] pollevents(screen::GLMakie.Screen{GLFW.Window}, frame_state::Makie.TickState)\n",
      "        @ GLMakie C:\\Users\\lorenah\\.julia\\packages\\GLMakie\\njLYr\\src\\screen.jl:546\n",
      "     [11] on_demand_renderloop(screen::GLMakie.Screen{GLFW.Window})\n",
      "        @ GLMakie C:\\Users\\lorenah\\.julia\\packages\\GLMakie\\njLYr\\src\\screen.jl:1038\n",
      "     [12] renderloop(screen::GLMakie.Screen{GLFW.Window})\n",
      "        @ GLMakie C:\\Users\\lorenah\\.julia\\packages\\GLMakie\\njLYr\\src\\screen.jl:1066\n",
      "     [13] (::GLMakie.var\"#79#80\"{GLMakie.Screen{GLFW.Window}})()\n",
      "        @ GLMakie C:\\Users\\lorenah\\.julia\\packages\\GLMakie\\njLYr\\src\\screen.jl:927\n",
      "\n",
      "Stacktrace:\n",
      "  [1] wait(t::Task)\n",
      "    @ Base .\\task.jl:370\n",
      "  [2] wait(x::GLMakie.Screen{GLFW.Window})\n",
      "    @ GLMakie C:\\Users\\lorenah\\.julia\\packages\\GLMakie\\njLYr\\src\\screen.jl:551\n",
      "  [3] #stop_renderloop!#81\n",
      "    @ C:\\Users\\lorenah\\.julia\\packages\\GLMakie\\njLYr\\src\\screen.jl:951 [inlined]\n",
      "  [4] singleton_screen(debugging::Bool)\n",
      "    @ GLMakie C:\\Users\\lorenah\\.julia\\packages\\GLMakie\\njLYr\\src\\screen.jl:381\n",
      "  [5] GLMakie.Screen(scene::Scene, config::GLMakie.ScreenConfig; visible::Nothing, start_renderloop::Bool)\n",
      "    @ GLMakie C:\\Users\\lorenah\\.julia\\packages\\GLMakie\\njLYr\\src\\screen.jl:517\n",
      "  [6] GLMakie.Screen(scene::Scene, config::GLMakie.ScreenConfig)\n",
      "    @ GLMakie C:\\Users\\lorenah\\.julia\\packages\\GLMakie\\njLYr\\src\\screen.jl:515\n",
      "  [7] getscreen(::Module, ::Scene, ::Dict{Symbol, Any})\n",
      "    @ Makie C:\\Users\\lorenah\\.julia\\packages\\Makie\\dpDAM\\src\\display.jl:436\n",
      "  [8] display(figlike::Figure; backend::Module, inline::Bool, update::Bool, screen_config::@Kwargs{})\n",
      "    @ Makie C:\\Users\\lorenah\\.julia\\packages\\Makie\\dpDAM\\src\\display.jl:148\n",
      "  [9] display(figlike::Figure)\n",
      "    @ Makie C:\\Users\\lorenah\\.julia\\packages\\Makie\\dpDAM\\src\\display.jl:130\n",
      " [10] #invokelatest#2\n",
      "    @ .\\essentials.jl:1055 [inlined]\n",
      " [11] invokelatest\n",
      "    @ .\\essentials.jl:1052 [inlined]\n",
      " [12] (::VSCodeServer.var\"#217#218\"{VSCodeServer.NotebookRunCellArguments, String})()\n",
      "    @ VSCodeServer c:\\Users\\lorenah\\.vscode\\extensions\\julialang.language-julia-1.141.2\\scripts\\packages\\VSCodeServer\\src\\serve_notebook.jl:54\n",
      " [13] withpath(f::VSCodeServer.var\"#217#218\"{VSCodeServer.NotebookRunCellArguments, String}, path::String)\n",
      "    @ VSCodeServer c:\\Users\\lorenah\\.vscode\\extensions\\julialang.language-julia-1.141.2\\scripts\\packages\\VSCodeServer\\src\\repl.jl:276\n",
      " [14] notebook_runcell_request(conn::VSCodeServer.JSONRPC.JSONRPCEndpoint{Base.PipeEndpoint, Base.PipeEndpoint, VSCodeServer.JSON.Serializations.StandardSerialization}, params::VSCodeServer.NotebookRunCellArguments, token::VSCodeServer.CancellationTokens.CancellationToken)\n",
      "    @ VSCodeServer c:\\Users\\lorenah\\.vscode\\extensions\\julialang.language-julia-1.141.2\\scripts\\packages\\VSCodeServer\\src\\serve_notebook.jl:13\n",
      " [15] dispatch_msg(x::VSCodeServer.JSONRPC.JSONRPCEndpoint{Base.PipeEndpoint, Base.PipeEndpoint, VSCodeServer.JSON.Serializations.StandardSerialization}, dispatcher::VSCodeServer.JSONRPC.MsgDispatcher, msg::VSCodeServer.JSONRPC.Request)\n",
      "    @ VSCodeServer.JSONRPC c:\\Users\\lorenah\\.vscode\\extensions\\julialang.language-julia-1.141.2\\scripts\\packages\\JSONRPC\\src\\typed.jl:68\n",
      " [16] serve_notebook(pipename::String, debugger_pipename::String, outputchannel_logger::Base.CoreLogging.SimpleLogger; error_handler::var\"#5#10\"{String})\n",
      "    @ VSCodeServer c:\\Users\\lorenah\\.vscode\\extensions\\julialang.language-julia-1.141.2\\scripts\\packages\\VSCodeServer\\src\\serve_notebook.jl:147\n",
      " [17] top-level scope\n",
      "    @ c:\\Users\\lorenah\\.vscode\\extensions\\julialang.language-julia-1.141.2\\scripts\\notebook\\notebook.jl:35"
     ]
    }
   ],
   "source": [
    "plot_dashboard(output; plot_type=\"contour\")"
   ]
  },
  {
   "cell_type": "markdown",
   "id": "66234ffd",
   "metadata": {},
   "source": [
    "As the line plot is an interactive plot and notebooks are not able to render interactive plots, we'll show it in a separate window. "
   ]
  },
  {
   "cell_type": "code",
   "execution_count": 13,
   "id": "b2cb07e9",
   "metadata": {},
   "outputs": [
    {
     "ename": "TaskFailedException",
     "evalue": "TaskFailedException\n\n    nested task error: GLFWError (PLATFORM_ERROR): WGL: Failed to make context current: The operation completed successfully. \n    Stacktrace:\n      [1] _ErrorCallbackWrapper(code::Int32, description::Cstring)\n        @ GLFW C:\\Users\\lorenah\\.julia\\packages\\GLFW\\a10jC\\src\\callback.jl:46\n      [2] MakeContextCurrent\n        @ C:\\Users\\lorenah\\.julia\\packages\\GLFW\\a10jC\\src\\glfw3.jl:835 [inlined]\n      [3] native_switch_context!\n        @ C:\\Users\\lorenah\\.julia\\packages\\GLMakie\\njLYr\\src\\glwindow.jl:223 [inlined]\n      [4] switch_context!\n        @ C:\\Users\\lorenah\\.julia\\packages\\ShaderAbstractions\\BCZHP\\src\\context.jl:51 [inlined]\n      [5] (::GLMakie.var\"#windowsizecb#168\"{Scene, GLMakie.Screen{GLFW.Window}})(window::GLFW.Window, width::Int32, height::Int32)\n        @ GLMakie C:\\Users\\lorenah\\.julia\\packages\\GLMakie\\njLYr\\src\\events.jl:52\n      [6] (::GLMakie.var\"#167#169\"{GLMakie.var\"#windowsizecb#168\"{Scene, GLMakie.Screen{GLFW.Window}}})(win::GLFW.Window, w::Int32, h::Int32)\n        @ GLMakie C:\\Users\\lorenah\\.julia\\packages\\GLMakie\\njLYr\\src\\events.jl:75\n      [7] _WindowSizeCallbackWrapper(window::GLFW.Window, width::Int32, height::Int32)\n        @ GLFW C:\\Users\\lorenah\\.julia\\packages\\GLFW\\a10jC\\src\\callback.jl:46\n      [8] macro expansion\n        @ C:\\Users\\lorenah\\.julia\\packages\\GLFW\\a10jC\\src\\GLFW.jl:34 [inlined]\n      [9] PollEvents\n        @ C:\\Users\\lorenah\\.julia\\packages\\GLFW\\a10jC\\src\\glfw3.jl:747 [inlined]\n     [10] pollevents(screen::GLMakie.Screen{GLFW.Window}, frame_state::Makie.TickState)\n        @ GLMakie C:\\Users\\lorenah\\.julia\\packages\\GLMakie\\njLYr\\src\\screen.jl:546\n     [11] on_demand_renderloop(screen::GLMakie.Screen{GLFW.Window})\n        @ GLMakie C:\\Users\\lorenah\\.julia\\packages\\GLMakie\\njLYr\\src\\screen.jl:1038\n     [12] renderloop(screen::GLMakie.Screen{GLFW.Window})\n        @ GLMakie C:\\Users\\lorenah\\.julia\\packages\\GLMakie\\njLYr\\src\\screen.jl:1066\n     [13] (::GLMakie.var\"#79#80\"{GLMakie.Screen{GLFW.Window}})()\n        @ GLMakie C:\\Users\\lorenah\\.julia\\packages\\GLMakie\\njLYr\\src\\screen.jl:927",
     "output_type": "error",
     "traceback": [
      "TaskFailedException\n",
      "\n",
      "    nested task error: GLFWError (PLATFORM_ERROR): WGL: Failed to make context current: The operation completed successfully. \n",
      "    Stacktrace:\n",
      "      [1] _ErrorCallbackWrapper(code::Int32, description::Cstring)\n",
      "        @ GLFW C:\\Users\\lorenah\\.julia\\packages\\GLFW\\a10jC\\src\\callback.jl:46\n",
      "      [2] MakeContextCurrent\n",
      "        @ C:\\Users\\lorenah\\.julia\\packages\\GLFW\\a10jC\\src\\glfw3.jl:835 [inlined]\n",
      "      [3] native_switch_context!\n",
      "        @ C:\\Users\\lorenah\\.julia\\packages\\GLMakie\\njLYr\\src\\glwindow.jl:223 [inlined]\n",
      "      [4] switch_context!\n",
      "        @ C:\\Users\\lorenah\\.julia\\packages\\ShaderAbstractions\\BCZHP\\src\\context.jl:51 [inlined]\n",
      "      [5] (::GLMakie.var\"#windowsizecb#168\"{Scene, GLMakie.Screen{GLFW.Window}})(window::GLFW.Window, width::Int32, height::Int32)\n",
      "        @ GLMakie C:\\Users\\lorenah\\.julia\\packages\\GLMakie\\njLYr\\src\\events.jl:52\n",
      "      [6] (::GLMakie.var\"#167#169\"{GLMakie.var\"#windowsizecb#168\"{Scene, GLMakie.Screen{GLFW.Window}}})(win::GLFW.Window, w::Int32, h::Int32)\n",
      "        @ GLMakie C:\\Users\\lorenah\\.julia\\packages\\GLMakie\\njLYr\\src\\events.jl:75\n",
      "      [7] _WindowSizeCallbackWrapper(window::GLFW.Window, width::Int32, height::Int32)\n",
      "        @ GLFW C:\\Users\\lorenah\\.julia\\packages\\GLFW\\a10jC\\src\\callback.jl:46\n",
      "      [8] macro expansion\n",
      "        @ C:\\Users\\lorenah\\.julia\\packages\\GLFW\\a10jC\\src\\GLFW.jl:34 [inlined]\n",
      "      [9] PollEvents\n",
      "        @ C:\\Users\\lorenah\\.julia\\packages\\GLFW\\a10jC\\src\\glfw3.jl:747 [inlined]\n",
      "     [10] pollevents(screen::GLMakie.Screen{GLFW.Window}, frame_state::Makie.TickState)\n",
      "        @ GLMakie C:\\Users\\lorenah\\.julia\\packages\\GLMakie\\njLYr\\src\\screen.jl:546\n",
      "     [11] on_demand_renderloop(screen::GLMakie.Screen{GLFW.Window})\n",
      "        @ GLMakie C:\\Users\\lorenah\\.julia\\packages\\GLMakie\\njLYr\\src\\screen.jl:1038\n",
      "     [12] renderloop(screen::GLMakie.Screen{GLFW.Window})\n",
      "        @ GLMakie C:\\Users\\lorenah\\.julia\\packages\\GLMakie\\njLYr\\src\\screen.jl:1066\n",
      "     [13] (::GLMakie.var\"#79#80\"{GLMakie.Screen{GLFW.Window}})()\n",
      "        @ GLMakie C:\\Users\\lorenah\\.julia\\packages\\GLMakie\\njLYr\\src\\screen.jl:927\n",
      "\n",
      "Stacktrace:\n",
      "  [1] wait(t::Task)\n",
      "    @ Base .\\task.jl:370\n",
      "  [2] wait(x::GLMakie.Screen{GLFW.Window})\n",
      "    @ GLMakie C:\\Users\\lorenah\\.julia\\packages\\GLMakie\\njLYr\\src\\screen.jl:551\n",
      "  [3] #stop_renderloop!#81\n",
      "    @ C:\\Users\\lorenah\\.julia\\packages\\GLMakie\\njLYr\\src\\screen.jl:951 [inlined]\n",
      "  [4] singleton_screen(debugging::Bool)\n",
      "    @ GLMakie C:\\Users\\lorenah\\.julia\\packages\\GLMakie\\njLYr\\src\\screen.jl:381\n",
      "  [5] GLMakie.Screen(scene::Scene, config::GLMakie.ScreenConfig; visible::Nothing, start_renderloop::Bool)\n",
      "    @ GLMakie C:\\Users\\lorenah\\.julia\\packages\\GLMakie\\njLYr\\src\\screen.jl:517\n",
      "  [6] GLMakie.Screen(scene::Scene, config::GLMakie.ScreenConfig)\n",
      "    @ GLMakie C:\\Users\\lorenah\\.julia\\packages\\GLMakie\\njLYr\\src\\screen.jl:515\n",
      "  [7] getscreen(::Module, ::Scene, ::Dict{Symbol, Any})\n",
      "    @ Makie C:\\Users\\lorenah\\.julia\\packages\\Makie\\dpDAM\\src\\display.jl:436\n",
      "  [8] display(figlike::Figure; backend::Module, inline::Bool, update::Bool, screen_config::@Kwargs{})\n",
      "    @ Makie C:\\Users\\lorenah\\.julia\\packages\\Makie\\dpDAM\\src\\display.jl:165\n",
      "  [9] display(figlike::Figure)\n",
      "    @ Makie C:\\Users\\lorenah\\.julia\\packages\\Makie\\dpDAM\\src\\display.jl:130\n",
      " [10] #invokelatest#2\n",
      "    @ .\\essentials.jl:1055 [inlined]\n",
      " [11] invokelatest\n",
      "    @ .\\essentials.jl:1052 [inlined]\n",
      " [12] (::VSCodeServer.var\"#217#218\"{VSCodeServer.NotebookRunCellArguments, String})()\n",
      "    @ VSCodeServer c:\\Users\\lorenah\\.vscode\\extensions\\julialang.language-julia-1.141.2\\scripts\\packages\\VSCodeServer\\src\\serve_notebook.jl:54\n",
      " [13] withpath(f::VSCodeServer.var\"#217#218\"{VSCodeServer.NotebookRunCellArguments, String}, path::String)\n",
      "    @ VSCodeServer c:\\Users\\lorenah\\.vscode\\extensions\\julialang.language-julia-1.141.2\\scripts\\packages\\VSCodeServer\\src\\repl.jl:276\n",
      " [14] notebook_runcell_request(conn::VSCodeServer.JSONRPC.JSONRPCEndpoint{Base.PipeEndpoint, Base.PipeEndpoint, VSCodeServer.JSON.Serializations.StandardSerialization}, params::VSCodeServer.NotebookRunCellArguments, token::VSCodeServer.CancellationTokens.CancellationToken)\n",
      "    @ VSCodeServer c:\\Users\\lorenah\\.vscode\\extensions\\julialang.language-julia-1.141.2\\scripts\\packages\\VSCodeServer\\src\\serve_notebook.jl:13\n",
      " [15] dispatch_msg(x::VSCodeServer.JSONRPC.JSONRPCEndpoint{Base.PipeEndpoint, Base.PipeEndpoint, VSCodeServer.JSON.Serializations.StandardSerialization}, dispatcher::VSCodeServer.JSONRPC.MsgDispatcher, msg::VSCodeServer.JSONRPC.Request)\n",
      "    @ VSCodeServer.JSONRPC c:\\Users\\lorenah\\.vscode\\extensions\\julialang.language-julia-1.141.2\\scripts\\packages\\JSONRPC\\src\\typed.jl:68\n",
      " [16] serve_notebook(pipename::String, debugger_pipename::String, outputchannel_logger::Base.CoreLogging.SimpleLogger; error_handler::var\"#5#10\"{String})\n",
      "    @ VSCodeServer c:\\Users\\lorenah\\.vscode\\extensions\\julialang.language-julia-1.141.2\\scripts\\packages\\VSCodeServer\\src\\serve_notebook.jl:147\n",
      " [17] top-level scope\n",
      "    @ c:\\Users\\lorenah\\.vscode\\extensions\\julialang.language-julia-1.141.2\\scripts\\notebook\\notebook.jl:35"
     ]
    }
   ],
   "source": [
    "GLMakie.activate!(inline=false)\n",
    "plot_dashboard(output; plot_type=\"line\")"
   ]
  },
  {
   "cell_type": "markdown",
   "id": "ac55952e",
   "metadata": {},
   "source": [
    "## Part 2 - Handle Cell Parameters"
   ]
  },
  {
   "cell_type": "markdown",
   "id": "6c91263b",
   "metadata": {},
   "source": [
    "To change cell parameters, we can modify the JSON files directly, or we can read them into objects in the script and modify them as Dictionaries. A loaded cell parameter set is a Dictionary-like object which come with additional handy functions. First, lets list the outermost keys of the cell parameters object."
   ]
  },
  {
   "cell_type": "code",
   "execution_count": 14,
   "id": "e412a4c7",
   "metadata": {},
   "outputs": [
    {
     "data": {
      "text/plain": [
       "KeySet for a Dict{String, Any} with 6 entries. Keys:\n",
       "  \"Electrolyte\"\n",
       "  \"Cell\"\n",
       "  \"Metadata\"\n",
       "  \"PositiveElectrode\"\n",
       "  \"Separator\"\n",
       "  \"NegativeElectrode\""
      ]
     },
     "metadata": {},
     "output_type": "display_data"
    }
   ],
   "source": [
    "cell_parameters = load_cell_parameters(; from_default_set = \"Chen2020\")\n",
    "keys(cell_parameters)"
   ]
  },
  {
   "cell_type": "markdown",
   "id": "d2cf445b",
   "metadata": {},
   "source": [
    "Now we access the Separator key."
   ]
  },
  {
   "cell_type": "code",
   "execution_count": 15,
   "id": "a115cccf",
   "metadata": {},
   "outputs": [
    {
     "data": {
      "text/plain": [
       "Dict{String, Any} with 5 entries:\n",
       "  \"Description\"          => \"Ceramic-coated Polyolefin\"\n",
       "  \"Density\"              => 946\n",
       "  \"BruggemanCoefficient\" => 1.5\n",
       "  \"Thickness\"            => 1.2e-5\n",
       "  \"Porosity\"             => 0.47"
      ]
     },
     "metadata": {},
     "output_type": "display_data"
    }
   ],
   "source": [
    "cell_parameters[\"Separator\"]"
   ]
  },
  {
   "cell_type": "markdown",
   "id": "379b0ef9",
   "metadata": {},
   "source": [
    "We have a flat list of parameters and values for the separator. In other cases, a key might nest other dictionaries, which can be accessed using the normal dictionary notation. Lets for instance see the active material parameters of the negative electrode."
   ]
  },
  {
   "cell_type": "code",
   "execution_count": 16,
   "id": "f3674de5",
   "metadata": {},
   "outputs": [
    {
     "data": {
      "text/plain": [
       "Dict{String, Any} with 16 entries:\n",
       "  \"ActivationEnergyOfDiffusion\"       => 5000\n",
       "  \"NumberOfElectronsTransfered\"       => 1\n",
       "  \"StoichiometricCoefficientAtSOC0\"   => 0.0279\n",
       "  \"OpenCircuitPotential\"              => \"1.9793 * exp(-39.3631*(c/cmax)) + 0.2…\n",
       "  \"ReactionRateConstant\"              => 6.716e-12\n",
       "  \"MassFraction\"                      => 1.0\n",
       "  \"StoichiometricCoefficientAtSOC100\" => 0.9014\n",
       "  \"ActivationEnergyOfReaction\"        => 35000\n",
       "  \"MaximumConcentration\"              => 33133.0\n",
       "  \"VolumetricSurfaceArea\"             => 383959.0\n",
       "  \"Description\"                       => \"Graphite-SiOx\"\n",
       "  \"DiffusionCoefficient\"              => 3.3e-14\n",
       "  \"ParticleRadius\"                    => 5.86e-6\n",
       "  \"Density\"                           => 2260.0\n",
       "  \"ElectronicConductivity\"            => 215\n",
       "  \"ChargeTransferCoefficient\"         => 0.5"
      ]
     },
     "metadata": {},
     "output_type": "display_data"
    }
   ],
   "source": [
    "cell_parameters[\"NegativeElectrode\"][\"ActiveMaterial\"]"
   ]
  },
  {
   "cell_type": "markdown",
   "id": "8e28f1ab",
   "metadata": {},
   "source": [
    "In addition to manipulating parameters as dictionaries, we provide additional handy attributes and functions. For instance, we can display all cell parameters:"
   ]
  },
  {
   "cell_type": "code",
   "execution_count": 17,
   "id": "3f106fbb",
   "metadata": {},
   "outputs": [
    {
     "data": {
      "text/plain": [
       "{\n",
       "    \"Electrolyte\" =>     {\n",
       "        \"TransferenceNumber\" => 0.2594\n",
       "        \"Description\" => \"1 mol/l LiPF6 with ethylene carbonate (EC): ethyl methyl carbonate (EMC) (3:7, V:V)\"\n",
       "        \"DiffusionCoefficient\" => \"8.794*10^(-11)*(c/1000)^2 - 3.972*10^(-10)*(c/1000) + 4.862*10^(-10)\"\n",
       "        \"IonicConductivity\" => \"0.1297*(c/1000)^3 - 2.51*(c/1000)^(1.5) + 3.329*(c/1000)\"\n",
       "        \"Density\" => 1200\n",
       "        \"ChargeNumber\" => 1\n",
       "        \"Concentration\" => 1000\n",
       "    }\n",
       "    \"Cell\" =>     {\n",
       "        \"NominalVoltage\" => 3.71\n",
       "        \"ElectrodeGeometricSurfaceArea\" => 0.1027\n",
       "        \"Height\" => 0.065\n",
       "        \"NominalCapacity\" => 4.8\n",
       "        \"Name\" => \"LG INR 21700 M50\"\n",
       "        \"Case\" => \"Cylindrical\"\n",
       "        \"OuterRadius\" => 0.021\n",
       "    }\n",
       "    \"Metadata\" =>     {\n",
       "        \"Description\" => \"Parameter set of a cylindrical 21700 commercial cell (LGM50), for an electrochemical pseudo-two-dimensional (P2D) model, after calibration. SEI parameters are from Bolay2022: https://doi.org/10.1016/j.powera.2022.100083 .\"\n",
       "        \"Source\" => \"https://doi.org/10.1149/1945-7111/ab9050\"\n",
       "        \"Models\" =>         {\n",
       "            \"CurrentCollectors\" => \"Generic\"\n",
       "            \"SEIModel\" => \"Bolay\"\n",
       "            \"RampUp\" => \"Sinusoidal\"\n",
       "            \"TransportInSolid\" => \"FullDiffusion\"\n",
       "            \"ModelFramework\" => \"P2D\"\n",
       "        }\n",
       "        \"Title\" => \"Chen2020\"\n",
       "    }\n",
       "    \"PositiveElectrode\" =>     {\n",
       "        \"ActiveMaterial\" =>         {\n",
       "            \"ActivationEnergyOfDiffusion\" => 5000\n",
       "            \"NumberOfElectronsTransfered\" => 1\n",
       "            \"StoichiometricCoefficientAtSOC0\" => 0.9084\n",
       "            \"OpenCircuitPotential\" => \"-0.8090 * (c/cmax) + 4.4875 - 0.0428 * tanh(18.5138*((c/cmax) - 0.5542)) - 17.7326 * tanh(15.7890*((c/cmax) - 0.3117)) + 17.5842 * tanh(15.9308*((c/cmax) - 0.3120))\"\n",
       "            \"ReactionRateConstant\" => 3.545e-11\n",
       "            \"MassFraction\" => 1.0\n",
       "            \"StoichiometricCoefficientAtSOC100\" => 0.27\n",
       "            \"ActivationEnergyOfReaction\" => 17800.0\n",
       "            \"MaximumConcentration\" => 63104.0\n",
       "            \"VolumetricSurfaceArea\" => 383959.0\n",
       "            \"Description\" => \"NMC811\"\n",
       "            \"DiffusionCoefficient\" => 4.0e-15\n",
       "            \"ParticleRadius\" => 5.22e-6\n",
       "            \"Density\" => 4950\n",
       "            \"ElectronicConductivity\" => 0.18\n",
       "            \"ChargeTransferCoefficient\" => 0.5\n",
       "        }\n",
       "        \"ElectrodeCoating\" =>         {\n",
       "            \"BruggemanCoefficient\" => 1.5\n",
       "            \"EffectiveDensity\" => 3292\n",
       "            \"Thickness\" => 7.56e-5\n",
       "        }\n",
       "        \"Binder\" =>         {\n",
       "            \"Description\" => \"Unknown\"\n",
       "            \"MassFraction\" => 0.0\n",
       "            \"Density\" => 1780.0\n",
       "            \"ElectronicConductivity\" => 100\n",
       "        }\n",
       "        \"CurrentCollector\" =>         {\n",
       "            \"Description\" => \"Aluminum\"\n",
       "            \"Density\" => 2700\n",
       "            \"ElectronicConductivity\" => 5.96e7\n",
       "            \"Thickness\" => 1.63e-5\n",
       "        }\n",
       "        \"ConductiveAdditive\" =>         {\n",
       "            \"Description\" => \"Unknown\"\n",
       "            \"MassFraction\" => 0.0\n",
       "            \"Density\" => 1800.0\n",
       "            \"ElectronicConductivity\" => 100\n",
       "        }\n",
       "    }\n",
       "    \"Separator\" =>     {\n",
       "        \"Description\" => \"Ceramic-coated Polyolefin\"\n",
       "        \"Density\" => 946\n",
       "        \"BruggemanCoefficient\" => 1.5\n",
       "        \"Thickness\" => 1.2e-5\n",
       "        \"Porosity\" => 0.47\n",
       "    }\n",
       "    \"NegativeElectrode\" =>     {\n",
       "        \"Interphase\" =>         {\n",
       "            \"Description\" => \"EC-based SEI, from Bolay2022.\"\n",
       "            \"ElectronicDiffusionCoefficient\" => 1.6e-12\n",
       "            \"InterstitialConcentration\" => 0.015\n",
       "            \"InitialThickness\" => 1.0e-8\n",
       "            \"IonicConductivity\" => 1.0e-5\n",
       "            \"StoichiometricCoefficient\" => 2\n",
       "            \"InitialPotentialDrop\" => 0.5\n",
       "            \"MolarVolume\" => 9.586e-5\n",
       "        }\n",
       "        \"ActiveMaterial\" =>         {\n",
       "            \"ActivationEnergyOfDiffusion\" => 5000\n",
       "            \"NumberOfElectronsTransfered\" => 1\n",
       "            \"StoichiometricCoefficientAtSOC0\" => 0.0279\n",
       "            \"OpenCircuitPotential\" => \"1.9793 * exp(-39.3631*(c/cmax)) + 0.2482 - 0.0909 * tanh(29.8538*((c/cmax) - 0.1234)) - 0.04478 * tanh(14.9159*((c/cmax) - 0.2769)) - 0.0205 * tanh(30.4444*((c/cmax) - 0.6103))\"\n",
       "            \"ReactionRateConstant\" => 6.716e-12\n",
       "            \"MassFraction\" => 1.0\n",
       "            \"StoichiometricCoefficientAtSOC100\" => 0.9014\n",
       "            \"ActivationEnergyOfReaction\" => 35000\n",
       "            \"MaximumConcentration\" => 33133.0\n",
       "            \"VolumetricSurfaceArea\" => 383959.0\n",
       "            \"Description\" => \"Graphite-SiOx\"\n",
       "            \"DiffusionCoefficient\" => 3.3e-14\n",
       "            \"ParticleRadius\" => 5.86e-6\n",
       "            \"Density\" => 2260.0\n",
       "            \"ElectronicConductivity\" => 215\n",
       "            \"ChargeTransferCoefficient\" => 0.5\n",
       "        }\n",
       "        \"ElectrodeCoating\" =>         {\n",
       "            \"BruggemanCoefficient\" => 1.5\n",
       "            \"EffectiveDensity\" => 1695\n",
       "            \"Thickness\" => 8.52e-5\n",
       "        }\n",
       "        \"Binder\" =>         {\n",
       "            \"Description\" => \"Unknown\"\n",
       "            \"MassFraction\" => 0.0\n",
       "            \"Density\" => 1100.0\n",
       "            \"ElectronicConductivity\" => 100.0\n",
       "        }\n",
       "        \"CurrentCollector\" =>         {\n",
       "            \"Description\" => \"Copper\"\n",
       "            \"Density\" => 8960\n",
       "            \"ElectronicConductivity\" => 3.55e7\n",
       "            \"Thickness\" => 1.17e-5\n",
       "        }\n",
       "        \"ConductiveAdditive\" =>         {\n",
       "            \"Description\" => \"Unknown\"\n",
       "            \"MassFraction\" => 0.0\n",
       "            \"Density\" => 1950.0\n",
       "            \"ElectronicConductivity\" => 100.0\n",
       "        }\n",
       "    }\n",
       "}"
      ]
     },
     "metadata": {},
     "output_type": "display_data"
    }
   ],
   "source": [
    "cell_parameters"
   ]
  },
  {
   "cell_type": "markdown",
   "id": "92c709b1",
   "metadata": {},
   "source": [
    "However, there are many parameters, nested into dictionaries. Often, we are more interested in a specific subset of parameters. We can find a parameter with the search_parameter function. For example, we'd like to now how electrode related objects and parameters are named:"
   ]
  },
  {
   "cell_type": "code",
   "execution_count": 18,
   "id": "466ae2f8",
   "metadata": {},
   "outputs": [
    {
     "data": {
      "text/plain": [
       "1-element Vector{Any}:\n",
       " \"[Cell][ElectrodeGeometricSurfaceArea] => 0.1027\""
      ]
     },
     "metadata": {},
     "output_type": "display_data"
    }
   ],
   "source": [
    "search_parameter(cell_parameters, \"Electrode\")"
   ]
  },
  {
   "cell_type": "markdown",
   "id": "fba3433b",
   "metadata": {},
   "source": [
    "The search function also accepts partial matches and it is case-insentive."
   ]
  },
  {
   "cell_type": "code",
   "execution_count": 19,
   "id": "f491cd27",
   "metadata": {},
   "outputs": [
    {
     "data": {
      "text/plain": [
       "3-element Vector{Any}:\n",
       " \"[NegativeElectrode][ActiveMaterial][ChargeTransferCoefficient] => 0.5\"\n",
       " \"[PositiveElectrode][ActiveMaterial][ChargeTransferCoefficient] => 0.5\"\n",
       " \"[Electrolyte][ChargeNumber] => 1\""
      ]
     },
     "metadata": {},
     "output_type": "display_data"
    }
   ],
   "source": [
    "search_parameter(cell_parameters, \"char\")"
   ]
  },
  {
   "cell_type": "markdown",
   "id": "fbd44e65",
   "metadata": {},
   "source": [
    "Parameter that take single numerical values (e.g. real, integers, booleans) can be directly modified. Examples:"
   ]
  },
  {
   "cell_type": "code",
   "execution_count": 20,
   "id": "0eacc765",
   "metadata": {},
   "outputs": [
    {
     "data": {
      "text/plain": [
       "8.2e-5"
      ]
     },
     "metadata": {},
     "output_type": "display_data"
    }
   ],
   "source": [
    "cell_parameters[\"PositiveElectrode\"][\"ElectrodeCoating\"][\"Thickness\"] = 8.2e-5"
   ]
  },
  {
   "cell_type": "markdown",
   "id": "67a8438e",
   "metadata": {},
   "source": [
    "Some parameters are described as functions or arrays, since the parameter value depends on other variables. For instance the Open Circuit Potentials of the Active Materials depend on the lithium stoichiometry and temperature. When we're unsure about the type or meaning of a parameter, we can print information on invidual parameters as well. For some parameters, that require more explanation, a link to the documentation is provided. Visit the documentation of the OpenCircuitPotential parameter to find more information on how to implement you own user defined functional parameters."
   ]
  },
  {
   "cell_type": "code",
   "execution_count": 21,
   "id": "2d2184fb",
   "metadata": {},
   "outputs": [
    {
     "name": "stdout",
     "output_type": "stream",
     "text": [
      "================================================================================\n",
      "ℹ️  Parameter Information\n",
      "================================================================================\n",
      "🔹 Name:         \tOpenCircuitPotential\n",
      "🔹 Description:\t\tThe open-circuit potential of the active material under a given intercalant stoichimetry and temperature.\n",
      "🔹 Type:         \tString, Dict{String, Vector}, Real\n",
      "🔹 Unit:         \tV\n",
      "🔹 Documentation:\t[visit](https://battmoteam.github.io/BattMo.jl/dev/manuals/user_guide/simulation_dependent_input)\n",
      "\n",
      "🔹 Ontology link:\t[visit](https://w3id.org/emmo/domain/electrochemistry#electrochemistry_9c657fdc_b9d3_4964_907c_f9a6e8c5f52b)\n",
      "\n",
      "\n"
     ]
    }
   ],
   "source": [
    "parameter_name = \"OpenCircuitPotential\"\n",
    "\n",
    "print_parameter_info(parameter_name)"
   ]
  },
  {
   "cell_type": "markdown",
   "id": "e509010f",
   "metadata": {},
   "source": [
    "## Part 3 - Handle Cycling protocols"
   ]
  },
  {
   "cell_type": "markdown",
   "id": "bf567b9b",
   "metadata": {},
   "source": [
    "The cycling protocol parameters can be altered in the same way as the cell parameters. Let's load a default CCCV cycling protocol and change the number of cycles."
   ]
  },
  {
   "cell_type": "code",
   "execution_count": 22,
   "id": "51441785",
   "metadata": {},
   "outputs": [
    {
     "data": {
      "text/plain": [
       "10"
      ]
     },
     "metadata": {},
     "output_type": "display_data"
    }
   ],
   "source": [
    "cycling_protocol = load_cycling_protocol(; from_file_path= \"default_sets/cycling_protocols/CCCV.json\")\n",
    "cycling_protocol[\"TotalNumberOfCycles\"] = 10"
   ]
  },
  {
   "cell_type": "markdown",
   "id": "bd6d82ed",
   "metadata": {},
   "source": [
    "Let's run the CCCV protocol with the altered positive electrode coating thickness and plot some results"
   ]
  },
  {
   "cell_type": "code",
   "execution_count": 23,
   "id": "b5db1662",
   "metadata": {},
   "outputs": [
    {
     "name": "stdout",
     "output_type": "stream",
     "text": [
      "✔️ Validation of ModelSettings passed: No issues found.\n",
      "──────────────────────────────────────────────────\n",
      "✔️ Validation of CellParameters passed: No issues found.\n",
      "──────────────────────────────────────────────────\n",
      "✔️ Validation of CyclingProtocol passed: No issues found.\n",
      "──────────────────────────────────────────────────\n",
      "✔️ Validation of SimulationSettings passed: No issues found.\n",
      "──────────────────────────────────────────────────\n",
      "\u001b[92;1mJutul:\u001b[0m Simulating 2 days, 2 hours as 3600 report steps\n"
     ]
    },
    {
     "name": "stderr",
     "output_type": "stream",
     "text": [
      "\u001b[32mProgress   0%|█                                          |  ETA: 3:08:41\u001b[39m\u001b[K\n",
      "\n",
      "\u001b[32mProgress   0%|█                                          |  ETA: 2:11:32\u001b[39m\u001b[K\n",
      "\n",
      "\u001b[32mProgress   1%|█                                          |  ETA: 0:11:44\u001b[39m\u001b[K\n",
      "\n",
      "\u001b[32mProgress   2%|█                                          |  ETA: 0:07:33\u001b[39m\u001b[K\n",
      "\n",
      "\u001b[32mProgress   3%|██                                         |  ETA: 0:04:28\u001b[39m\u001b[K\n",
      "\n",
      "\u001b[32mProgress   4%|██                                         |  ETA: 0:03:21\u001b[39m\u001b[K\n",
      "\n",
      "\u001b[32mProgress   5%|███                                        |  ETA: 0:02:24\u001b[39m\u001b[K\n",
      "\n",
      "\u001b[32mProgress   6%|███                                        |  ETA: 0:01:53\u001b[39m\u001b[K\n",
      "\n",
      "\u001b[32mProgress   8%|████                                       |  ETA: 0:01:37\u001b[39m\u001b[K\n",
      "\n",
      "\u001b[32mProgress   8%|████                                       |  ETA: 0:01:33\u001b[39m\u001b[K\n",
      "\n",
      "\u001b[32mProgress   9%|████                                       |  ETA: 0:01:25\u001b[39m\u001b[K\n",
      "\n",
      "\u001b[32mProgress  10%|█████                                      |  ETA: 0:01:16\u001b[39m\u001b[K\n",
      "\n",
      "\u001b[32mProgress  11%|█████                                      |  ETA: 0:01:09\u001b[39m\u001b[K\n",
      "\n",
      "\u001b[32mProgress  12%|██████                                     |  ETA: 0:01:04\u001b[39m\u001b[K\n",
      "\n",
      "\u001b[32mProgress  14%|██████                                     |  ETA: 0:00:56\u001b[39m\u001b[K\n",
      "\n",
      "\u001b[32mProgress  15%|███████                                    |  ETA: 0:00:51\u001b[39m\u001b[K\n",
      "\n",
      "\u001b[32mProgress  16%|███████                                    |  ETA: 0:00:50\u001b[39m\u001b[K\n",
      "\n",
      "\u001b[32mProgress  17%|████████                                   |  ETA: 0:00:47\u001b[39m\u001b[K\n",
      "\n",
      "\u001b[32mProgress  18%|████████                                   |  ETA: 0:00:45\u001b[39m\u001b[K\n",
      "\n",
      "\u001b[32mProgress  19%|████████                                   |  ETA: 0:00:43\u001b[39m\u001b[K\n",
      "\n",
      "\u001b[32mProgress  20%|█████████                                  |  ETA: 0:00:40\u001b[39m\u001b[K\n",
      "\n",
      "\u001b[32mProgress  21%|██████████                                 |  ETA: 0:00:37\u001b[39m\u001b[K\n",
      "\n",
      "\u001b[32mProgress  23%|██████████                                 |  ETA: 0:00:34\u001b[39m\u001b[K\n",
      "\n",
      "\u001b[32mProgress  24%|███████████                                |  ETA: 0:00:34\u001b[39m\u001b[K\n",
      "\n",
      "\u001b[32mProgress  24%|███████████                                |  ETA: 0:00:33\u001b[39m\u001b[K\n",
      "\n",
      "\u001b[32mProgress  25%|███████████                                |  ETA: 0:00:32\u001b[39m\u001b[K\n",
      "\n",
      "\u001b[32mProgress  26%|████████████                               |  ETA: 0:00:30\u001b[39m\u001b[K\n",
      "\n",
      "\u001b[32mProgress  28%|████████████                               |  ETA: 0:00:29\u001b[39m\u001b[K\n",
      "\n",
      "\u001b[32mProgress  29%|█████████████                              |  ETA: 0:00:27\u001b[39m\u001b[K\n",
      "\n",
      "\u001b[32mProgress  31%|██████████████                             |  ETA: 0:00:25\u001b[39m\u001b[K\n",
      "\n",
      "\u001b[32mProgress  32%|██████████████                             |  ETA: 0:00:26\u001b[39m\u001b[K\n",
      "\n",
      "\u001b[32mProgress  32%|██████████████                             |  ETA: 0:00:25\u001b[39m\u001b[K\n",
      "\n",
      "\u001b[32mProgress  33%|███████████████                            |  ETA: 0:00:25\u001b[39m\u001b[K\n",
      "\n",
      "\u001b[32mProgress  34%|███████████████                            |  ETA: 0:00:24\u001b[39m\u001b[K\n",
      "\n",
      "\u001b[32mProgress  35%|███████████████                            |  ETA: 0:00:23\u001b[39m\u001b[K\n",
      "\n",
      "\u001b[32mProgress  36%|████████████████                           |  ETA: 0:00:22\u001b[39m\u001b[K\n",
      "\n",
      "\u001b[32mProgress  37%|█████████████████                          |  ETA: 0:00:21\u001b[39m\u001b[K\n",
      "\n",
      "\u001b[32mProgress  38%|█████████████████                          |  ETA: 0:00:22\u001b[39m\u001b[K\n",
      "\n",
      "\u001b[32mProgress  39%|█████████████████                          |  ETA: 0:00:22\u001b[39m\u001b[K\n",
      "\n",
      "\u001b[32mProgress  40%|██████████████████                         |  ETA: 0:00:21\u001b[39m\u001b[K\n",
      "\n",
      "\u001b[32mProgress  41%|██████████████████                         |  ETA: 0:00:21\u001b[39m\u001b[K\n",
      "\n",
      "\u001b[32mProgress  42%|██████████████████                         |  ETA: 0:00:20\u001b[39m\u001b[K\n",
      "\n",
      "\u001b[32mProgress  43%|███████████████████                        |  ETA: 0:00:19\u001b[39m\u001b[K\n",
      "\n",
      "\u001b[32mProgress  45%|████████████████████                       |  ETA: 0:00:18\u001b[39m\u001b[K\n",
      "\n",
      "\u001b[32mProgress  46%|████████████████████                       |  ETA: 0:00:17\u001b[39m\u001b[K\n",
      "\n",
      "\u001b[32mProgress  47%|█████████████████████                      |  ETA: 0:00:17\u001b[39m\u001b[K\n",
      "\n",
      "\u001b[32mProgress  47%|█████████████████████                      |  ETA: 0:00:17\u001b[39m\u001b[K\n",
      "\n",
      "\u001b[32mProgress  48%|█████████████████████                      |  ETA: 0:00:17\u001b[39m\u001b[K\n",
      "\n",
      "\u001b[32mProgress  49%|██████████████████████                     |  ETA: 0:00:16\u001b[39m\u001b[K\n",
      "\n",
      "\u001b[32mProgress  50%|██████████████████████                     |  ETA: 0:00:16\u001b[39m\u001b[K\n",
      "\n",
      "\u001b[32mProgress  52%|███████████████████████                    |  ETA: 0:00:15\u001b[39m\u001b[K\n",
      "\n",
      "\u001b[32mProgress  53%|███████████████████████                    |  ETA: 0:00:14\u001b[39m\u001b[K\n",
      "\n",
      "\u001b[32mProgress  54%|████████████████████████                   |  ETA: 0:00:14\u001b[39m\u001b[K\n",
      "\n",
      "\u001b[32mProgress  55%|████████████████████████                   |  ETA: 0:00:14\u001b[39m\u001b[K\n",
      "\n",
      "\u001b[32mProgress  56%|████████████████████████                   |  ETA: 0:00:14\u001b[39m\u001b[K\n",
      "\n",
      "\u001b[32mProgress  57%|█████████████████████████                  |  ETA: 0:00:13\u001b[39m\u001b[K\n",
      "\n",
      "\u001b[32mProgress  57%|█████████████████████████                  |  ETA: 0:00:13\u001b[39m\u001b[K\n",
      "\n",
      "\u001b[32mProgress  58%|██████████████████████████                 |  ETA: 0:00:13\u001b[39m\u001b[K\n",
      "\n",
      "\u001b[32mProgress  59%|██████████████████████████                 |  ETA: 0:00:12\u001b[39m\u001b[K\n",
      "\n",
      "\u001b[32mProgress  61%|███████████████████████████                |  ETA: 0:00:11\u001b[39m\u001b[K\n",
      "\n",
      "\u001b[32mProgress  62%|███████████████████████████                |  ETA: 0:00:11\u001b[39m\u001b[K\n",
      "\n",
      "\u001b[32mProgress  63%|███████████████████████████                |  ETA: 0:00:11\u001b[39m\u001b[K\n",
      "\n",
      "\u001b[32mProgress  63%|████████████████████████████               |  ETA: 0:00:11\u001b[39m\u001b[K\n",
      "\n",
      "\u001b[32mProgress  64%|████████████████████████████               |  ETA: 0:00:10\u001b[39m\u001b[K\n",
      "\n",
      "\u001b[32mProgress  65%|████████████████████████████               |  ETA: 0:00:10\u001b[39m\u001b[K\n",
      "\n",
      "\u001b[32mProgress  66%|█████████████████████████████              |  ETA: 0:00:10\u001b[39m\u001b[K\n",
      "\n",
      "\u001b[32mProgress  67%|█████████████████████████████              |  ETA: 0:00:09\u001b[39m\u001b[K\n",
      "\n",
      "\u001b[32mProgress  68%|██████████████████████████████             |  ETA: 0:00:09\u001b[39m\u001b[K\n",
      "\n",
      "\u001b[32mProgress  69%|██████████████████████████████             |  ETA: 0:00:09\u001b[39m\u001b[K\n",
      "\n",
      "\u001b[32mProgress  70%|███████████████████████████████            |  ETA: 0:00:08\u001b[39m\u001b[K\n",
      "\n",
      "\u001b[32mProgress  71%|███████████████████████████████            |  ETA: 0:00:08\u001b[39m\u001b[K\n",
      "\n",
      "\u001b[32mProgress  71%|███████████████████████████████            |  ETA: 0:00:08\u001b[39m\u001b[K\n",
      "\n",
      "\u001b[32mProgress  72%|████████████████████████████████           |  ETA: 0:00:08\u001b[39m\u001b[K\n",
      "\n",
      "\u001b[32mProgress  73%|████████████████████████████████           |  ETA: 0:00:07\u001b[39m\u001b[K\n",
      "\n",
      "\u001b[32mProgress  74%|████████████████████████████████           |  ETA: 0:00:07\u001b[39m\u001b[K\n",
      "\n",
      "\u001b[32mProgress  75%|█████████████████████████████████          |  ETA: 0:00:07\u001b[39m\u001b[K\n",
      "\n",
      "\u001b[32mProgress  77%|██████████████████████████████████         |  ETA: 0:00:06\u001b[39m\u001b[K\n",
      "\n",
      "\u001b[32mProgress  78%|██████████████████████████████████         |  ETA: 0:00:06\u001b[39m\u001b[K\n",
      "\n",
      "\u001b[32mProgress  78%|██████████████████████████████████         |  ETA: 0:00:06\u001b[39m\u001b[K\n",
      "\n",
      "\u001b[32mProgress 100%|███████████████████████████████████████████| Time: 0:00:21\u001b[39m\u001b[K\n"
     ]
    },
    {
     "name": "stdout",
     "output_type": "stream",
     "text": [
      "╭────────────────┬────────────┬────────────────┬──────────────╮\n",
      "│\u001b[1m Iteration type \u001b[0m│\u001b[1m   Avg/step \u001b[0m│\u001b[1m   Avg/ministep \u001b[0m│\u001b[1m        Total \u001b[0m│\n",
      "│\u001b[1m                \u001b[0m│\u001b[90m 2821 steps \u001b[0m│\u001b[90m 3047 ministeps \u001b[0m│\u001b[90m     (wasted) \u001b[0m│\n",
      "├────────────────┼────────────┼────────────────┼──────────────┤\n",
      "│\u001b[1m Newton         \u001b[0m│    3.02056 │        2.79652 │  8521 (2490) │\n",
      "│\u001b[1m Linearization  \u001b[0m│    4.10067 │        3.79652 │ 11568 (2656) │\n",
      "│\u001b[1m Linear solver  \u001b[0m│    3.02056 │        2.79652 │  8521 (2490) │\n",
      "│\u001b[1m Precond apply  \u001b[0m│        0.0 │            0.0 │        0 (0) │\n",
      "╰────────────────┴────────────┴────────────────┴──────────────╯\n",
      "╭───────────────┬────────┬────────────┬─────────╮\n",
      "│\u001b[1m Timing type   \u001b[0m│\u001b[1m   Each \u001b[0m│\u001b[1m   Relative \u001b[0m│\u001b[1m   Total \u001b[0m│\n",
      "│\u001b[1m               \u001b[0m│\u001b[90m     ms \u001b[0m│\u001b[90m Percentage \u001b[0m│\u001b[90m       s \u001b[0m│\n",
      "├───────────────┼────────┼────────────┼─────────┤\n",
      "│\u001b[1m Properties    \u001b[0m│ 0.1159 │     4.78 % │  0.9880 │\n",
      "│\u001b[1m Equations     \u001b[0m│ 0.5036 │    28.21 % │  5.8253 │\n",
      "│\u001b[1m Assembly      \u001b[0m│ 0.1843 │    10.32 % │  2.1317 │\n",
      "│\u001b[1m Linear solve  \u001b[0m│ 0.4505 │    18.59 % │  3.8386 │\n",
      "│\u001b[1m Linear setup  \u001b[0m│ 0.0000 │     0.00 % │  0.0000 │\n",
      "│\u001b[1m Precond apply \u001b[0m│ 0.0000 │     0.00 % │  0.0000 │\n",
      "│\u001b[1m Update        \u001b[0m│ 0.1213 │     5.00 % │  1.0334 │\n",
      "│\u001b[1m Convergence   \u001b[0m│ 0.2749 │    15.40 % │  3.1796 │\n",
      "│\u001b[1m Input/Output  \u001b[0m│ 0.0811 │     1.20 % │  0.2471 │\n",
      "│\u001b[1m Other         \u001b[0m│ 0.3998 │    16.50 % │  3.4070 │\n",
      "├───────────────┼────────┼────────────┼─────────┤\n",
      "│\u001b[1m Total         \u001b[0m│ 2.4235 │   100.00 % │ 20.6507 │\n",
      "╰───────────────┴────────┴────────────┴─────────╯\n"
     ]
    }
   ],
   "source": [
    "model_setup = LithiumIonBattery()\n",
    "\n",
    "sim = Simulation(model_setup, cell_parameters, cycling_protocol)\n",
    "\n",
    "output = solve(sim);"
   ]
  },
  {
   "cell_type": "markdown",
   "id": "d02eddae",
   "metadata": {},
   "source": [
    "Let's use another built in plotting function to only plot the voltage and current over time."
   ]
  },
  {
   "cell_type": "code",
   "execution_count": 24,
   "id": "2e7330e7",
   "metadata": {},
   "outputs": [
    {
     "ename": "TaskFailedException",
     "evalue": "TaskFailedException\n\n    nested task error: GLFWError (PLATFORM_ERROR): WGL: Failed to make context current: The operation completed successfully. \n    Stacktrace:\n      [1] _ErrorCallbackWrapper(code::Int32, description::Cstring)\n        @ GLFW C:\\Users\\lorenah\\.julia\\packages\\GLFW\\a10jC\\src\\callback.jl:46\n      [2] MakeContextCurrent\n        @ C:\\Users\\lorenah\\.julia\\packages\\GLFW\\a10jC\\src\\glfw3.jl:835 [inlined]\n      [3] native_switch_context!\n        @ C:\\Users\\lorenah\\.julia\\packages\\GLMakie\\njLYr\\src\\glwindow.jl:223 [inlined]\n      [4] switch_context!\n        @ C:\\Users\\lorenah\\.julia\\packages\\ShaderAbstractions\\BCZHP\\src\\context.jl:51 [inlined]\n      [5] (::GLMakie.var\"#windowsizecb#168\"{Scene, GLMakie.Screen{GLFW.Window}})(window::GLFW.Window, width::Int32, height::Int32)\n        @ GLMakie C:\\Users\\lorenah\\.julia\\packages\\GLMakie\\njLYr\\src\\events.jl:52\n      [6] (::GLMakie.var\"#167#169\"{GLMakie.var\"#windowsizecb#168\"{Scene, GLMakie.Screen{GLFW.Window}}})(win::GLFW.Window, w::Int32, h::Int32)\n        @ GLMakie C:\\Users\\lorenah\\.julia\\packages\\GLMakie\\njLYr\\src\\events.jl:75\n      [7] _WindowSizeCallbackWrapper(window::GLFW.Window, width::Int32, height::Int32)\n        @ GLFW C:\\Users\\lorenah\\.julia\\packages\\GLFW\\a10jC\\src\\callback.jl:46\n      [8] macro expansion\n        @ C:\\Users\\lorenah\\.julia\\packages\\GLFW\\a10jC\\src\\GLFW.jl:34 [inlined]\n      [9] PollEvents\n        @ C:\\Users\\lorenah\\.julia\\packages\\GLFW\\a10jC\\src\\glfw3.jl:747 [inlined]\n     [10] pollevents(screen::GLMakie.Screen{GLFW.Window}, frame_state::Makie.TickState)\n        @ GLMakie C:\\Users\\lorenah\\.julia\\packages\\GLMakie\\njLYr\\src\\screen.jl:546\n     [11] on_demand_renderloop(screen::GLMakie.Screen{GLFW.Window})\n        @ GLMakie C:\\Users\\lorenah\\.julia\\packages\\GLMakie\\njLYr\\src\\screen.jl:1038\n     [12] renderloop(screen::GLMakie.Screen{GLFW.Window})\n        @ GLMakie C:\\Users\\lorenah\\.julia\\packages\\GLMakie\\njLYr\\src\\screen.jl:1066\n     [13] (::GLMakie.var\"#79#80\"{GLMakie.Screen{GLFW.Window}})()\n        @ GLMakie C:\\Users\\lorenah\\.julia\\packages\\GLMakie\\njLYr\\src\\screen.jl:927",
     "output_type": "error",
     "traceback": [
      "TaskFailedException\n",
      "\n",
      "    nested task error: GLFWError (PLATFORM_ERROR): WGL: Failed to make context current: The operation completed successfully. \n",
      "    Stacktrace:\n",
      "      [1] _ErrorCallbackWrapper(code::Int32, description::Cstring)\n",
      "        @ GLFW C:\\Users\\lorenah\\.julia\\packages\\GLFW\\a10jC\\src\\callback.jl:46\n",
      "      [2] MakeContextCurrent\n",
      "        @ C:\\Users\\lorenah\\.julia\\packages\\GLFW\\a10jC\\src\\glfw3.jl:835 [inlined]\n",
      "      [3] native_switch_context!\n",
      "        @ C:\\Users\\lorenah\\.julia\\packages\\GLMakie\\njLYr\\src\\glwindow.jl:223 [inlined]\n",
      "      [4] switch_context!\n",
      "        @ C:\\Users\\lorenah\\.julia\\packages\\ShaderAbstractions\\BCZHP\\src\\context.jl:51 [inlined]\n",
      "      [5] (::GLMakie.var\"#windowsizecb#168\"{Scene, GLMakie.Screen{GLFW.Window}})(window::GLFW.Window, width::Int32, height::Int32)\n",
      "        @ GLMakie C:\\Users\\lorenah\\.julia\\packages\\GLMakie\\njLYr\\src\\events.jl:52\n",
      "      [6] (::GLMakie.var\"#167#169\"{GLMakie.var\"#windowsizecb#168\"{Scene, GLMakie.Screen{GLFW.Window}}})(win::GLFW.Window, w::Int32, h::Int32)\n",
      "        @ GLMakie C:\\Users\\lorenah\\.julia\\packages\\GLMakie\\njLYr\\src\\events.jl:75\n",
      "      [7] _WindowSizeCallbackWrapper(window::GLFW.Window, width::Int32, height::Int32)\n",
      "        @ GLFW C:\\Users\\lorenah\\.julia\\packages\\GLFW\\a10jC\\src\\callback.jl:46\n",
      "      [8] macro expansion\n",
      "        @ C:\\Users\\lorenah\\.julia\\packages\\GLFW\\a10jC\\src\\GLFW.jl:34 [inlined]\n",
      "      [9] PollEvents\n",
      "        @ C:\\Users\\lorenah\\.julia\\packages\\GLFW\\a10jC\\src\\glfw3.jl:747 [inlined]\n",
      "     [10] pollevents(screen::GLMakie.Screen{GLFW.Window}, frame_state::Makie.TickState)\n",
      "        @ GLMakie C:\\Users\\lorenah\\.julia\\packages\\GLMakie\\njLYr\\src\\screen.jl:546\n",
      "     [11] on_demand_renderloop(screen::GLMakie.Screen{GLFW.Window})\n",
      "        @ GLMakie C:\\Users\\lorenah\\.julia\\packages\\GLMakie\\njLYr\\src\\screen.jl:1038\n",
      "     [12] renderloop(screen::GLMakie.Screen{GLFW.Window})\n",
      "        @ GLMakie C:\\Users\\lorenah\\.julia\\packages\\GLMakie\\njLYr\\src\\screen.jl:1066\n",
      "     [13] (::GLMakie.var\"#79#80\"{GLMakie.Screen{GLFW.Window}})()\n",
      "        @ GLMakie C:\\Users\\lorenah\\.julia\\packages\\GLMakie\\njLYr\\src\\screen.jl:927\n",
      "\n",
      "Stacktrace:\n",
      "  [1] wait(t::Task)\n",
      "    @ Base .\\task.jl:370\n",
      "  [2] wait(x::GLMakie.Screen{GLFW.Window})\n",
      "    @ GLMakie C:\\Users\\lorenah\\.julia\\packages\\GLMakie\\njLYr\\src\\screen.jl:551\n",
      "  [3] #stop_renderloop!#81\n",
      "    @ C:\\Users\\lorenah\\.julia\\packages\\GLMakie\\njLYr\\src\\screen.jl:951 [inlined]\n",
      "  [4] singleton_screen(debugging::Bool)\n",
      "    @ GLMakie C:\\Users\\lorenah\\.julia\\packages\\GLMakie\\njLYr\\src\\screen.jl:381\n",
      "  [5] GLMakie.Screen(scene::Scene, config::GLMakie.ScreenConfig; visible::Nothing, start_renderloop::Bool)\n",
      "    @ GLMakie C:\\Users\\lorenah\\.julia\\packages\\GLMakie\\njLYr\\src\\screen.jl:517\n",
      "  [6] GLMakie.Screen(scene::Scene, config::GLMakie.ScreenConfig)\n",
      "    @ GLMakie C:\\Users\\lorenah\\.julia\\packages\\GLMakie\\njLYr\\src\\screen.jl:515\n",
      "  [7] getscreen(::Module, ::Scene, ::Dict{Symbol, Any})\n",
      "    @ Makie C:\\Users\\lorenah\\.julia\\packages\\Makie\\dpDAM\\src\\display.jl:436\n",
      "  [8] display(figlike::Figure; backend::Module, inline::Bool, update::Bool, screen_config::@Kwargs{})\n",
      "    @ Makie C:\\Users\\lorenah\\.julia\\packages\\Makie\\dpDAM\\src\\display.jl:148\n",
      "  [9] display(figlike::Figure)\n",
      "    @ Makie C:\\Users\\lorenah\\.julia\\packages\\Makie\\dpDAM\\src\\display.jl:130\n",
      " [10] #invokelatest#2\n",
      "    @ .\\essentials.jl:1055 [inlined]\n",
      " [11] invokelatest\n",
      "    @ .\\essentials.jl:1052 [inlined]\n",
      " [12] (::VSCodeServer.var\"#217#218\"{VSCodeServer.NotebookRunCellArguments, String})()\n",
      "    @ VSCodeServer c:\\Users\\lorenah\\.vscode\\extensions\\julialang.language-julia-1.141.2\\scripts\\packages\\VSCodeServer\\src\\serve_notebook.jl:54\n",
      " [13] withpath(f::VSCodeServer.var\"#217#218\"{VSCodeServer.NotebookRunCellArguments, String}, path::String)\n",
      "    @ VSCodeServer c:\\Users\\lorenah\\.vscode\\extensions\\julialang.language-julia-1.141.2\\scripts\\packages\\VSCodeServer\\src\\repl.jl:276\n",
      " [14] notebook_runcell_request(conn::VSCodeServer.JSONRPC.JSONRPCEndpoint{Base.PipeEndpoint, Base.PipeEndpoint, VSCodeServer.JSON.Serializations.StandardSerialization}, params::VSCodeServer.NotebookRunCellArguments, token::VSCodeServer.CancellationTokens.CancellationToken)\n",
      "    @ VSCodeServer c:\\Users\\lorenah\\.vscode\\extensions\\julialang.language-julia-1.141.2\\scripts\\packages\\VSCodeServer\\src\\serve_notebook.jl:13\n",
      " [15] dispatch_msg(x::VSCodeServer.JSONRPC.JSONRPCEndpoint{Base.PipeEndpoint, Base.PipeEndpoint, VSCodeServer.JSON.Serializations.StandardSerialization}, dispatcher::VSCodeServer.JSONRPC.MsgDispatcher, msg::VSCodeServer.JSONRPC.Request)\n",
      "    @ VSCodeServer.JSONRPC c:\\Users\\lorenah\\.vscode\\extensions\\julialang.language-julia-1.141.2\\scripts\\packages\\JSONRPC\\src\\typed.jl:68\n",
      " [16] serve_notebook(pipename::String, debugger_pipename::String, outputchannel_logger::Base.CoreLogging.SimpleLogger; error_handler::var\"#5#10\"{String})\n",
      "    @ VSCodeServer c:\\Users\\lorenah\\.vscode\\extensions\\julialang.language-julia-1.141.2\\scripts\\packages\\VSCodeServer\\src\\serve_notebook.jl:147\n",
      " [17] top-level scope\n",
      "    @ c:\\Users\\lorenah\\.vscode\\extensions\\julialang.language-julia-1.141.2\\scripts\\notebook\\notebook.jl:35"
     ]
    }
   ],
   "source": [
    "GLMakie.activate!(inline=true)\n",
    "plot_dashboard(output; plot_type = \"simple\")"
   ]
  },
  {
   "cell_type": "markdown",
   "id": "0d77eb4d",
   "metadata": {},
   "source": [
    "## Part 4 - Retrieve output quantities and cell metrics"
   ]
  },
  {
   "cell_type": "markdown",
   "id": "b979c7ae",
   "metadata": {},
   "source": [
    "Let's use the output from the previous CCCV simulation. The output is a NamedTuple that contains a lot of different data and can sometimes be a bit difficult to navigate. Therefore BattMo contains some handy functions to retrieve the data that you want. First print an overview of the output to see which variables are available in the output."
   ]
  },
  {
   "cell_type": "code",
   "execution_count": 25,
   "id": "3589d6ce",
   "metadata": {},
   "outputs": [
    {
     "name": "stdout",
     "output_type": "stream",
     "text": [
      "\n",
      "Case: TIME_SERIES\n",
      "==================================================\n",
      "Variable                           Unit\n",
      "--------------------------------------------------\n",
      "Current                            A\n",
      "Time                               s\n",
      "Voltage                            V\n",
      "==================================================\n",
      "\n",
      "Case: METRICS\n",
      "==================================================\n",
      "Variable                           Unit\n",
      "--------------------------------------------------\n",
      "ChargeCapacity                     Ah\n",
      "ChargeEnergy                       J\n",
      "CycleNumber                        1\n",
      "DischargeCapacity                  Ah\n",
      "DischargeEnergy                    J\n",
      "RoundTripEfficiency                %\n",
      "==================================================\n",
      "\n",
      "Case: STATES\n",
      "==================================================\n",
      "Variable                           Unit\n",
      "--------------------------------------------------\n",
      "ElectrolyteCharge                  C\n",
      "ElectrolyteConcentration           mol·m⁻³\n",
      "ElectrolyteConductivity            S·m⁻¹\n",
      "ElectrolyteDiffusivity             m2·s\n",
      "ElectrolyteMass                    g\n",
      "ElectrolytePotential               V\n",
      "NeAmCharge                         C\n",
      "NeAmConcentration                  mol·L⁻¹\n",
      "NeAmOpenCircuitPotential           V\n",
      "NeAmPotential                      V\n",
      "NeAmRadius                         m\n",
      "NeAmSurfaceConcentration           mol·L⁻¹\n",
      "NeAmTemperature                    T\n",
      "PeAmCharge                         C\n",
      "PeAmConcentration                  mol·L⁻¹\n",
      "PeAmOpenCircuitPotential           V\n",
      "PeAmPotential                      V\n",
      "PeAmRadius                         m\n",
      "PeAmSurfaceConcentration           mol·L⁻¹\n",
      "PeAmTemperature                    T\n",
      "Position                           m\n",
      "==================================================\n"
     ]
    }
   ],
   "source": [
    "print_output_overview(output)"
   ]
  },
  {
   "cell_type": "markdown",
   "id": "fea7225d",
   "metadata": {},
   "source": [
    "In the overview we can quickly see the aivalable variables and their units. We can also see that the variables have been devided into three categories: time series, states, and metrics. This has been done to provide some structure to the variables that is intuative and cleans up the data. We also use these three categories when retrieving data. Let's first retrieve for example time series data like voltage, current and time."
   ]
  },
  {
   "cell_type": "code",
   "execution_count": 26,
   "id": "9c641940",
   "metadata": {},
   "outputs": [],
   "source": [
    "time_series = get_output_time_series(output)\n",
    "\n",
    "t = time_series[:Time]\n",
    "E = time_series[:Voltage]\n",
    "I = time_series[:Current];"
   ]
  },
  {
   "cell_type": "markdown",
   "id": "c8f6bcdd",
   "metadata": {},
   "source": [
    "Let's now retrieve some state variables"
   ]
  },
  {
   "cell_type": "code",
   "execution_count": 27,
   "id": "388ff375",
   "metadata": {},
   "outputs": [],
   "source": [
    "states = get_output_states(output)\n",
    "\n",
    "negative_electrode_concentration = states[:NeAmConcentration]\n",
    "negative_electrode_surface_concentration = states[:NeAmSurfaceConcentration];"
   ]
  },
  {
   "cell_type": "markdown",
   "id": "cf41e6e1",
   "metadata": {},
   "source": [
    "We can also print more information on each individual variable. For example, it might be a bit unclear what the difference is between the NeAmConcenctration and NeAmSurfaceConcentration. For this purpose we can use the `print_output_variable_info()` function."
   ]
  },
  {
   "cell_type": "code",
   "execution_count": 28,
   "id": "1214a7ba",
   "metadata": {},
   "outputs": [
    {
     "name": "stdout",
     "output_type": "stream",
     "text": [
      "================================================================================\n",
      "ℹ️  Variable Information\n",
      "================================================================================\n",
      "🔹 Name:         \tNeAmConcentration\n",
      "🔹 Description:\t\tRadial distribution of lithium concentration in negative electrode particles.\n",
      "🔹 Type:         \tVector{Real}\n",
      "🔹 Shape:         \t(nTime, nPosition, nNeAmRadius)\n",
      "🔹 Unit:         \tmol·L⁻¹\n",
      "\n"
     ]
    }
   ],
   "source": [
    "print_output_variable_info(\"NeAmConcentration\")"
   ]
  },
  {
   "cell_type": "code",
   "execution_count": 29,
   "id": "713e6e31",
   "metadata": {},
   "outputs": [
    {
     "name": "stdout",
     "output_type": "stream",
     "text": [
      "================================================================================\n",
      "ℹ️  Variable Information\n",
      "================================================================================\n",
      "🔹 Name:         \tNeAmSurfaceConcentration\n",
      "🔹 Description:\t\tConcentration of lithium ions at the surface of negative electrode particles.\n",
      "🔹 Type:         \tVector{Real}\n",
      "🔹 Shape:         \t(nTime, nPosition)\n",
      "🔹 Unit:         \tmol·L⁻¹\n",
      "\n"
     ]
    }
   ],
   "source": [
    "print_output_variable_info(\"NeAmSurfaceConcentration\")"
   ]
  },
  {
   "cell_type": "markdown",
   "id": "1cc8239b",
   "metadata": {},
   "source": [
    "We can have a better idea of what the variable represents by reading the description and checking the shape of the variable. We can also retrieve some KPIs from the output."
   ]
  },
  {
   "cell_type": "code",
   "execution_count": 30,
   "id": "9b50dd32",
   "metadata": {},
   "outputs": [
    {
     "data": {
      "text/plain": [
       "2820-element Vector{Int64}:\n",
       "  0\n",
       "  0\n",
       "  0\n",
       "  0\n",
       "  0\n",
       "  0\n",
       "  0\n",
       "  0\n",
       "  0\n",
       "  0\n",
       "  ⋮\n",
       "  9\n",
       "  9\n",
       "  9\n",
       "  9\n",
       "  9\n",
       "  9\n",
       "  9\n",
       "  9\n",
       " 10"
      ]
     },
     "metadata": {},
     "output_type": "display_data"
    }
   ],
   "source": [
    "metrics = get_output_metrics(output)\n",
    "\n",
    "discharge_capacity = metrics[:DischargeCapacity]\n",
    "round_trip_efficiency = metrics[:RoundTripEfficiency]\n",
    "cycle_numbers = metrics[:CycleNumber]"
   ]
  },
  {
   "cell_type": "markdown",
   "id": "7ca18b19",
   "metadata": {},
   "source": [
    "We can see that the last time step step contains cycle number 10 which represents the start of the 11th cycle, but as the simulation was ordered to complete 10 cycles, it terminates right after entering the 11th cycle. Therefore, we'll remove the data for cycle 10. Let's retrieve the unique cycle numbers in an array and plot the discharge capacity against it."
   ]
  },
  {
   "cell_type": "code",
   "execution_count": 31,
   "id": "0922daa9",
   "metadata": {},
   "outputs": [
    {
     "ename": "TaskFailedException",
     "evalue": "TaskFailedException\n\n    nested task error: GLFWError (PLATFORM_ERROR): WGL: Failed to make context current: The operation completed successfully. \n    Stacktrace:\n      [1] _ErrorCallbackWrapper(code::Int32, description::Cstring)\n        @ GLFW C:\\Users\\lorenah\\.julia\\packages\\GLFW\\a10jC\\src\\callback.jl:46\n      [2] MakeContextCurrent\n        @ C:\\Users\\lorenah\\.julia\\packages\\GLFW\\a10jC\\src\\glfw3.jl:835 [inlined]\n      [3] native_switch_context!\n        @ C:\\Users\\lorenah\\.julia\\packages\\GLMakie\\njLYr\\src\\glwindow.jl:223 [inlined]\n      [4] switch_context!\n        @ C:\\Users\\lorenah\\.julia\\packages\\ShaderAbstractions\\BCZHP\\src\\context.jl:51 [inlined]\n      [5] (::GLMakie.var\"#windowsizecb#168\"{Scene, GLMakie.Screen{GLFW.Window}})(window::GLFW.Window, width::Int32, height::Int32)\n        @ GLMakie C:\\Users\\lorenah\\.julia\\packages\\GLMakie\\njLYr\\src\\events.jl:52\n      [6] (::GLMakie.var\"#167#169\"{GLMakie.var\"#windowsizecb#168\"{Scene, GLMakie.Screen{GLFW.Window}}})(win::GLFW.Window, w::Int32, h::Int32)\n        @ GLMakie C:\\Users\\lorenah\\.julia\\packages\\GLMakie\\njLYr\\src\\events.jl:75\n      [7] _WindowSizeCallbackWrapper(window::GLFW.Window, width::Int32, height::Int32)\n        @ GLFW C:\\Users\\lorenah\\.julia\\packages\\GLFW\\a10jC\\src\\callback.jl:46\n      [8] macro expansion\n        @ C:\\Users\\lorenah\\.julia\\packages\\GLFW\\a10jC\\src\\GLFW.jl:34 [inlined]\n      [9] PollEvents\n        @ C:\\Users\\lorenah\\.julia\\packages\\GLFW\\a10jC\\src\\glfw3.jl:747 [inlined]\n     [10] pollevents(screen::GLMakie.Screen{GLFW.Window}, frame_state::Makie.TickState)\n        @ GLMakie C:\\Users\\lorenah\\.julia\\packages\\GLMakie\\njLYr\\src\\screen.jl:546\n     [11] on_demand_renderloop(screen::GLMakie.Screen{GLFW.Window})\n        @ GLMakie C:\\Users\\lorenah\\.julia\\packages\\GLMakie\\njLYr\\src\\screen.jl:1038\n     [12] renderloop(screen::GLMakie.Screen{GLFW.Window})\n        @ GLMakie C:\\Users\\lorenah\\.julia\\packages\\GLMakie\\njLYr\\src\\screen.jl:1066\n     [13] (::GLMakie.var\"#79#80\"{GLMakie.Screen{GLFW.Window}})()\n        @ GLMakie C:\\Users\\lorenah\\.julia\\packages\\GLMakie\\njLYr\\src\\screen.jl:927",
     "output_type": "error",
     "traceback": [
      "TaskFailedException\n",
      "\n",
      "    nested task error: GLFWError (PLATFORM_ERROR): WGL: Failed to make context current: The operation completed successfully. \n",
      "    Stacktrace:\n",
      "      [1] _ErrorCallbackWrapper(code::Int32, description::Cstring)\n",
      "        @ GLFW C:\\Users\\lorenah\\.julia\\packages\\GLFW\\a10jC\\src\\callback.jl:46\n",
      "      [2] MakeContextCurrent\n",
      "        @ C:\\Users\\lorenah\\.julia\\packages\\GLFW\\a10jC\\src\\glfw3.jl:835 [inlined]\n",
      "      [3] native_switch_context!\n",
      "        @ C:\\Users\\lorenah\\.julia\\packages\\GLMakie\\njLYr\\src\\glwindow.jl:223 [inlined]\n",
      "      [4] switch_context!\n",
      "        @ C:\\Users\\lorenah\\.julia\\packages\\ShaderAbstractions\\BCZHP\\src\\context.jl:51 [inlined]\n",
      "      [5] (::GLMakie.var\"#windowsizecb#168\"{Scene, GLMakie.Screen{GLFW.Window}})(window::GLFW.Window, width::Int32, height::Int32)\n",
      "        @ GLMakie C:\\Users\\lorenah\\.julia\\packages\\GLMakie\\njLYr\\src\\events.jl:52\n",
      "      [6] (::GLMakie.var\"#167#169\"{GLMakie.var\"#windowsizecb#168\"{Scene, GLMakie.Screen{GLFW.Window}}})(win::GLFW.Window, w::Int32, h::Int32)\n",
      "        @ GLMakie C:\\Users\\lorenah\\.julia\\packages\\GLMakie\\njLYr\\src\\events.jl:75\n",
      "      [7] _WindowSizeCallbackWrapper(window::GLFW.Window, width::Int32, height::Int32)\n",
      "        @ GLFW C:\\Users\\lorenah\\.julia\\packages\\GLFW\\a10jC\\src\\callback.jl:46\n",
      "      [8] macro expansion\n",
      "        @ C:\\Users\\lorenah\\.julia\\packages\\GLFW\\a10jC\\src\\GLFW.jl:34 [inlined]\n",
      "      [9] PollEvents\n",
      "        @ C:\\Users\\lorenah\\.julia\\packages\\GLFW\\a10jC\\src\\glfw3.jl:747 [inlined]\n",
      "     [10] pollevents(screen::GLMakie.Screen{GLFW.Window}, frame_state::Makie.TickState)\n",
      "        @ GLMakie C:\\Users\\lorenah\\.julia\\packages\\GLMakie\\njLYr\\src\\screen.jl:546\n",
      "     [11] on_demand_renderloop(screen::GLMakie.Screen{GLFW.Window})\n",
      "        @ GLMakie C:\\Users\\lorenah\\.julia\\packages\\GLMakie\\njLYr\\src\\screen.jl:1038\n",
      "     [12] renderloop(screen::GLMakie.Screen{GLFW.Window})\n",
      "        @ GLMakie C:\\Users\\lorenah\\.julia\\packages\\GLMakie\\njLYr\\src\\screen.jl:1066\n",
      "     [13] (::GLMakie.var\"#79#80\"{GLMakie.Screen{GLFW.Window}})()\n",
      "        @ GLMakie C:\\Users\\lorenah\\.julia\\packages\\GLMakie\\njLYr\\src\\screen.jl:927\n",
      "\n",
      "Stacktrace:\n",
      "  [1] wait(t::Task)\n",
      "    @ Base .\\task.jl:370\n",
      "  [2] wait(x::GLMakie.Screen{GLFW.Window})\n",
      "    @ GLMakie C:\\Users\\lorenah\\.julia\\packages\\GLMakie\\njLYr\\src\\screen.jl:551\n",
      "  [3] #stop_renderloop!#81\n",
      "    @ C:\\Users\\lorenah\\.julia\\packages\\GLMakie\\njLYr\\src\\screen.jl:951 [inlined]\n",
      "  [4] singleton_screen(debugging::Bool)\n",
      "    @ GLMakie C:\\Users\\lorenah\\.julia\\packages\\GLMakie\\njLYr\\src\\screen.jl:381\n",
      "  [5] GLMakie.Screen(scene::Scene, config::GLMakie.ScreenConfig; visible::Nothing, start_renderloop::Bool)\n",
      "    @ GLMakie C:\\Users\\lorenah\\.julia\\packages\\GLMakie\\njLYr\\src\\screen.jl:517\n",
      "  [6] GLMakie.Screen(scene::Scene, config::GLMakie.ScreenConfig)\n",
      "    @ GLMakie C:\\Users\\lorenah\\.julia\\packages\\GLMakie\\njLYr\\src\\screen.jl:515\n",
      "  [7] getscreen(::Module, ::Scene, ::Dict{Symbol, Any})\n",
      "    @ Makie C:\\Users\\lorenah\\.julia\\packages\\Makie\\dpDAM\\src\\display.jl:436\n",
      "  [8] display(figlike::Figure; backend::Module, inline::Bool, update::Bool, screen_config::@Kwargs{})\n",
      "    @ Makie C:\\Users\\lorenah\\.julia\\packages\\Makie\\dpDAM\\src\\display.jl:148\n",
      "  [9] display(figlike::Figure)\n",
      "    @ Makie C:\\Users\\lorenah\\.julia\\packages\\Makie\\dpDAM\\src\\display.jl:130\n",
      " [10] #invokelatest#2\n",
      "    @ .\\essentials.jl:1055 [inlined]\n",
      " [11] invokelatest\n",
      "    @ .\\essentials.jl:1052 [inlined]\n",
      " [12] (::VSCodeServer.var\"#217#218\"{VSCodeServer.NotebookRunCellArguments, String})()\n",
      "    @ VSCodeServer c:\\Users\\lorenah\\.vscode\\extensions\\julialang.language-julia-1.141.2\\scripts\\packages\\VSCodeServer\\src\\serve_notebook.jl:54\n",
      " [13] withpath(f::VSCodeServer.var\"#217#218\"{VSCodeServer.NotebookRunCellArguments, String}, path::String)\n",
      "    @ VSCodeServer c:\\Users\\lorenah\\.vscode\\extensions\\julialang.language-julia-1.141.2\\scripts\\packages\\VSCodeServer\\src\\repl.jl:276\n",
      " [14] notebook_runcell_request(conn::VSCodeServer.JSONRPC.JSONRPCEndpoint{Base.PipeEndpoint, Base.PipeEndpoint, VSCodeServer.JSON.Serializations.StandardSerialization}, params::VSCodeServer.NotebookRunCellArguments, token::VSCodeServer.CancellationTokens.CancellationToken)\n",
      "    @ VSCodeServer c:\\Users\\lorenah\\.vscode\\extensions\\julialang.language-julia-1.141.2\\scripts\\packages\\VSCodeServer\\src\\serve_notebook.jl:13\n",
      " [15] dispatch_msg(x::VSCodeServer.JSONRPC.JSONRPCEndpoint{Base.PipeEndpoint, Base.PipeEndpoint, VSCodeServer.JSON.Serializations.StandardSerialization}, dispatcher::VSCodeServer.JSONRPC.MsgDispatcher, msg::VSCodeServer.JSONRPC.Request)\n",
      "    @ VSCodeServer.JSONRPC c:\\Users\\lorenah\\.vscode\\extensions\\julialang.language-julia-1.141.2\\scripts\\packages\\JSONRPC\\src\\typed.jl:68\n",
      " [16] serve_notebook(pipename::String, debugger_pipename::String, outputchannel_logger::Base.CoreLogging.SimpleLogger; error_handler::var\"#5#10\"{String})\n",
      "    @ VSCodeServer c:\\Users\\lorenah\\.vscode\\extensions\\julialang.language-julia-1.141.2\\scripts\\packages\\VSCodeServer\\src\\serve_notebook.jl:147\n",
      " [17] top-level scope\n",
      "    @ c:\\Users\\lorenah\\.vscode\\extensions\\julialang.language-julia-1.141.2\\scripts\\notebook\\notebook.jl:35"
     ]
    }
   ],
   "source": [
    "unique_cycle_array = unique(cycle_numbers[1:end-1]) .+ 1 # Remove last cycle number, and shift so that the cycle numbers start from 1.\n",
    "\n",
    "f = Figure(size = (1000, 400))\n",
    "\n",
    "ax = Axis(f[1, 1], title = \"Round trip efficiency\", xlabel = \"Cycle number / -\", ylabel = \"Efficiency / %\",\n",
    ")\n",
    "scatterlines!(ax, unique_cycle_array, round_trip_efficiency[1:end-1]; linewidth = 4)\n",
    "\n",
    "ax = Axis(f[2, 1], title = \"Discharge capacity\", xlabel = \"Cycle number / -\", ylabel = \"Capacity / Ah\",\n",
    ")\n",
    "scatterlines!(ax, unique_cycle_array, discharge_capacity[1:end-1]; linewidth = 4)\n",
    "\n",
    "f"
   ]
  },
  {
   "cell_type": "markdown",
   "id": "1fc46e4d",
   "metadata": {},
   "source": [
    "## Summary and overview"
   ]
  },
  {
   "cell_type": "markdown",
   "id": "086e41b3",
   "metadata": {},
   "source": [
    "We learned how to run a simple simulation using default parameters and settings."
   ]
  },
  {
   "cell_type": "code",
   "execution_count": 32,
   "id": "c283f43b",
   "metadata": {},
   "outputs": [
    {
     "name": "stdout",
     "output_type": "stream",
     "text": [
      "✔️ Validation of ModelSettings passed: No issues found.\n",
      "──────────────────────────────────────────────────\n",
      "✔️ Validation of CellParameters passed: No issues found.\n",
      "──────────────────────────────────────────────────\n",
      "✔️ Validation of CyclingProtocol passed: No issues found.\n",
      "──────────────────────────────────────────────────\n",
      "✔️ Validation of SimulationSettings passed: No issues found.\n",
      "──────────────────────────────────────────────────\n",
      "\u001b[92;1mJutul:\u001b[0m Simulating 2 hours, 12 minutes as 163 report steps\n"
     ]
    },
    {
     "name": "stderr",
     "output_type": "stream",
     "text": [
      "\u001b[32mProgress  12%|█████                                      |  ETA: 0:00:01\u001b[39m\u001b[K\n",
      "\n",
      "\u001b[32mProgress  30%|█████████████                              |  ETA: 0:00:00\u001b[39m\u001b[K\n",
      "\n",
      "\u001b[32mProgress  48%|█████████████████████                      |  ETA: 0:00:00\u001b[39m\u001b[K\n",
      "\n",
      "\u001b[32mProgress  63%|████████████████████████████               |  ETA: 0:00:00\u001b[39m\u001b[K\n",
      "\n",
      "\u001b[32mProgress  82%|████████████████████████████████████       |  ETA: 0:00:00\u001b[39m\u001b[K\n",
      "\n",
      "\u001b[32mProgress 100%|███████████████████████████████████████████| Time: 0:00:00\u001b[39m\u001b[K\n"
     ]
    },
    {
     "name": "stdout",
     "output_type": "stream",
     "text": [
      "╭────────────────┬───────────┬───────────────┬──────────╮\n",
      "│\u001b[1m Iteration type \u001b[0m│\u001b[1m  Avg/step \u001b[0m│\u001b[1m  Avg/ministep \u001b[0m│\u001b[1m    Total \u001b[0m│\n",
      "│\u001b[1m                \u001b[0m│\u001b[90m 146 steps \u001b[0m│\u001b[90m 146 ministeps \u001b[0m│\u001b[90m (wasted) \u001b[0m│\n",
      "├────────────────┼───────────┼───────────────┼──────────┤\n",
      "│\u001b[1m Newton         \u001b[0m│   2.32877 │       2.32877 │  340 (0) │\n",
      "│\u001b[1m Linearization  \u001b[0m│   3.32877 │       3.32877 │  486 (0) │\n",
      "│\u001b[1m Linear solver  \u001b[0m│   2.32877 │       2.32877 │  340 (0) │\n",
      "│\u001b[1m Precond apply  \u001b[0m│       0.0 │           0.0 │    0 (0) │\n",
      "╰────────────────┴───────────┴───────────────┴──────────╯\n",
      "╭───────────────┬────────┬────────────┬──────────╮\n",
      "│\u001b[1m Timing type   \u001b[0m│\u001b[1m   Each \u001b[0m│\u001b[1m   Relative \u001b[0m│\u001b[1m    Total \u001b[0m│\n",
      "│\u001b[1m               \u001b[0m│\u001b[90m     ms \u001b[0m│\u001b[90m Percentage \u001b[0m│\u001b[90m       ms \u001b[0m│\n",
      "├───────────────┼────────┼────────────┼──────────┤\n",
      "│\u001b[1m Properties    \u001b[0m│ 0.0681 │     3.62 % │  23.1377 │\n",
      "│\u001b[1m Equations     \u001b[0m│ 0.2871 │    21.80 % │ 139.5086 │\n",
      "│\u001b[1m Assembly      \u001b[0m│ 0.1204 │     9.14 % │  58.5148 │\n",
      "│\u001b[1m Linear solve  \u001b[0m│ 0.8450 │    44.89 % │ 287.2934 │\n",
      "│\u001b[1m Linear setup  \u001b[0m│ 0.0000 │     0.00 % │   0.0000 │\n",
      "│\u001b[1m Precond apply \u001b[0m│ 0.0000 │     0.00 % │   0.0000 │\n",
      "│\u001b[1m Update        \u001b[0m│ 0.1061 │     5.64 % │  36.0860 │\n",
      "│\u001b[1m Convergence   \u001b[0m│ 0.1208 │     9.17 % │  58.7014 │\n",
      "│\u001b[1m Input/Output  \u001b[0m│ 0.0475 │     1.08 % │   6.9330 │\n",
      "│\u001b[1m Other         \u001b[0m│ 0.0877 │     4.66 % │  29.8317 │\n",
      "├───────────────┼────────┼────────────┼──────────┤\n",
      "│\u001b[1m Total         \u001b[0m│ 1.8824 │   100.00 % │ 640.0066 │\n",
      "╰───────────────┴────────┴────────────┴──────────╯\n"
     ]
    },
    {
     "ename": "TaskFailedException",
     "evalue": "TaskFailedException\n\n    nested task error: GLFWError (PLATFORM_ERROR): WGL: Failed to make context current: The operation completed successfully. \n    Stacktrace:\n      [1] _ErrorCallbackWrapper(code::Int32, description::Cstring)\n        @ GLFW C:\\Users\\lorenah\\.julia\\packages\\GLFW\\a10jC\\src\\callback.jl:46\n      [2] MakeContextCurrent\n        @ C:\\Users\\lorenah\\.julia\\packages\\GLFW\\a10jC\\src\\glfw3.jl:835 [inlined]\n      [3] native_switch_context!\n        @ C:\\Users\\lorenah\\.julia\\packages\\GLMakie\\njLYr\\src\\glwindow.jl:223 [inlined]\n      [4] switch_context!\n        @ C:\\Users\\lorenah\\.julia\\packages\\ShaderAbstractions\\BCZHP\\src\\context.jl:51 [inlined]\n      [5] (::GLMakie.var\"#windowsizecb#168\"{Scene, GLMakie.Screen{GLFW.Window}})(window::GLFW.Window, width::Int32, height::Int32)\n        @ GLMakie C:\\Users\\lorenah\\.julia\\packages\\GLMakie\\njLYr\\src\\events.jl:52\n      [6] (::GLMakie.var\"#167#169\"{GLMakie.var\"#windowsizecb#168\"{Scene, GLMakie.Screen{GLFW.Window}}})(win::GLFW.Window, w::Int32, h::Int32)\n        @ GLMakie C:\\Users\\lorenah\\.julia\\packages\\GLMakie\\njLYr\\src\\events.jl:75\n      [7] _WindowSizeCallbackWrapper(window::GLFW.Window, width::Int32, height::Int32)\n        @ GLFW C:\\Users\\lorenah\\.julia\\packages\\GLFW\\a10jC\\src\\callback.jl:46\n      [8] macro expansion\n        @ C:\\Users\\lorenah\\.julia\\packages\\GLFW\\a10jC\\src\\GLFW.jl:34 [inlined]\n      [9] PollEvents\n        @ C:\\Users\\lorenah\\.julia\\packages\\GLFW\\a10jC\\src\\glfw3.jl:747 [inlined]\n     [10] pollevents(screen::GLMakie.Screen{GLFW.Window}, frame_state::Makie.TickState)\n        @ GLMakie C:\\Users\\lorenah\\.julia\\packages\\GLMakie\\njLYr\\src\\screen.jl:546\n     [11] on_demand_renderloop(screen::GLMakie.Screen{GLFW.Window})\n        @ GLMakie C:\\Users\\lorenah\\.julia\\packages\\GLMakie\\njLYr\\src\\screen.jl:1038\n     [12] renderloop(screen::GLMakie.Screen{GLFW.Window})\n        @ GLMakie C:\\Users\\lorenah\\.julia\\packages\\GLMakie\\njLYr\\src\\screen.jl:1066\n     [13] (::GLMakie.var\"#79#80\"{GLMakie.Screen{GLFW.Window}})()\n        @ GLMakie C:\\Users\\lorenah\\.julia\\packages\\GLMakie\\njLYr\\src\\screen.jl:927",
     "output_type": "error",
     "traceback": [
      "TaskFailedException\n",
      "\n",
      "    nested task error: GLFWError (PLATFORM_ERROR): WGL: Failed to make context current: The operation completed successfully. \n",
      "    Stacktrace:\n",
      "      [1] _ErrorCallbackWrapper(code::Int32, description::Cstring)\n",
      "        @ GLFW C:\\Users\\lorenah\\.julia\\packages\\GLFW\\a10jC\\src\\callback.jl:46\n",
      "      [2] MakeContextCurrent\n",
      "        @ C:\\Users\\lorenah\\.julia\\packages\\GLFW\\a10jC\\src\\glfw3.jl:835 [inlined]\n",
      "      [3] native_switch_context!\n",
      "        @ C:\\Users\\lorenah\\.julia\\packages\\GLMakie\\njLYr\\src\\glwindow.jl:223 [inlined]\n",
      "      [4] switch_context!\n",
      "        @ C:\\Users\\lorenah\\.julia\\packages\\ShaderAbstractions\\BCZHP\\src\\context.jl:51 [inlined]\n",
      "      [5] (::GLMakie.var\"#windowsizecb#168\"{Scene, GLMakie.Screen{GLFW.Window}})(window::GLFW.Window, width::Int32, height::Int32)\n",
      "        @ GLMakie C:\\Users\\lorenah\\.julia\\packages\\GLMakie\\njLYr\\src\\events.jl:52\n",
      "      [6] (::GLMakie.var\"#167#169\"{GLMakie.var\"#windowsizecb#168\"{Scene, GLMakie.Screen{GLFW.Window}}})(win::GLFW.Window, w::Int32, h::Int32)\n",
      "        @ GLMakie C:\\Users\\lorenah\\.julia\\packages\\GLMakie\\njLYr\\src\\events.jl:75\n",
      "      [7] _WindowSizeCallbackWrapper(window::GLFW.Window, width::Int32, height::Int32)\n",
      "        @ GLFW C:\\Users\\lorenah\\.julia\\packages\\GLFW\\a10jC\\src\\callback.jl:46\n",
      "      [8] macro expansion\n",
      "        @ C:\\Users\\lorenah\\.julia\\packages\\GLFW\\a10jC\\src\\GLFW.jl:34 [inlined]\n",
      "      [9] PollEvents\n",
      "        @ C:\\Users\\lorenah\\.julia\\packages\\GLFW\\a10jC\\src\\glfw3.jl:747 [inlined]\n",
      "     [10] pollevents(screen::GLMakie.Screen{GLFW.Window}, frame_state::Makie.TickState)\n",
      "        @ GLMakie C:\\Users\\lorenah\\.julia\\packages\\GLMakie\\njLYr\\src\\screen.jl:546\n",
      "     [11] on_demand_renderloop(screen::GLMakie.Screen{GLFW.Window})\n",
      "        @ GLMakie C:\\Users\\lorenah\\.julia\\packages\\GLMakie\\njLYr\\src\\screen.jl:1038\n",
      "     [12] renderloop(screen::GLMakie.Screen{GLFW.Window})\n",
      "        @ GLMakie C:\\Users\\lorenah\\.julia\\packages\\GLMakie\\njLYr\\src\\screen.jl:1066\n",
      "     [13] (::GLMakie.var\"#79#80\"{GLMakie.Screen{GLFW.Window}})()\n",
      "        @ GLMakie C:\\Users\\lorenah\\.julia\\packages\\GLMakie\\njLYr\\src\\screen.jl:927\n",
      "\n",
      "Stacktrace:\n",
      "  [1] wait(t::Task)\n",
      "    @ Base .\\task.jl:370\n",
      "  [2] wait(x::GLMakie.Screen{GLFW.Window})\n",
      "    @ GLMakie C:\\Users\\lorenah\\.julia\\packages\\GLMakie\\njLYr\\src\\screen.jl:551\n",
      "  [3] #stop_renderloop!#81\n",
      "    @ C:\\Users\\lorenah\\.julia\\packages\\GLMakie\\njLYr\\src\\screen.jl:951 [inlined]\n",
      "  [4] singleton_screen(debugging::Bool)\n",
      "    @ GLMakie C:\\Users\\lorenah\\.julia\\packages\\GLMakie\\njLYr\\src\\screen.jl:381\n",
      "  [5] GLMakie.Screen(scene::Scene, config::GLMakie.ScreenConfig; visible::Nothing, start_renderloop::Bool)\n",
      "    @ GLMakie C:\\Users\\lorenah\\.julia\\packages\\GLMakie\\njLYr\\src\\screen.jl:517\n",
      "  [6] GLMakie.Screen(scene::Scene, config::GLMakie.ScreenConfig)\n",
      "    @ GLMakie C:\\Users\\lorenah\\.julia\\packages\\GLMakie\\njLYr\\src\\screen.jl:515\n",
      "  [7] getscreen(::Module, ::Scene, ::Dict{Symbol, Any})\n",
      "    @ Makie C:\\Users\\lorenah\\.julia\\packages\\Makie\\dpDAM\\src\\display.jl:436\n",
      "  [8] display(figlike::Figure; backend::Module, inline::Bool, update::Bool, screen_config::@Kwargs{})\n",
      "    @ Makie C:\\Users\\lorenah\\.julia\\packages\\Makie\\dpDAM\\src\\display.jl:148\n",
      "  [9] display(figlike::Figure)\n",
      "    @ Makie C:\\Users\\lorenah\\.julia\\packages\\Makie\\dpDAM\\src\\display.jl:130\n",
      " [10] #invokelatest#2\n",
      "    @ .\\essentials.jl:1055 [inlined]\n",
      " [11] invokelatest\n",
      "    @ .\\essentials.jl:1052 [inlined]\n",
      " [12] (::VSCodeServer.var\"#217#218\"{VSCodeServer.NotebookRunCellArguments, String})()\n",
      "    @ VSCodeServer c:\\Users\\lorenah\\.vscode\\extensions\\julialang.language-julia-1.141.2\\scripts\\packages\\VSCodeServer\\src\\serve_notebook.jl:54\n",
      " [13] withpath(f::VSCodeServer.var\"#217#218\"{VSCodeServer.NotebookRunCellArguments, String}, path::String)\n",
      "    @ VSCodeServer c:\\Users\\lorenah\\.vscode\\extensions\\julialang.language-julia-1.141.2\\scripts\\packages\\VSCodeServer\\src\\repl.jl:276\n",
      " [14] notebook_runcell_request(conn::VSCodeServer.JSONRPC.JSONRPCEndpoint{Base.PipeEndpoint, Base.PipeEndpoint, VSCodeServer.JSON.Serializations.StandardSerialization}, params::VSCodeServer.NotebookRunCellArguments, token::VSCodeServer.CancellationTokens.CancellationToken)\n",
      "    @ VSCodeServer c:\\Users\\lorenah\\.vscode\\extensions\\julialang.language-julia-1.141.2\\scripts\\packages\\VSCodeServer\\src\\serve_notebook.jl:13\n",
      " [15] dispatch_msg(x::VSCodeServer.JSONRPC.JSONRPCEndpoint{Base.PipeEndpoint, Base.PipeEndpoint, VSCodeServer.JSON.Serializations.StandardSerialization}, dispatcher::VSCodeServer.JSONRPC.MsgDispatcher, msg::VSCodeServer.JSONRPC.Request)\n",
      "    @ VSCodeServer.JSONRPC c:\\Users\\lorenah\\.vscode\\extensions\\julialang.language-julia-1.141.2\\scripts\\packages\\JSONRPC\\src\\typed.jl:68\n",
      " [16] serve_notebook(pipename::String, debugger_pipename::String, outputchannel_logger::Base.CoreLogging.SimpleLogger; error_handler::var\"#5#10\"{String})\n",
      "    @ VSCodeServer c:\\Users\\lorenah\\.vscode\\extensions\\julialang.language-julia-1.141.2\\scripts\\packages\\VSCodeServer\\src\\serve_notebook.jl:147\n",
      " [17] top-level scope\n",
      "    @ c:\\Users\\lorenah\\.vscode\\extensions\\julialang.language-julia-1.141.2\\scripts\\notebook\\notebook.jl:35"
     ]
    }
   ],
   "source": [
    "using BattMo, GLMakie\n",
    "\n",
    "cell_parameters = load_cell_parameters(; from_file_path = \"default_sets/cell_parameters/Chen2020.json\")\n",
    "cycling_protocol = load_cycling_protocol(; from_file_path = \"default_sets/cycling_protocols/CCDischarge.json\")\n",
    "\n",
    "model_setup = LithiumIonBattery()\n",
    "\n",
    "sim = Simulation(model_setup, cell_parameters, cycling_protocol);\n",
    "\n",
    "output = solve(sim);\n",
    "\n",
    "plot_dashboard(output)"
   ]
  }
 ],
 "metadata": {
  "kernelspec": {
   "display_name": "Julia 1.11.5",
   "language": "julia",
   "name": "julia-1.11"
  },
  "language_info": {
   "file_extension": ".jl",
   "mimetype": "application/julia",
   "name": "julia",
   "version": "1.11.5"
  }
 },
 "nbformat": 4,
 "nbformat_minor": 5
}
