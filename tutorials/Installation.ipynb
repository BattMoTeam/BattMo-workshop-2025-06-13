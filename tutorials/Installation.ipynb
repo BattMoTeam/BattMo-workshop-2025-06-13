{
 "cells": [
  {
   "cell_type": "markdown",
   "id": "89b127ca",
   "metadata": {},
   "source": [
    "# Installation and setup"
   ]
  },
  {
   "cell_type": "markdown",
   "id": "dbfb3aac",
   "metadata": {},
   "source": [
    "In this pre-tutorial we'll check if Julia is correctly installed in VSCode and we'll install BattMo and configure your setup so that you'll have everything you need for going through the set of tutorials expecially setup for this workshop."
   ]
  },
  {
   "cell_type": "markdown",
   "id": "c3e4f399",
   "metadata": {},
   "source": [
    "Before going through the following instructions make sure that you have already run the *\"starter_script.jl\"* file so that the necessary package to use Julia in Jupyter notebook is installed."
   ]
  },
  {
   "cell_type": "markdown",
   "id": "e7b51ddb",
   "metadata": {},
   "source": [
    "### Step 1 - Check Julia installation"
   ]
  },
  {
   "cell_type": "markdown",
   "id": "0c6bf3de",
   "metadata": {},
   "source": [
    "On the top right corner, click on \"Select Kernel\" and select \"Jupyter Kernel\" and then select the newest Julia executable. Check if it works by running the following code."
   ]
  },
  {
   "cell_type": "code",
   "execution_count": 1,
   "id": "99a27d8a",
   "metadata": {},
   "outputs": [
    {
     "data": {
      "text/plain": [
       "4"
      ]
     },
     "execution_count": 1,
     "metadata": {},
     "output_type": "execute_result"
    }
   ],
   "source": [
    "2 + 2"
   ]
  },
  {
   "cell_type": "markdown",
   "id": "1af2a2b0",
   "metadata": {},
   "source": [
    "### Step 2 - Activate Julia environment"
   ]
  },
  {
   "cell_type": "markdown",
   "id": "5100f8c6",
   "metadata": {},
   "source": [
    "By running the \"starter_script.jl\" file you've already created an environment within your current working folder. In order to use the environment within this notebook we need to activate it. We can do this by running the following script."
   ]
  },
  {
   "cell_type": "code",
   "execution_count": 3,
   "id": "876aa065",
   "metadata": {},
   "outputs": [
    {
     "name": "stderr",
     "output_type": "stream",
     "text": [
      "\u001b[32m\u001b[1m  Activating\u001b[22m\u001b[39m project at `c:\\Users\\lorenah\\Documents\\Repositories\\BattMo-workshop-2025-06-13`\n"
     ]
    }
   ],
   "source": [
    "import Pkg\n",
    "Pkg.activate(\"../\") # Activates a new environment in the current folder\n",
    "Pkg.instantiate()  # Installs the packages listed in Project.toml if any"
   ]
  },
  {
   "cell_type": "markdown",
   "id": "dcc950d4",
   "metadata": {},
   "source": [
    "The environment dependencies are managed by a Project.toml and Manifest.toml file that are automatically created and updated when adding packages or when altering your environment. The Project.toml represents a list of all the packages in the environment (similar to requirement.txt file in with pip in Python). The Manifest file stores more detailed information, like the secondary dependencies (the packages that the environment packages depend on)."
   ]
  },
  {
   "cell_type": "markdown",
   "id": "d1a8f774",
   "metadata": {},
   "source": [
    "### Step 3 - Install BattMo and other packages"
   ]
  },
  {
   "cell_type": "markdown",
   "id": "13236e1a",
   "metadata": {},
   "source": [
    "Let's install BattMo and some other packages that we need in our environment."
   ]
  },
  {
   "cell_type": "code",
   "execution_count": 4,
   "id": "f3e48984",
   "metadata": {},
   "outputs": [
    {
     "name": "stderr",
     "output_type": "stream",
     "text": [
      "\u001b[32m\u001b[1m    Updating\u001b[22m\u001b[39m git-repo `https://github.com/BattMoTeam/BattMo.jl.git`\n",
      "\u001b[32m\u001b[1m   Resolving\u001b[22m\u001b[39m package versions...\n",
      "\u001b[32m\u001b[1m  No Changes\u001b[22m\u001b[39m to `C:\\Users\\lorenah\\Documents\\Repositories\\BattMo-workshop-2025-06-13\\Project.toml`\n",
      "\u001b[32m\u001b[1m  No Changes\u001b[22m\u001b[39m to `C:\\Users\\lorenah\\Documents\\Repositories\\BattMo-workshop-2025-06-13\\Manifest.toml`\n",
      "\u001b[32m\u001b[1m   Resolving\u001b[22m\u001b[39m package versions...\n",
      "\u001b[32m\u001b[1m  No Changes\u001b[22m\u001b[39m to `C:\\Users\\lorenah\\Documents\\Repositories\\BattMo-workshop-2025-06-13\\Project.toml`\n",
      "\u001b[32m\u001b[1m  No Changes\u001b[22m\u001b[39m to `C:\\Users\\lorenah\\Documents\\Repositories\\BattMo-workshop-2025-06-13\\Manifest.toml`\n"
     ]
    }
   ],
   "source": [
    "Pkg.add(Pkg.PackageSpec(name=\"BattMo\", rev=\"main\"))\n",
    "Pkg.add(\"GLMakie\") # For data visualization and plotting\n",
    "Pkg.precompile()"
   ]
  },
  {
   "cell_type": "markdown",
   "id": "d06a3fc3",
   "metadata": {},
   "source": [
    "Now you can see that the packages have been added to you Project and Manifest files."
   ]
  }
 ],
 "metadata": {
  "kernelspec": {
   "display_name": "Julia 1.11.3",
   "language": "julia",
   "name": "julia-1.11"
  },
  "language_info": {
   "file_extension": ".jl",
   "mimetype": "application/julia",
   "name": "julia",
   "version": "1.11.3"
  }
 },
 "nbformat": 4,
 "nbformat_minor": 5
}
